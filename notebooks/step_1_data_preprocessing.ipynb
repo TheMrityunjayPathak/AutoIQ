{
 "cells": [
  {
   "cell_type": "markdown",
   "id": "a6914225-b8ea-48b9-88a4-6784a2631238",
   "metadata": {},
   "source": [
    "### Importing Libraries\n",
    "\n",
    "---"
   ]
  },
  {
   "cell_type": "code",
   "execution_count": 1,
   "id": "3bbf5be2-0ba6-4e8e-83d7-f5b31e094db4",
   "metadata": {},
   "outputs": [],
   "source": [
    "import os\n",
    "import sys\n",
    "import numpy as np\n",
    "import pandas as pd\n",
    "import matplotlib.pyplot as plt\n",
    "import seaborn as sns"
   ]
  },
  {
   "cell_type": "markdown",
   "id": "cd897633-3cf3-41cd-967c-e7fd2adf9233",
   "metadata": {},
   "source": [
    "### Adding `utils` to `PYTHONPATH`\n",
    "\n",
    "---"
   ]
  },
  {
   "cell_type": "code",
   "execution_count": 2,
   "id": "f8edbc86-0ed9-47b7-8aef-f5c82ddd12f0",
   "metadata": {},
   "outputs": [],
   "source": [
    "sys.path.append(os.path.abspath(\"../utils\"))"
   ]
  },
  {
   "cell_type": "markdown",
   "id": "332a0252-2477-49cc-9496-e076836043ef",
   "metadata": {},
   "source": [
    "### Reading CSV File\n",
    "\n",
    "---"
   ]
  },
  {
   "cell_type": "code",
   "execution_count": 3,
   "id": "9726e9f5-13d8-4cbe-b8c3-e68c3265d2b8",
   "metadata": {},
   "outputs": [
    {
     "data": {
      "text/html": [
       "<div>\n",
       "<style scoped>\n",
       "    .dataframe tbody tr th:only-of-type {\n",
       "        vertical-align: middle;\n",
       "    }\n",
       "\n",
       "    .dataframe tbody tr th {\n",
       "        vertical-align: top;\n",
       "    }\n",
       "\n",
       "    .dataframe thead th {\n",
       "        text-align: right;\n",
       "    }\n",
       "</style>\n",
       "<table border=\"1\" class=\"dataframe\">\n",
       "  <thead>\n",
       "    <tr style=\"text-align: right;\">\n",
       "      <th></th>\n",
       "      <th>model_name</th>\n",
       "      <th>km_driven</th>\n",
       "      <th>fuel_type</th>\n",
       "      <th>transmission</th>\n",
       "      <th>owner</th>\n",
       "      <th>price</th>\n",
       "      <th>link</th>\n",
       "      <th>engine_capacity</th>\n",
       "    </tr>\n",
       "  </thead>\n",
       "  <tbody>\n",
       "    <tr>\n",
       "      <th>0</th>\n",
       "      <td>2012 Maruti Wagon R 1.0</td>\n",
       "      <td>88.76k km</td>\n",
       "      <td>Petrol</td>\n",
       "      <td>Manual</td>\n",
       "      <td>1st owner</td>\n",
       "      <td>₹2.19 lakh</td>\n",
       "      <td>https://www.cars24.com/buy-used-maruti-wagon-r...</td>\n",
       "      <td>998cc</td>\n",
       "    </tr>\n",
       "    <tr>\n",
       "      <th>1</th>\n",
       "      <td>2016 Maruti Alto 800</td>\n",
       "      <td>17.92k km</td>\n",
       "      <td>Petrol</td>\n",
       "      <td>Manual</td>\n",
       "      <td>1st owner</td>\n",
       "      <td>₹2.66 lakh</td>\n",
       "      <td>https://www.cars24.com/buy-used-maruti-alto-80...</td>\n",
       "      <td>796cc</td>\n",
       "    </tr>\n",
       "    <tr>\n",
       "      <th>2</th>\n",
       "      <td>2014 Maruti Ertiga</td>\n",
       "      <td>9.94k km</td>\n",
       "      <td>Petrol</td>\n",
       "      <td>Manual</td>\n",
       "      <td>1st owner</td>\n",
       "      <td>₹4.96 lakh</td>\n",
       "      <td>https://www.cars24.com/buy-used-maruti-ertiga-...</td>\n",
       "      <td>1373cc</td>\n",
       "    </tr>\n",
       "    <tr>\n",
       "      <th>3</th>\n",
       "      <td>2016 Tata Tiago</td>\n",
       "      <td>67.34k km</td>\n",
       "      <td>Petrol</td>\n",
       "      <td>Manual</td>\n",
       "      <td>2nd owner</td>\n",
       "      <td>₹3.55 lakh</td>\n",
       "      <td>https://www.cars24.com/buy-used-tata-tiago-201...</td>\n",
       "      <td>1199cc</td>\n",
       "    </tr>\n",
       "    <tr>\n",
       "      <th>4</th>\n",
       "      <td>2023 Maruti New Wagon-R</td>\n",
       "      <td>30.39k km</td>\n",
       "      <td>Petrol</td>\n",
       "      <td>Manual</td>\n",
       "      <td>1st owner</td>\n",
       "      <td>₹5.30 lakh</td>\n",
       "      <td>https://www.cars24.com/buy-used-maruti-new-wag...</td>\n",
       "      <td>998cc</td>\n",
       "    </tr>\n",
       "  </tbody>\n",
       "</table>\n",
       "</div>"
      ],
      "text/plain": [
       "                model_name  km_driven fuel_type transmission      owner  \\\n",
       "0  2012 Maruti Wagon R 1.0  88.76k km    Petrol       Manual  1st owner   \n",
       "1     2016 Maruti Alto 800  17.92k km    Petrol       Manual  1st owner   \n",
       "2       2014 Maruti Ertiga   9.94k km    Petrol       Manual  1st owner   \n",
       "3          2016 Tata Tiago  67.34k km    Petrol       Manual  2nd owner   \n",
       "4  2023 Maruti New Wagon-R  30.39k km    Petrol       Manual  1st owner   \n",
       "\n",
       "        price                                               link  \\\n",
       "0  ₹2.19 lakh  https://www.cars24.com/buy-used-maruti-wagon-r...   \n",
       "1  ₹2.66 lakh  https://www.cars24.com/buy-used-maruti-alto-80...   \n",
       "2  ₹4.96 lakh  https://www.cars24.com/buy-used-maruti-ertiga-...   \n",
       "3  ₹3.55 lakh  https://www.cars24.com/buy-used-tata-tiago-201...   \n",
       "4  ₹5.30 lakh  https://www.cars24.com/buy-used-maruti-new-wag...   \n",
       "\n",
       "  engine_capacity  \n",
       "0           998cc  \n",
       "1           796cc  \n",
       "2          1373cc  \n",
       "3          1199cc  \n",
       "4           998cc  "
      ]
     },
     "execution_count": 3,
     "metadata": {},
     "output_type": "execute_result"
    }
   ],
   "source": [
    "# Importing load_csv function from read_data module\n",
    "from read_data import load_csv\n",
    "cars = load_csv('scrape_data', 'scrape_data.csv')\n",
    "cars.head()"
   ]
  }
 ],
 "metadata": {
  "kernelspec": {
   "display_name": "Python 3 (ipykernel)",
   "language": "python",
   "name": "python3"
  },
  "language_info": {
   "codemirror_mode": {
    "name": "ipython",
    "version": 3
   },
   "file_extension": ".py",
   "mimetype": "text/x-python",
   "name": "python",
   "nbconvert_exporter": "python",
   "pygments_lexer": "ipython3",
   "version": "3.13.0"
  }
 },
 "nbformat": 4,
 "nbformat_minor": 5
}
