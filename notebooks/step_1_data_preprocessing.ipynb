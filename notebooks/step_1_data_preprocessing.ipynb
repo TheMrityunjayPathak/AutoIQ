{
 "cells": [
  {
   "cell_type": "markdown",
   "id": "a6914225-b8ea-48b9-88a4-6784a2631238",
   "metadata": {},
   "source": [
    "### Importing Libraries\n",
    "\n",
    "---"
   ]
  },
  {
   "cell_type": "code",
   "execution_count": 1,
   "id": "3bbf5be2-0ba6-4e8e-83d7-f5b31e094db4",
   "metadata": {},
   "outputs": [],
   "source": [
    "import os\n",
    "import sys\n",
    "import numpy as np\n",
    "import pandas as pd\n",
    "import matplotlib.pyplot as plt\n",
    "import seaborn as sns"
   ]
  },
  {
   "cell_type": "markdown",
   "id": "cd897633-3cf3-41cd-967c-e7fd2adf9233",
   "metadata": {},
   "source": [
    "### Adding `utils` to `PYTHONPATH`\n",
    "\n",
    "---"
   ]
  },
  {
   "cell_type": "code",
   "execution_count": 2,
   "id": "f8edbc86-0ed9-47b7-8aef-f5c82ddd12f0",
   "metadata": {},
   "outputs": [],
   "source": [
    "sys.path.append(os.path.abspath(\"../utils\"))"
   ]
  },
  {
   "cell_type": "markdown",
   "id": "332a0252-2477-49cc-9496-e076836043ef",
   "metadata": {},
   "source": [
    "### Reading CSV File\n",
    "\n",
    "---"
   ]
  },
  {
   "cell_type": "code",
   "execution_count": 3,
   "id": "9726e9f5-13d8-4cbe-b8c3-e68c3265d2b8",
   "metadata": {},
   "outputs": [
    {
     "data": {
      "text/html": [
       "<div>\n",
       "<style scoped>\n",
       "    .dataframe tbody tr th:only-of-type {\n",
       "        vertical-align: middle;\n",
       "    }\n",
       "\n",
       "    .dataframe tbody tr th {\n",
       "        vertical-align: top;\n",
       "    }\n",
       "\n",
       "    .dataframe thead th {\n",
       "        text-align: right;\n",
       "    }\n",
       "</style>\n",
       "<table border=\"1\" class=\"dataframe\">\n",
       "  <thead>\n",
       "    <tr style=\"text-align: right;\">\n",
       "      <th></th>\n",
       "      <th>model_name</th>\n",
       "      <th>km_driven</th>\n",
       "      <th>fuel_type</th>\n",
       "      <th>transmission</th>\n",
       "      <th>owner</th>\n",
       "      <th>price</th>\n",
       "      <th>link</th>\n",
       "      <th>engine_capacity</th>\n",
       "    </tr>\n",
       "  </thead>\n",
       "  <tbody>\n",
       "    <tr>\n",
       "      <th>0</th>\n",
       "      <td>2012 Maruti Wagon R 1.0</td>\n",
       "      <td>88.76k km</td>\n",
       "      <td>Petrol</td>\n",
       "      <td>Manual</td>\n",
       "      <td>1st owner</td>\n",
       "      <td>₹2.19 lakh</td>\n",
       "      <td>https://www.cars24.com/buy-used-maruti-wagon-r...</td>\n",
       "      <td>998cc</td>\n",
       "    </tr>\n",
       "    <tr>\n",
       "      <th>1</th>\n",
       "      <td>2016 Maruti Alto 800</td>\n",
       "      <td>17.92k km</td>\n",
       "      <td>Petrol</td>\n",
       "      <td>Manual</td>\n",
       "      <td>1st owner</td>\n",
       "      <td>₹2.66 lakh</td>\n",
       "      <td>https://www.cars24.com/buy-used-maruti-alto-80...</td>\n",
       "      <td>796cc</td>\n",
       "    </tr>\n",
       "    <tr>\n",
       "      <th>2</th>\n",
       "      <td>2014 Maruti Ertiga</td>\n",
       "      <td>9.94k km</td>\n",
       "      <td>Petrol</td>\n",
       "      <td>Manual</td>\n",
       "      <td>1st owner</td>\n",
       "      <td>₹4.96 lakh</td>\n",
       "      <td>https://www.cars24.com/buy-used-maruti-ertiga-...</td>\n",
       "      <td>1373cc</td>\n",
       "    </tr>\n",
       "    <tr>\n",
       "      <th>3</th>\n",
       "      <td>2016 Tata Tiago</td>\n",
       "      <td>67.34k km</td>\n",
       "      <td>Petrol</td>\n",
       "      <td>Manual</td>\n",
       "      <td>2nd owner</td>\n",
       "      <td>₹3.55 lakh</td>\n",
       "      <td>https://www.cars24.com/buy-used-tata-tiago-201...</td>\n",
       "      <td>1199cc</td>\n",
       "    </tr>\n",
       "    <tr>\n",
       "      <th>4</th>\n",
       "      <td>2023 Maruti New Wagon-R</td>\n",
       "      <td>30.39k km</td>\n",
       "      <td>Petrol</td>\n",
       "      <td>Manual</td>\n",
       "      <td>1st owner</td>\n",
       "      <td>₹5.30 lakh</td>\n",
       "      <td>https://www.cars24.com/buy-used-maruti-new-wag...</td>\n",
       "      <td>998cc</td>\n",
       "    </tr>\n",
       "  </tbody>\n",
       "</table>\n",
       "</div>"
      ],
      "text/plain": [
       "                model_name  km_driven fuel_type transmission      owner  \\\n",
       "0  2012 Maruti Wagon R 1.0  88.76k km    Petrol       Manual  1st owner   \n",
       "1     2016 Maruti Alto 800  17.92k km    Petrol       Manual  1st owner   \n",
       "2       2014 Maruti Ertiga   9.94k km    Petrol       Manual  1st owner   \n",
       "3          2016 Tata Tiago  67.34k km    Petrol       Manual  2nd owner   \n",
       "4  2023 Maruti New Wagon-R  30.39k km    Petrol       Manual  1st owner   \n",
       "\n",
       "        price                                               link  \\\n",
       "0  ₹2.19 lakh  https://www.cars24.com/buy-used-maruti-wagon-r...   \n",
       "1  ₹2.66 lakh  https://www.cars24.com/buy-used-maruti-alto-80...   \n",
       "2  ₹4.96 lakh  https://www.cars24.com/buy-used-maruti-ertiga-...   \n",
       "3  ₹3.55 lakh  https://www.cars24.com/buy-used-tata-tiago-201...   \n",
       "4  ₹5.30 lakh  https://www.cars24.com/buy-used-maruti-new-wag...   \n",
       "\n",
       "  engine_capacity  \n",
       "0           998cc  \n",
       "1           796cc  \n",
       "2          1373cc  \n",
       "3          1199cc  \n",
       "4           998cc  "
      ]
     },
     "execution_count": 3,
     "metadata": {},
     "output_type": "execute_result"
    }
   ],
   "source": [
    "# Importing load_csv function from read_data module\n",
    "from read_data import load_csv\n",
    "cars = load_csv('scrape_data', 'scrape_data.csv')\n",
    "cars.head()"
   ]
  },
  {
   "cell_type": "markdown",
   "id": "adec2711-bb0c-4b14-b891-ac9f8ce51ff4",
   "metadata": {},
   "source": [
    "### Dropping Unnecessary Columns\n",
    "\n",
    "---"
   ]
  },
  {
   "cell_type": "code",
   "execution_count": 4,
   "id": "5d3b2259-cd39-4ba8-85de-32201bfa89ea",
   "metadata": {},
   "outputs": [],
   "source": [
    "cars.drop('link', axis=1, inplace=True)"
   ]
  },
  {
   "cell_type": "markdown",
   "id": "6385d928-ab90-484e-88cb-edb0854f7ccd",
   "metadata": {},
   "source": [
    "### Summary of the DataFrame\n",
    "\n",
    "---"
   ]
  },
  {
   "cell_type": "code",
   "execution_count": 5,
   "id": "85c9e5f8-c552-435d-8c9a-88867c010375",
   "metadata": {},
   "outputs": [
    {
     "name": "stdout",
     "output_type": "stream",
     "text": [
      "======================================================================\n",
      "                          DataFrame Summary                           \n",
      "======================================================================\n",
      "Shape: 2826 rows × 7 columns\n",
      "======================================================================\n",
      "Duplicate Rows: 0\n",
      "======================================================================\n",
      "Memory Usage: 1.20MB\n",
      "======================================================================\n",
      "Missing Values:\n",
      "                 Missing Values     %\n",
      "engine_capacity             182  6.44\n",
      "======================================================================\n",
      "DataFrame Info:\n",
      "<class 'pandas.core.frame.DataFrame'>\n",
      "RangeIndex: 2826 entries, 0 to 2825\n",
      "Data columns (total 7 columns):\n",
      " #   Column           Non-Null Count  Dtype \n",
      "---  ------           --------------  ----- \n",
      " 0   model_name       2826 non-null   object\n",
      " 1   km_driven        2826 non-null   object\n",
      " 2   fuel_type        2826 non-null   object\n",
      " 3   transmission     2826 non-null   object\n",
      " 4   owner            2826 non-null   object\n",
      " 5   price            2826 non-null   object\n",
      " 6   engine_capacity  2644 non-null   object\n",
      "dtypes: object(7)\n",
      "memory usage: 154.7+ KB\n",
      "======================================================================\n",
      "DataFrame Description:\n",
      "No numerical columns in the dataframe\n"
     ]
    }
   ],
   "source": [
    "# Importing dataframe_summary function from summary module\n",
    "from summary import dataframe_summary\n",
    "dataframe_summary(cars)"
   ]
  },
  {
   "cell_type": "markdown",
   "id": "a74580f5-1c43-43d0-8d5d-6b215002a319",
   "metadata": {},
   "source": [
    "### Cleaning `model_name` Column\n",
    "\n",
    "---"
   ]
  },
  {
   "cell_type": "code",
   "execution_count": 6,
   "id": "16d24ed2-8e72-460d-8c7d-104e4f562ed8",
   "metadata": {},
   "outputs": [
    {
     "data": {
      "text/plain": [
       "0    2012 Maruti Wagon R 1.0\n",
       "1       2016 Maruti Alto 800\n",
       "2         2014 Maruti Ertiga\n",
       "3            2016 Tata Tiago\n",
       "4    2023 Maruti New Wagon-R\n",
       "Name: model_name, dtype: object"
      ]
     },
     "execution_count": 6,
     "metadata": {},
     "output_type": "execute_result"
    }
   ],
   "source": [
    "# \"model_name\" contains multiple information about cars :\n",
    "# -> manufacturing year of cars (like 2019, 2021)\n",
    "# -> brand name of cars (like Maruti, Tata)\n",
    "# -> model name of cars (like Alto 800, Tiago)\n",
    "# So we will extract all these information from \"model_name\" column\n",
    "cars['model_name'].head()"
   ]
  },
  {
   "cell_type": "code",
   "execution_count": 7,
   "id": "31b008c5-b8bb-460e-bbdb-1b91bc3c7e91",
   "metadata": {},
   "outputs": [
    {
     "data": {
      "text/plain": [
       "0    2012\n",
       "1    2016\n",
       "2    2014\n",
       "3    2016\n",
       "4    2023\n",
       "Name: model_name, dtype: object"
      ]
     },
     "execution_count": 7,
     "metadata": {},
     "output_type": "execute_result"
    }
   ],
   "source": [
    "# manufacturing year of cars\n",
    "cars['model_name'].str.strip().str.split(' ', n=1).str.get(0).head()"
   ]
  },
  {
   "cell_type": "code",
   "execution_count": 8,
   "id": "a5daf4c5-9cf1-44bd-b574-e9fc8cd7e487",
   "metadata": {},
   "outputs": [
    {
     "data": {
      "text/plain": [
       "array(['2012', '2016', '2014', '2023', '2021', '2024', '2020', '2022',\n",
       "       '2018', '2025', '2019', '2017', '2015', '2013', '2011', '2010',\n",
       "       '2007'], dtype=object)"
      ]
     },
     "execution_count": 8,
     "metadata": {},
     "output_type": "execute_result"
    }
   ],
   "source": [
    "# Checking if there are any garbage values after extracting manufacturing year details\n",
    "cars['model_name'].str.strip().str.split(' ', n=1).str.get(0).unique()"
   ]
  },
  {
   "cell_type": "code",
   "execution_count": 9,
   "id": "4a1bf264-c1f7-4fb5-9e0c-2f100d23c99f",
   "metadata": {},
   "outputs": [
    {
     "data": {
      "text/html": [
       "<div>\n",
       "<style scoped>\n",
       "    .dataframe tbody tr th:only-of-type {\n",
       "        vertical-align: middle;\n",
       "    }\n",
       "\n",
       "    .dataframe tbody tr th {\n",
       "        vertical-align: top;\n",
       "    }\n",
       "\n",
       "    .dataframe thead th {\n",
       "        text-align: right;\n",
       "    }\n",
       "</style>\n",
       "<table border=\"1\" class=\"dataframe\">\n",
       "  <thead>\n",
       "    <tr style=\"text-align: right;\">\n",
       "      <th></th>\n",
       "      <th>model_name</th>\n",
       "      <th>km_driven</th>\n",
       "      <th>fuel_type</th>\n",
       "      <th>transmission</th>\n",
       "      <th>owner</th>\n",
       "      <th>price</th>\n",
       "      <th>engine_capacity</th>\n",
       "      <th>year</th>\n",
       "    </tr>\n",
       "  </thead>\n",
       "  <tbody>\n",
       "    <tr>\n",
       "      <th>0</th>\n",
       "      <td>2012 Maruti Wagon R 1.0</td>\n",
       "      <td>88.76k km</td>\n",
       "      <td>Petrol</td>\n",
       "      <td>Manual</td>\n",
       "      <td>1st owner</td>\n",
       "      <td>₹2.19 lakh</td>\n",
       "      <td>998cc</td>\n",
       "      <td>2012</td>\n",
       "    </tr>\n",
       "    <tr>\n",
       "      <th>1</th>\n",
       "      <td>2016 Maruti Alto 800</td>\n",
       "      <td>17.92k km</td>\n",
       "      <td>Petrol</td>\n",
       "      <td>Manual</td>\n",
       "      <td>1st owner</td>\n",
       "      <td>₹2.66 lakh</td>\n",
       "      <td>796cc</td>\n",
       "      <td>2016</td>\n",
       "    </tr>\n",
       "    <tr>\n",
       "      <th>2</th>\n",
       "      <td>2014 Maruti Ertiga</td>\n",
       "      <td>9.94k km</td>\n",
       "      <td>Petrol</td>\n",
       "      <td>Manual</td>\n",
       "      <td>1st owner</td>\n",
       "      <td>₹4.96 lakh</td>\n",
       "      <td>1373cc</td>\n",
       "      <td>2014</td>\n",
       "    </tr>\n",
       "    <tr>\n",
       "      <th>3</th>\n",
       "      <td>2016 Tata Tiago</td>\n",
       "      <td>67.34k km</td>\n",
       "      <td>Petrol</td>\n",
       "      <td>Manual</td>\n",
       "      <td>2nd owner</td>\n",
       "      <td>₹3.55 lakh</td>\n",
       "      <td>1199cc</td>\n",
       "      <td>2016</td>\n",
       "    </tr>\n",
       "    <tr>\n",
       "      <th>4</th>\n",
       "      <td>2023 Maruti New Wagon-R</td>\n",
       "      <td>30.39k km</td>\n",
       "      <td>Petrol</td>\n",
       "      <td>Manual</td>\n",
       "      <td>1st owner</td>\n",
       "      <td>₹5.30 lakh</td>\n",
       "      <td>998cc</td>\n",
       "      <td>2023</td>\n",
       "    </tr>\n",
       "  </tbody>\n",
       "</table>\n",
       "</div>"
      ],
      "text/plain": [
       "                model_name  km_driven fuel_type transmission      owner  \\\n",
       "0  2012 Maruti Wagon R 1.0  88.76k km    Petrol       Manual  1st owner   \n",
       "1     2016 Maruti Alto 800  17.92k km    Petrol       Manual  1st owner   \n",
       "2       2014 Maruti Ertiga   9.94k km    Petrol       Manual  1st owner   \n",
       "3          2016 Tata Tiago  67.34k km    Petrol       Manual  2nd owner   \n",
       "4  2023 Maruti New Wagon-R  30.39k km    Petrol       Manual  1st owner   \n",
       "\n",
       "        price engine_capacity  year  \n",
       "0  ₹2.19 lakh           998cc  2012  \n",
       "1  ₹2.66 lakh           796cc  2016  \n",
       "2  ₹4.96 lakh          1373cc  2014  \n",
       "3  ₹3.55 lakh          1199cc  2016  \n",
       "4  ₹5.30 lakh           998cc  2023  "
      ]
     },
     "execution_count": 9,
     "metadata": {},
     "output_type": "execute_result"
    }
   ],
   "source": [
    "# Creating \"year\" column to keep details about manufacturing year of cars\n",
    "cars['year'] = cars['model_name'].str.strip().str.split(' ', n=1).str.get(0).astype(int)\n",
    "cars.head()"
   ]
  },
  {
   "cell_type": "code",
   "execution_count": 10,
   "id": "5c7cdffa-c592-4a77-8f7f-ead5481659ee",
   "metadata": {},
   "outputs": [
    {
     "data": {
      "text/plain": [
       "0    Maruti\n",
       "1    Maruti\n",
       "2    Maruti\n",
       "3      Tata\n",
       "4    Maruti\n",
       "Name: model_name, dtype: object"
      ]
     },
     "execution_count": 10,
     "metadata": {},
     "output_type": "execute_result"
    }
   ],
   "source": [
    "# brand name of cars\n",
    "cars['model_name'].str.strip().str.split(' ').str.get(1).head()"
   ]
  },
  {
   "cell_type": "code",
   "execution_count": 11,
   "id": "79281ce7-f083-4d2f-ae3f-2c5485d08bb1",
   "metadata": {},
   "outputs": [
    {
     "data": {
      "text/plain": [
       "array(['Maruti', 'Tata', 'Nissan', 'Renault', 'Hyundai', 'Honda', 'KIA',\n",
       "       'MG', 'Ford', 'Skoda', 'Volkswagen', 'Mahindra', 'Toyota', 'Jeep',\n",
       "       'Datsun', 'Mercedes', 'Audi', 'BMW', 'Jaguar', 'Landrover',\n",
       "       'Volvo', 'Chevrolet', 'Force', 'Fiat', 'Premier', 'Mini',\n",
       "       'Mitsubishi', 'Ssangyong', 'CITROEN', 'Porsche'], dtype=object)"
      ]
     },
     "execution_count": 11,
     "metadata": {},
     "output_type": "execute_result"
    }
   ],
   "source": [
    "# Checking if there are any garbage values after extracting brand name details\n",
    "cars['model_name'].str.strip().str.split(' ').str.get(1).unique()"
   ]
  },
  {
   "cell_type": "code",
   "execution_count": 12,
   "id": "bb63d909-9624-4981-9968-ecb1dff8ee9c",
   "metadata": {},
   "outputs": [
    {
     "data": {
      "text/html": [
       "<div>\n",
       "<style scoped>\n",
       "    .dataframe tbody tr th:only-of-type {\n",
       "        vertical-align: middle;\n",
       "    }\n",
       "\n",
       "    .dataframe tbody tr th {\n",
       "        vertical-align: top;\n",
       "    }\n",
       "\n",
       "    .dataframe thead th {\n",
       "        text-align: right;\n",
       "    }\n",
       "</style>\n",
       "<table border=\"1\" class=\"dataframe\">\n",
       "  <thead>\n",
       "    <tr style=\"text-align: right;\">\n",
       "      <th></th>\n",
       "      <th>model_name</th>\n",
       "      <th>km_driven</th>\n",
       "      <th>fuel_type</th>\n",
       "      <th>transmission</th>\n",
       "      <th>owner</th>\n",
       "      <th>price</th>\n",
       "      <th>engine_capacity</th>\n",
       "      <th>year</th>\n",
       "      <th>brand</th>\n",
       "    </tr>\n",
       "  </thead>\n",
       "  <tbody>\n",
       "    <tr>\n",
       "      <th>0</th>\n",
       "      <td>2012 Maruti Wagon R 1.0</td>\n",
       "      <td>88.76k km</td>\n",
       "      <td>Petrol</td>\n",
       "      <td>Manual</td>\n",
       "      <td>1st owner</td>\n",
       "      <td>₹2.19 lakh</td>\n",
       "      <td>998cc</td>\n",
       "      <td>2012</td>\n",
       "      <td>Maruti</td>\n",
       "    </tr>\n",
       "    <tr>\n",
       "      <th>1</th>\n",
       "      <td>2016 Maruti Alto 800</td>\n",
       "      <td>17.92k km</td>\n",
       "      <td>Petrol</td>\n",
       "      <td>Manual</td>\n",
       "      <td>1st owner</td>\n",
       "      <td>₹2.66 lakh</td>\n",
       "      <td>796cc</td>\n",
       "      <td>2016</td>\n",
       "      <td>Maruti</td>\n",
       "    </tr>\n",
       "    <tr>\n",
       "      <th>2</th>\n",
       "      <td>2014 Maruti Ertiga</td>\n",
       "      <td>9.94k km</td>\n",
       "      <td>Petrol</td>\n",
       "      <td>Manual</td>\n",
       "      <td>1st owner</td>\n",
       "      <td>₹4.96 lakh</td>\n",
       "      <td>1373cc</td>\n",
       "      <td>2014</td>\n",
       "      <td>Maruti</td>\n",
       "    </tr>\n",
       "    <tr>\n",
       "      <th>3</th>\n",
       "      <td>2016 Tata Tiago</td>\n",
       "      <td>67.34k km</td>\n",
       "      <td>Petrol</td>\n",
       "      <td>Manual</td>\n",
       "      <td>2nd owner</td>\n",
       "      <td>₹3.55 lakh</td>\n",
       "      <td>1199cc</td>\n",
       "      <td>2016</td>\n",
       "      <td>Tata</td>\n",
       "    </tr>\n",
       "    <tr>\n",
       "      <th>4</th>\n",
       "      <td>2023 Maruti New Wagon-R</td>\n",
       "      <td>30.39k km</td>\n",
       "      <td>Petrol</td>\n",
       "      <td>Manual</td>\n",
       "      <td>1st owner</td>\n",
       "      <td>₹5.30 lakh</td>\n",
       "      <td>998cc</td>\n",
       "      <td>2023</td>\n",
       "      <td>Maruti</td>\n",
       "    </tr>\n",
       "  </tbody>\n",
       "</table>\n",
       "</div>"
      ],
      "text/plain": [
       "                model_name  km_driven fuel_type transmission      owner  \\\n",
       "0  2012 Maruti Wagon R 1.0  88.76k km    Petrol       Manual  1st owner   \n",
       "1     2016 Maruti Alto 800  17.92k km    Petrol       Manual  1st owner   \n",
       "2       2014 Maruti Ertiga   9.94k km    Petrol       Manual  1st owner   \n",
       "3          2016 Tata Tiago  67.34k km    Petrol       Manual  2nd owner   \n",
       "4  2023 Maruti New Wagon-R  30.39k km    Petrol       Manual  1st owner   \n",
       "\n",
       "        price engine_capacity  year   brand  \n",
       "0  ₹2.19 lakh           998cc  2012  Maruti  \n",
       "1  ₹2.66 lakh           796cc  2016  Maruti  \n",
       "2  ₹4.96 lakh          1373cc  2014  Maruti  \n",
       "3  ₹3.55 lakh          1199cc  2016    Tata  \n",
       "4  ₹5.30 lakh           998cc  2023  Maruti  "
      ]
     },
     "execution_count": 12,
     "metadata": {},
     "output_type": "execute_result"
    }
   ],
   "source": [
    "# Creating \"brand\" column to keep details about brand name of cars\n",
    "cars['brand'] = cars['model_name'].str.split(' ').str.get(1)\n",
    "cars.head()"
   ]
  },
  {
   "cell_type": "code",
   "execution_count": 13,
   "id": "512683f5-c359-470a-85a3-2e836e0a0114",
   "metadata": {},
   "outputs": [
    {
     "data": {
      "text/plain": [
       "0    Wagon R 1.0\n",
       "1       Alto 800\n",
       "2         Ertiga\n",
       "3          Tiago\n",
       "4    New Wagon-R\n",
       "Name: model_name, dtype: object"
      ]
     },
     "execution_count": 13,
     "metadata": {},
     "output_type": "execute_result"
    }
   ],
   "source": [
    "# model name of cars\n",
    "cars['model_name'].str.strip().str.split(' ', n=2).str.get(-1).head()"
   ]
  },
  {
   "cell_type": "code",
   "execution_count": 14,
   "id": "bf9de260-fdcb-4c8b-b4d2-378bc15ffe2d",
   "metadata": {},
   "outputs": [
    {
     "data": {
      "text/plain": [
       "array(['Wagon R 1.0', 'Alto 800', 'Ertiga', 'Tiago', 'New Wagon-R',\n",
       "       'MAGNITE', 'Zest', 'Kwid', 'Xcent', 'Amaze', 'SONET', 'City',\n",
       "       'TRIBER', 'S PRESSO', 'Eon', 'NEXON', 'PUNCH', 'ASTOR', 'VENUE',\n",
       "       'Alto K10', 'FREESTYLE', 'Grand i10', 'Rapid', 'Polo', 'Baleno',\n",
       "       'i10', 'Verna', 'Thar', 'Swift', 'NEW I20', 'Swift Dzire', 'Ciaz',\n",
       "       'Harrier', 'XCENT PRIME', 'Celerio', 'KUSHAQ', 'WR-V', 'Bolero',\n",
       "       'TIGOR', 'Brio', 'AURA', 'GRAND I10 NIOS', 'NEW SANTRO', 'XUV300',\n",
       "       'Creta', 'Elite i20', 'URBAN CRUISER', 'ALTROZ', 'Kiger', 'SLAVIA',\n",
       "       'Grand Vitara', 'Duster', 'BREZZA', 'Micra Active', 'XUV500',\n",
       "       'Glanza', 'Compass', 'TUV300', 'Alto', 'Eeco', 'Jazz', 'SELTOS',\n",
       "       'VIRTUS', 'Celerio X', 'HECTOR', 'Micra', 'ALCAZAR', 'HECTOR PLUS',\n",
       "       'TAIGUN', 'Vitara Brezza', 'Redi Go', 'Figo Aspire', 'Ecosport',\n",
       "       'Figo', 'SCORPIO-N', 'FRONX', 'S Cross', 'NEW I20 N LINE',\n",
       "       'i20 Active', 'Benz GLE', 'Benz E Class', 'Q7', 'X5', 'Q3', 'X1',\n",
       "       '1 Series', 'Endeavour', 'M340i', 'Benz C Class', 'Ritz', 'Camry',\n",
       "       'Dzire', 'GLOSTER', 'YARIS', 'XJ L', 'Range Rover', 'Superb',\n",
       "       'Fortuner', 'Benz GLA Class', 'IGNIS', 'Benz CLA Class',\n",
       "       'GRAND CHEROKEE', 'Q5', 'S90', 'TIAGO NRG', 'i20', 'Kuv100',\n",
       "       'V 40', 'A6', 'TIGUAN', 'Benz A CLASS LIMOUSINE', 'XC 40',\n",
       "       '5 Series', 'Range Rover Evoque', 'MARAZZO', 'CARENS', '3 Series',\n",
       "       'Benz GLC CLASS', 'Etios', 'KUV 100 NXT', 'DISCOVERY SPORT',\n",
       "       'Safari', 'Wagon R Stingray', 'Vento', 'BOLERO NEO', 'New Figo',\n",
       "       'Fiesta', 'SX4', 'Indigo ECS', 'Civic', 'Ameo', 'Sunny', 'Curvv',\n",
       "       'A Star', 'Beat', 'Benz GL Class', 'E2O', 'EXTER', 'Go', 'Nano',\n",
       "       'Sail', 'Fabia', 'Motors Force One', 'Grand Punto', 'Santro Xing',\n",
       "       'BR-V', 'XL6', 'Classic', 'Rio', 'Spark', 'Indica V2',\n",
       "       'Cooper Countryman', 'Octavia', 'Linea', 'Go Plus', 'Laura',\n",
       "       'XUV700', 'Bolt', 'ELEVATE', 'Innova', 'A4', 'OMNI E', 'Kicks',\n",
       "       'Terrano', 'Mobilio', 'Cruze', 'Scorpio', 'Lodgy', 'Captur',\n",
       "       '7 Series', 'Pajero Sport', 'XF', 'XUV 3XO', 'New Elantra', 'Hexa',\n",
       "       'Corolla Altis', 'CRV', 'Tucson', 'Rexton', 'A3', 'E C3', 'Xylo',\n",
       "       'E20 Plus', 'NEXON EV', 'ZS EV', 'KONA ELECTRIC', 'Curvv EV',\n",
       "       'TIGOR EV', 'Benz A Class', 'Etios Liva', 'ALTURAS G4',\n",
       "       'VENUE N LINE', 'Innova Crysta', 'S60', 'RANGE ROVER VELAR', 'X7',\n",
       "       'Benz S Class', 'XC 90', 'Z4', 'Benz CLS Class', 'F- PACE',\n",
       "       'Benz GLC COUPE', 'X3', 'Lexus', 'Cayenne', 'Clubman',\n",
       "       'Range Rover Sport', 'CARNIVAL', '911', 'Cooper', '6 Series', 'XE',\n",
       "       'Benz Maybach S Class', 'X4', 'Accent', 'Discovery 4'],\n",
       "      dtype=object)"
      ]
     },
     "execution_count": 14,
     "metadata": {},
     "output_type": "execute_result"
    }
   ],
   "source": [
    "# Checking if there are any garbage values after extracting model name details\n",
    "cars['model_name'].str.strip().str.split(' ', n=2).str.get(-1).unique()"
   ]
  },
  {
   "cell_type": "code",
   "execution_count": 15,
   "id": "f02124d9-8af5-41a5-8886-b9aeb6f29174",
   "metadata": {},
   "outputs": [
    {
     "data": {
      "text/html": [
       "<div>\n",
       "<style scoped>\n",
       "    .dataframe tbody tr th:only-of-type {\n",
       "        vertical-align: middle;\n",
       "    }\n",
       "\n",
       "    .dataframe tbody tr th {\n",
       "        vertical-align: top;\n",
       "    }\n",
       "\n",
       "    .dataframe thead th {\n",
       "        text-align: right;\n",
       "    }\n",
       "</style>\n",
       "<table border=\"1\" class=\"dataframe\">\n",
       "  <thead>\n",
       "    <tr style=\"text-align: right;\">\n",
       "      <th></th>\n",
       "      <th>model_name</th>\n",
       "      <th>km_driven</th>\n",
       "      <th>fuel_type</th>\n",
       "      <th>transmission</th>\n",
       "      <th>owner</th>\n",
       "      <th>price</th>\n",
       "      <th>engine_capacity</th>\n",
       "      <th>year</th>\n",
       "      <th>brand</th>\n",
       "      <th>model</th>\n",
       "    </tr>\n",
       "  </thead>\n",
       "  <tbody>\n",
       "    <tr>\n",
       "      <th>0</th>\n",
       "      <td>2012 Maruti Wagon R 1.0</td>\n",
       "      <td>88.76k km</td>\n",
       "      <td>Petrol</td>\n",
       "      <td>Manual</td>\n",
       "      <td>1st owner</td>\n",
       "      <td>₹2.19 lakh</td>\n",
       "      <td>998cc</td>\n",
       "      <td>2012</td>\n",
       "      <td>Maruti</td>\n",
       "      <td>Wagon R 1.0</td>\n",
       "    </tr>\n",
       "    <tr>\n",
       "      <th>1</th>\n",
       "      <td>2016 Maruti Alto 800</td>\n",
       "      <td>17.92k km</td>\n",
       "      <td>Petrol</td>\n",
       "      <td>Manual</td>\n",
       "      <td>1st owner</td>\n",
       "      <td>₹2.66 lakh</td>\n",
       "      <td>796cc</td>\n",
       "      <td>2016</td>\n",
       "      <td>Maruti</td>\n",
       "      <td>Alto 800</td>\n",
       "    </tr>\n",
       "    <tr>\n",
       "      <th>2</th>\n",
       "      <td>2014 Maruti Ertiga</td>\n",
       "      <td>9.94k km</td>\n",
       "      <td>Petrol</td>\n",
       "      <td>Manual</td>\n",
       "      <td>1st owner</td>\n",
       "      <td>₹4.96 lakh</td>\n",
       "      <td>1373cc</td>\n",
       "      <td>2014</td>\n",
       "      <td>Maruti</td>\n",
       "      <td>Ertiga</td>\n",
       "    </tr>\n",
       "    <tr>\n",
       "      <th>3</th>\n",
       "      <td>2016 Tata Tiago</td>\n",
       "      <td>67.34k km</td>\n",
       "      <td>Petrol</td>\n",
       "      <td>Manual</td>\n",
       "      <td>2nd owner</td>\n",
       "      <td>₹3.55 lakh</td>\n",
       "      <td>1199cc</td>\n",
       "      <td>2016</td>\n",
       "      <td>Tata</td>\n",
       "      <td>Tiago</td>\n",
       "    </tr>\n",
       "    <tr>\n",
       "      <th>4</th>\n",
       "      <td>2023 Maruti New Wagon-R</td>\n",
       "      <td>30.39k km</td>\n",
       "      <td>Petrol</td>\n",
       "      <td>Manual</td>\n",
       "      <td>1st owner</td>\n",
       "      <td>₹5.30 lakh</td>\n",
       "      <td>998cc</td>\n",
       "      <td>2023</td>\n",
       "      <td>Maruti</td>\n",
       "      <td>New Wagon-R</td>\n",
       "    </tr>\n",
       "  </tbody>\n",
       "</table>\n",
       "</div>"
      ],
      "text/plain": [
       "                model_name  km_driven fuel_type transmission      owner  \\\n",
       "0  2012 Maruti Wagon R 1.0  88.76k km    Petrol       Manual  1st owner   \n",
       "1     2016 Maruti Alto 800  17.92k km    Petrol       Manual  1st owner   \n",
       "2       2014 Maruti Ertiga   9.94k km    Petrol       Manual  1st owner   \n",
       "3          2016 Tata Tiago  67.34k km    Petrol       Manual  2nd owner   \n",
       "4  2023 Maruti New Wagon-R  30.39k km    Petrol       Manual  1st owner   \n",
       "\n",
       "        price engine_capacity  year   brand        model  \n",
       "0  ₹2.19 lakh           998cc  2012  Maruti  Wagon R 1.0  \n",
       "1  ₹2.66 lakh           796cc  2016  Maruti     Alto 800  \n",
       "2  ₹4.96 lakh          1373cc  2014  Maruti       Ertiga  \n",
       "3  ₹3.55 lakh          1199cc  2016    Tata        Tiago  \n",
       "4  ₹5.30 lakh           998cc  2023  Maruti  New Wagon-R  "
      ]
     },
     "execution_count": 15,
     "metadata": {},
     "output_type": "execute_result"
    }
   ],
   "source": [
    "# Creating \"model\" column to keep details about model name of cars\n",
    "cars['model'] = cars['model_name'].str.strip().str.split(' ', n=2).str.get(-1)\n",
    "cars.head()"
   ]
  },
  {
   "cell_type": "code",
   "execution_count": 16,
   "id": "5b913b90-a0bd-4f11-a5e0-37972e3116aa",
   "metadata": {},
   "outputs": [],
   "source": [
    "# Now we don't need \"model_name\" column, so we can drop it\n",
    "cars.drop('model_name', axis=1, inplace=True)"
   ]
  },
  {
   "cell_type": "markdown",
   "id": "cc4f1a2e-2c42-47f1-89d4-505053f8d660",
   "metadata": {},
   "source": [
    "### Cleaning `km_driven` Column\n",
    "\n",
    "---"
   ]
  },
  {
   "cell_type": "code",
   "execution_count": 17,
   "id": "795a5bd8-fa12-42bb-a898-d39a4328d765",
   "metadata": {},
   "outputs": [
    {
     "data": {
      "text/plain": [
       "0    88.76k km\n",
       "1    17.92k km\n",
       "2     9.94k km\n",
       "3    67.34k km\n",
       "4    30.39k km\n",
       "Name: km_driven, dtype: object"
      ]
     },
     "execution_count": 17,
     "metadata": {},
     "output_type": "execute_result"
    }
   ],
   "source": [
    "# \"km_driven\" column contains \"km\" suffix\n",
    "# To convert \"km_driven\" into numerical datatype, we have to remove the \"km\" suffix\n",
    "cars['km_driven'].head()"
   ]
  },
  {
   "cell_type": "code",
   "execution_count": 18,
   "id": "cf84115e-ac22-4f55-8181-6d81874ceb2d",
   "metadata": {},
   "outputs": [
    {
     "data": {
      "text/plain": [
       "0    88.76k\n",
       "1    17.92k\n",
       "2     9.94k\n",
       "3    67.34k\n",
       "4    30.39k\n",
       "Name: km_driven, dtype: object"
      ]
     },
     "execution_count": 18,
     "metadata": {},
     "output_type": "execute_result"
    }
   ],
   "source": [
    "# Removing \"km\" suffix from \"km_driven\" column\n",
    "cars['km_driven'] = cars['km_driven'].str.split(' ').str.get(0)\n",
    "cars['km_driven'].head()"
   ]
  },
  {
   "cell_type": "code",
   "execution_count": 19,
   "id": "c3176d04-ecb6-46ef-bc78-676599fca074",
   "metadata": {},
   "outputs": [
    {
     "data": {
      "text/html": [
       "<div>\n",
       "<style scoped>\n",
       "    .dataframe tbody tr th:only-of-type {\n",
       "        vertical-align: middle;\n",
       "    }\n",
       "\n",
       "    .dataframe tbody tr th {\n",
       "        vertical-align: top;\n",
       "    }\n",
       "\n",
       "    .dataframe thead th {\n",
       "        text-align: right;\n",
       "    }\n",
       "</style>\n",
       "<table border=\"1\" class=\"dataframe\">\n",
       "  <thead>\n",
       "    <tr style=\"text-align: right;\">\n",
       "      <th></th>\n",
       "      <th>km_driven</th>\n",
       "      <th>fuel_type</th>\n",
       "      <th>transmission</th>\n",
       "      <th>owner</th>\n",
       "      <th>price</th>\n",
       "      <th>engine_capacity</th>\n",
       "      <th>year</th>\n",
       "      <th>brand</th>\n",
       "      <th>model</th>\n",
       "    </tr>\n",
       "  </thead>\n",
       "  <tbody>\n",
       "    <tr>\n",
       "      <th>1230</th>\n",
       "      <td>250</td>\n",
       "      <td>Petrol</td>\n",
       "      <td>Manual</td>\n",
       "      <td>1st owner</td>\n",
       "      <td>₹5.37 lakh</td>\n",
       "      <td>998cc</td>\n",
       "      <td>2024</td>\n",
       "      <td>Maruti</td>\n",
       "      <td>Alto K10</td>\n",
       "    </tr>\n",
       "    <tr>\n",
       "      <th>1509</th>\n",
       "      <td>677</td>\n",
       "      <td>Petrol</td>\n",
       "      <td>Auto</td>\n",
       "      <td>1st owner</td>\n",
       "      <td>₹6.00 lakh</td>\n",
       "      <td>NaN</td>\n",
       "      <td>2024</td>\n",
       "      <td>Renault</td>\n",
       "      <td>Kwid</td>\n",
       "    </tr>\n",
       "  </tbody>\n",
       "</table>\n",
       "</div>"
      ],
      "text/plain": [
       "     km_driven fuel_type transmission      owner       price engine_capacity  \\\n",
       "1230       250    Petrol       Manual  1st owner  ₹5.37 lakh           998cc   \n",
       "1509       677    Petrol         Auto  1st owner  ₹6.00 lakh             NaN   \n",
       "\n",
       "      year    brand     model  \n",
       "1230  2024   Maruti  Alto K10  \n",
       "1509  2024  Renault      Kwid  "
      ]
     },
     "execution_count": 19,
     "metadata": {},
     "output_type": "execute_result"
    }
   ],
   "source": [
    "# There are 2 values in \"km_driven\" column that don't have any suffix associated with them \n",
    "# It might be because of any data collection or web scraping error, so we must remove these values\n",
    "cars[cars['km_driven'].str.isdigit()]"
   ]
  },
  {
   "cell_type": "code",
   "execution_count": 20,
   "id": "0da6ab6c-6d78-4275-8f81-926cce248300",
   "metadata": {},
   "outputs": [],
   "source": [
    "# Removing values that don't have any suffix associated with them\n",
    "cars = cars[(cars['km_driven'].str.endswith('k')) | (cars['km_driven'].str.endswith('L'))]"
   ]
  },
  {
   "cell_type": "code",
   "execution_count": 21,
   "id": "8c599540-cba0-4b12-9bfb-10349600c263",
   "metadata": {},
   "outputs": [
    {
     "data": {
      "text/plain": [
       "array(['k', 'L'], dtype=object)"
      ]
     },
     "execution_count": 21,
     "metadata": {},
     "output_type": "execute_result"
    }
   ],
   "source": [
    "# \"km_driven\" column contains 2 types of suffix : \"k\" or \"L\"\n",
    "cars['km_driven'].str.get(-1).unique()"
   ]
  },
  {
   "cell_type": "code",
   "execution_count": 22,
   "id": "e0e82fa8-d57c-44a3-9f14-e489df7a61c9",
   "metadata": {},
   "outputs": [],
   "source": [
    "# Importing km_driven_cleaner function from helpers module\n",
    "from helpers import km_driven_cleaner"
   ]
  },
  {
   "cell_type": "code",
   "execution_count": 23,
   "id": "08f8ac0e-f2c8-4d64-a5be-5049d7e1901d",
   "metadata": {},
   "outputs": [
    {
     "data": {
      "text/html": [
       "<div>\n",
       "<style scoped>\n",
       "    .dataframe tbody tr th:only-of-type {\n",
       "        vertical-align: middle;\n",
       "    }\n",
       "\n",
       "    .dataframe tbody tr th {\n",
       "        vertical-align: top;\n",
       "    }\n",
       "\n",
       "    .dataframe thead th {\n",
       "        text-align: right;\n",
       "    }\n",
       "</style>\n",
       "<table border=\"1\" class=\"dataframe\">\n",
       "  <thead>\n",
       "    <tr style=\"text-align: right;\">\n",
       "      <th></th>\n",
       "      <th>km_driven</th>\n",
       "      <th>fuel_type</th>\n",
       "      <th>transmission</th>\n",
       "      <th>owner</th>\n",
       "      <th>price</th>\n",
       "      <th>engine_capacity</th>\n",
       "      <th>year</th>\n",
       "      <th>brand</th>\n",
       "      <th>model</th>\n",
       "    </tr>\n",
       "  </thead>\n",
       "  <tbody>\n",
       "    <tr>\n",
       "      <th>0</th>\n",
       "      <td>88760</td>\n",
       "      <td>Petrol</td>\n",
       "      <td>Manual</td>\n",
       "      <td>1st owner</td>\n",
       "      <td>₹2.19 lakh</td>\n",
       "      <td>998cc</td>\n",
       "      <td>2012</td>\n",
       "      <td>Maruti</td>\n",
       "      <td>Wagon R 1.0</td>\n",
       "    </tr>\n",
       "    <tr>\n",
       "      <th>1</th>\n",
       "      <td>17920</td>\n",
       "      <td>Petrol</td>\n",
       "      <td>Manual</td>\n",
       "      <td>1st owner</td>\n",
       "      <td>₹2.66 lakh</td>\n",
       "      <td>796cc</td>\n",
       "      <td>2016</td>\n",
       "      <td>Maruti</td>\n",
       "      <td>Alto 800</td>\n",
       "    </tr>\n",
       "    <tr>\n",
       "      <th>2</th>\n",
       "      <td>9940</td>\n",
       "      <td>Petrol</td>\n",
       "      <td>Manual</td>\n",
       "      <td>1st owner</td>\n",
       "      <td>₹4.96 lakh</td>\n",
       "      <td>1373cc</td>\n",
       "      <td>2014</td>\n",
       "      <td>Maruti</td>\n",
       "      <td>Ertiga</td>\n",
       "    </tr>\n",
       "    <tr>\n",
       "      <th>3</th>\n",
       "      <td>67340</td>\n",
       "      <td>Petrol</td>\n",
       "      <td>Manual</td>\n",
       "      <td>2nd owner</td>\n",
       "      <td>₹3.55 lakh</td>\n",
       "      <td>1199cc</td>\n",
       "      <td>2016</td>\n",
       "      <td>Tata</td>\n",
       "      <td>Tiago</td>\n",
       "    </tr>\n",
       "    <tr>\n",
       "      <th>4</th>\n",
       "      <td>30390</td>\n",
       "      <td>Petrol</td>\n",
       "      <td>Manual</td>\n",
       "      <td>1st owner</td>\n",
       "      <td>₹5.30 lakh</td>\n",
       "      <td>998cc</td>\n",
       "      <td>2023</td>\n",
       "      <td>Maruti</td>\n",
       "      <td>New Wagon-R</td>\n",
       "    </tr>\n",
       "  </tbody>\n",
       "</table>\n",
       "</div>"
      ],
      "text/plain": [
       "  km_driven fuel_type transmission      owner       price engine_capacity  \\\n",
       "0     88760    Petrol       Manual  1st owner  ₹2.19 lakh           998cc   \n",
       "1     17920    Petrol       Manual  1st owner  ₹2.66 lakh           796cc   \n",
       "2      9940    Petrol       Manual  1st owner  ₹4.96 lakh          1373cc   \n",
       "3     67340    Petrol       Manual  2nd owner  ₹3.55 lakh          1199cc   \n",
       "4     30390    Petrol       Manual  1st owner  ₹5.30 lakh           998cc   \n",
       "\n",
       "   year   brand        model  \n",
       "0  2012  Maruti  Wagon R 1.0  \n",
       "1  2016  Maruti     Alto 800  \n",
       "2  2014  Maruti       Ertiga  \n",
       "3  2016    Tata        Tiago  \n",
       "4  2023  Maruti  New Wagon-R  "
      ]
     },
     "execution_count": 23,
     "metadata": {},
     "output_type": "execute_result"
    }
   ],
   "source": [
    "# Applying km_driven_cleaner function on \"km_driven\" column\n",
    "cars.loc[:,'km_driven'] = cars.loc[:,'km_driven'].apply(km_driven_cleaner)\n",
    "cars.head()"
   ]
  },
  {
   "cell_type": "markdown",
   "id": "72276064-dd17-40d0-9829-555bc6678523",
   "metadata": {},
   "source": [
    "### Cleaning `fuel_type` Column\n",
    "\n",
    "---"
   ]
  },
  {
   "cell_type": "code",
   "execution_count": 24,
   "id": "4d77d054-64f0-4a99-82d8-b2f1cc804a91",
   "metadata": {},
   "outputs": [
    {
     "data": {
      "text/plain": [
       "array(['Petrol', 'Diesel', 'CNG', 'Hybrid', 'Electric'], dtype=object)"
      ]
     },
     "execution_count": 24,
     "metadata": {},
     "output_type": "execute_result"
    }
   ],
   "source": [
    "# \"fuel_type\" column has nothing to clean, but to proceed without any error, we can strip the values to remove any extra spaces\n",
    "cars['fuel_type'] = cars['fuel_type'].str.strip()\n",
    "cars['fuel_type'].unique()"
   ]
  },
  {
   "cell_type": "markdown",
   "id": "8b19d72e-3345-478f-b064-9d7ee3c4518f",
   "metadata": {},
   "source": [
    "### Cleaning `owner` Column\n",
    "\n",
    "---"
   ]
  },
  {
   "cell_type": "code",
   "execution_count": 25,
   "id": "eb183528-ae1b-45ca-a5cf-1d7c2d5bfcab",
   "metadata": {},
   "outputs": [
    {
     "data": {
      "text/plain": [
       "array(['1st owner', '2nd owner', '3rd owner', '4th owner', '5th owner',\n",
       "       '6th owner'], dtype=object)"
      ]
     },
     "execution_count": 25,
     "metadata": {},
     "output_type": "execute_result"
    }
   ],
   "source": [
    "# \"owner\" column has nothing to clean, but to proceed without any error, we can strip the values to remove any extra spaces\n",
    "cars['owner'] = cars['owner'].str.strip()\n",
    "cars['owner'].unique()"
   ]
  },
  {
   "cell_type": "markdown",
   "id": "afff48bb-7c55-46ea-9c47-6e3e6eb84721",
   "metadata": {},
   "source": [
    "### Cleaning `transmission` Column\n",
    "\n",
    "---"
   ]
  },
  {
   "cell_type": "code",
   "execution_count": 26,
   "id": "0ac450f9-c57d-48c1-8e4c-293cbf40bc69",
   "metadata": {},
   "outputs": [
    {
     "data": {
      "text/plain": [
       "array(['Manual', 'Auto'], dtype=object)"
      ]
     },
     "execution_count": 26,
     "metadata": {},
     "output_type": "execute_result"
    }
   ],
   "source": [
    "# \"transmission\" column has nothing to clean, but to proceed without any error, we can strip the values to remove any extra spaces\n",
    "cars['transmission'] = cars['transmission'].str.strip()\n",
    "cars['transmission'].unique()"
   ]
  },
  {
   "cell_type": "code",
   "execution_count": 27,
   "id": "8dfdf375-0ba6-4d58-b46b-52f7d68f8a9c",
   "metadata": {},
   "outputs": [
    {
     "data": {
      "text/html": [
       "<div>\n",
       "<style scoped>\n",
       "    .dataframe tbody tr th:only-of-type {\n",
       "        vertical-align: middle;\n",
       "    }\n",
       "\n",
       "    .dataframe tbody tr th {\n",
       "        vertical-align: top;\n",
       "    }\n",
       "\n",
       "    .dataframe thead th {\n",
       "        text-align: right;\n",
       "    }\n",
       "</style>\n",
       "<table border=\"1\" class=\"dataframe\">\n",
       "  <thead>\n",
       "    <tr style=\"text-align: right;\">\n",
       "      <th></th>\n",
       "      <th>km_driven</th>\n",
       "      <th>fuel_type</th>\n",
       "      <th>transmission</th>\n",
       "      <th>owner</th>\n",
       "      <th>price</th>\n",
       "      <th>engine_capacity</th>\n",
       "      <th>year</th>\n",
       "      <th>brand</th>\n",
       "      <th>model</th>\n",
       "    </tr>\n",
       "  </thead>\n",
       "  <tbody>\n",
       "    <tr>\n",
       "      <th>0</th>\n",
       "      <td>88760</td>\n",
       "      <td>Petrol</td>\n",
       "      <td>Manual</td>\n",
       "      <td>1st owner</td>\n",
       "      <td>₹2.19 lakh</td>\n",
       "      <td>998cc</td>\n",
       "      <td>2012</td>\n",
       "      <td>Maruti</td>\n",
       "      <td>Wagon R 1.0</td>\n",
       "    </tr>\n",
       "    <tr>\n",
       "      <th>1</th>\n",
       "      <td>17920</td>\n",
       "      <td>Petrol</td>\n",
       "      <td>Manual</td>\n",
       "      <td>1st owner</td>\n",
       "      <td>₹2.66 lakh</td>\n",
       "      <td>796cc</td>\n",
       "      <td>2016</td>\n",
       "      <td>Maruti</td>\n",
       "      <td>Alto 800</td>\n",
       "    </tr>\n",
       "    <tr>\n",
       "      <th>2</th>\n",
       "      <td>9940</td>\n",
       "      <td>Petrol</td>\n",
       "      <td>Manual</td>\n",
       "      <td>1st owner</td>\n",
       "      <td>₹4.96 lakh</td>\n",
       "      <td>1373cc</td>\n",
       "      <td>2014</td>\n",
       "      <td>Maruti</td>\n",
       "      <td>Ertiga</td>\n",
       "    </tr>\n",
       "    <tr>\n",
       "      <th>3</th>\n",
       "      <td>67340</td>\n",
       "      <td>Petrol</td>\n",
       "      <td>Manual</td>\n",
       "      <td>2nd owner</td>\n",
       "      <td>₹3.55 lakh</td>\n",
       "      <td>1199cc</td>\n",
       "      <td>2016</td>\n",
       "      <td>Tata</td>\n",
       "      <td>Tiago</td>\n",
       "    </tr>\n",
       "    <tr>\n",
       "      <th>4</th>\n",
       "      <td>30390</td>\n",
       "      <td>Petrol</td>\n",
       "      <td>Manual</td>\n",
       "      <td>1st owner</td>\n",
       "      <td>₹5.30 lakh</td>\n",
       "      <td>998cc</td>\n",
       "      <td>2023</td>\n",
       "      <td>Maruti</td>\n",
       "      <td>New Wagon-R</td>\n",
       "    </tr>\n",
       "  </tbody>\n",
       "</table>\n",
       "</div>"
      ],
      "text/plain": [
       "  km_driven fuel_type transmission      owner       price engine_capacity  \\\n",
       "0     88760    Petrol       Manual  1st owner  ₹2.19 lakh           998cc   \n",
       "1     17920    Petrol       Manual  1st owner  ₹2.66 lakh           796cc   \n",
       "2      9940    Petrol       Manual  1st owner  ₹4.96 lakh          1373cc   \n",
       "3     67340    Petrol       Manual  2nd owner  ₹3.55 lakh          1199cc   \n",
       "4     30390    Petrol       Manual  1st owner  ₹5.30 lakh           998cc   \n",
       "\n",
       "   year   brand        model  \n",
       "0  2012  Maruti  Wagon R 1.0  \n",
       "1  2016  Maruti     Alto 800  \n",
       "2  2014  Maruti       Ertiga  \n",
       "3  2016    Tata        Tiago  \n",
       "4  2023  Maruti  New Wagon-R  "
      ]
     },
     "execution_count": 27,
     "metadata": {},
     "output_type": "execute_result"
    }
   ],
   "source": [
    "# \"transmission\" column contains 2 types of values : \"Auto\" and \"Manual\"\n",
    "# But Auto should be labeled as Automatic, which makes more sense, so we will update it\n",
    "cars['transmission'] = cars['transmission'].str.replace('Auto','Automatic')\n",
    "cars.head()"
   ]
  },
  {
   "cell_type": "markdown",
   "id": "305adf21-7246-49e4-b8fa-5cde4412f178",
   "metadata": {},
   "source": [
    "### Cleaning `price` Column\n",
    "\n",
    "---"
   ]
  },
  {
   "cell_type": "code",
   "execution_count": 28,
   "id": "0fc61f05-0f89-4509-92e2-5b61c1916602",
   "metadata": {},
   "outputs": [
    {
     "data": {
      "text/html": [
       "<div>\n",
       "<style scoped>\n",
       "    .dataframe tbody tr th:only-of-type {\n",
       "        vertical-align: middle;\n",
       "    }\n",
       "\n",
       "    .dataframe tbody tr th {\n",
       "        vertical-align: top;\n",
       "    }\n",
       "\n",
       "    .dataframe thead th {\n",
       "        text-align: right;\n",
       "    }\n",
       "</style>\n",
       "<table border=\"1\" class=\"dataframe\">\n",
       "  <thead>\n",
       "    <tr style=\"text-align: right;\">\n",
       "      <th></th>\n",
       "      <th>km_driven</th>\n",
       "      <th>fuel_type</th>\n",
       "      <th>transmission</th>\n",
       "      <th>owner</th>\n",
       "      <th>price</th>\n",
       "      <th>engine_capacity</th>\n",
       "      <th>year</th>\n",
       "      <th>brand</th>\n",
       "      <th>model</th>\n",
       "    </tr>\n",
       "  </thead>\n",
       "  <tbody>\n",
       "    <tr>\n",
       "      <th>0</th>\n",
       "      <td>88760</td>\n",
       "      <td>Petrol</td>\n",
       "      <td>Manual</td>\n",
       "      <td>1st owner</td>\n",
       "      <td>2.19 lakh</td>\n",
       "      <td>998cc</td>\n",
       "      <td>2012</td>\n",
       "      <td>Maruti</td>\n",
       "      <td>Wagon R 1.0</td>\n",
       "    </tr>\n",
       "    <tr>\n",
       "      <th>1</th>\n",
       "      <td>17920</td>\n",
       "      <td>Petrol</td>\n",
       "      <td>Manual</td>\n",
       "      <td>1st owner</td>\n",
       "      <td>2.66 lakh</td>\n",
       "      <td>796cc</td>\n",
       "      <td>2016</td>\n",
       "      <td>Maruti</td>\n",
       "      <td>Alto 800</td>\n",
       "    </tr>\n",
       "    <tr>\n",
       "      <th>2</th>\n",
       "      <td>9940</td>\n",
       "      <td>Petrol</td>\n",
       "      <td>Manual</td>\n",
       "      <td>1st owner</td>\n",
       "      <td>4.96 lakh</td>\n",
       "      <td>1373cc</td>\n",
       "      <td>2014</td>\n",
       "      <td>Maruti</td>\n",
       "      <td>Ertiga</td>\n",
       "    </tr>\n",
       "    <tr>\n",
       "      <th>3</th>\n",
       "      <td>67340</td>\n",
       "      <td>Petrol</td>\n",
       "      <td>Manual</td>\n",
       "      <td>2nd owner</td>\n",
       "      <td>3.55 lakh</td>\n",
       "      <td>1199cc</td>\n",
       "      <td>2016</td>\n",
       "      <td>Tata</td>\n",
       "      <td>Tiago</td>\n",
       "    </tr>\n",
       "    <tr>\n",
       "      <th>4</th>\n",
       "      <td>30390</td>\n",
       "      <td>Petrol</td>\n",
       "      <td>Manual</td>\n",
       "      <td>1st owner</td>\n",
       "      <td>5.30 lakh</td>\n",
       "      <td>998cc</td>\n",
       "      <td>2023</td>\n",
       "      <td>Maruti</td>\n",
       "      <td>New Wagon-R</td>\n",
       "    </tr>\n",
       "  </tbody>\n",
       "</table>\n",
       "</div>"
      ],
      "text/plain": [
       "  km_driven fuel_type transmission      owner      price engine_capacity  \\\n",
       "0     88760    Petrol       Manual  1st owner  2.19 lakh           998cc   \n",
       "1     17920    Petrol       Manual  1st owner  2.66 lakh           796cc   \n",
       "2      9940    Petrol       Manual  1st owner  4.96 lakh          1373cc   \n",
       "3     67340    Petrol       Manual  2nd owner  3.55 lakh          1199cc   \n",
       "4     30390    Petrol       Manual  1st owner  5.30 lakh           998cc   \n",
       "\n",
       "   year   brand        model  \n",
       "0  2012  Maruti  Wagon R 1.0  \n",
       "1  2016  Maruti     Alto 800  \n",
       "2  2014  Maruti       Ertiga  \n",
       "3  2016    Tata        Tiago  \n",
       "4  2023  Maruti  New Wagon-R  "
      ]
     },
     "execution_count": 28,
     "metadata": {},
     "output_type": "execute_result"
    }
   ],
   "source": [
    "# \"price\" column contains \"₹\" prefix\n",
    "# To convert \"price\" into numerical datatype, we have to remove the \"₹\" prefix\n",
    "cars['price'] = cars['price'].str.replace('₹','')\n",
    "cars.head()"
   ]
  },
  {
   "cell_type": "code",
   "execution_count": 29,
   "id": "415a298f-d8ab-4426-94cb-d3170d264341",
   "metadata": {},
   "outputs": [
    {
     "data": {
      "text/plain": [
       "array(['lakh', 'Crore'], dtype=object)"
      ]
     },
     "execution_count": 29,
     "metadata": {},
     "output_type": "execute_result"
    }
   ],
   "source": [
    "# \"price\" column contains 2 types of suffix : \"lakh\" or \"Crore\"\n",
    "cars['price'].str.split(' ').str.get(1).unique()"
   ]
  },
  {
   "cell_type": "code",
   "execution_count": 30,
   "id": "58f0fab8-e3a2-47d7-87bc-f75b818d1d9c",
   "metadata": {},
   "outputs": [],
   "source": [
    "# Importing price_cleaner function from helpers module\n",
    "from helpers import price_cleaner"
   ]
  },
  {
   "cell_type": "code",
   "execution_count": 31,
   "id": "5a0eb711-3135-48ae-9fbd-1931064a039e",
   "metadata": {},
   "outputs": [
    {
     "data": {
      "text/html": [
       "<div>\n",
       "<style scoped>\n",
       "    .dataframe tbody tr th:only-of-type {\n",
       "        vertical-align: middle;\n",
       "    }\n",
       "\n",
       "    .dataframe tbody tr th {\n",
       "        vertical-align: top;\n",
       "    }\n",
       "\n",
       "    .dataframe thead th {\n",
       "        text-align: right;\n",
       "    }\n",
       "</style>\n",
       "<table border=\"1\" class=\"dataframe\">\n",
       "  <thead>\n",
       "    <tr style=\"text-align: right;\">\n",
       "      <th></th>\n",
       "      <th>km_driven</th>\n",
       "      <th>fuel_type</th>\n",
       "      <th>transmission</th>\n",
       "      <th>owner</th>\n",
       "      <th>price</th>\n",
       "      <th>engine_capacity</th>\n",
       "      <th>year</th>\n",
       "      <th>brand</th>\n",
       "      <th>model</th>\n",
       "    </tr>\n",
       "  </thead>\n",
       "  <tbody>\n",
       "    <tr>\n",
       "      <th>0</th>\n",
       "      <td>88760</td>\n",
       "      <td>Petrol</td>\n",
       "      <td>Manual</td>\n",
       "      <td>1st owner</td>\n",
       "      <td>219000</td>\n",
       "      <td>998cc</td>\n",
       "      <td>2012</td>\n",
       "      <td>Maruti</td>\n",
       "      <td>Wagon R 1.0</td>\n",
       "    </tr>\n",
       "    <tr>\n",
       "      <th>1</th>\n",
       "      <td>17920</td>\n",
       "      <td>Petrol</td>\n",
       "      <td>Manual</td>\n",
       "      <td>1st owner</td>\n",
       "      <td>266000</td>\n",
       "      <td>796cc</td>\n",
       "      <td>2016</td>\n",
       "      <td>Maruti</td>\n",
       "      <td>Alto 800</td>\n",
       "    </tr>\n",
       "    <tr>\n",
       "      <th>2</th>\n",
       "      <td>9940</td>\n",
       "      <td>Petrol</td>\n",
       "      <td>Manual</td>\n",
       "      <td>1st owner</td>\n",
       "      <td>496000</td>\n",
       "      <td>1373cc</td>\n",
       "      <td>2014</td>\n",
       "      <td>Maruti</td>\n",
       "      <td>Ertiga</td>\n",
       "    </tr>\n",
       "    <tr>\n",
       "      <th>3</th>\n",
       "      <td>67340</td>\n",
       "      <td>Petrol</td>\n",
       "      <td>Manual</td>\n",
       "      <td>2nd owner</td>\n",
       "      <td>355000</td>\n",
       "      <td>1199cc</td>\n",
       "      <td>2016</td>\n",
       "      <td>Tata</td>\n",
       "      <td>Tiago</td>\n",
       "    </tr>\n",
       "    <tr>\n",
       "      <th>4</th>\n",
       "      <td>30390</td>\n",
       "      <td>Petrol</td>\n",
       "      <td>Manual</td>\n",
       "      <td>1st owner</td>\n",
       "      <td>530000</td>\n",
       "      <td>998cc</td>\n",
       "      <td>2023</td>\n",
       "      <td>Maruti</td>\n",
       "      <td>New Wagon-R</td>\n",
       "    </tr>\n",
       "  </tbody>\n",
       "</table>\n",
       "</div>"
      ],
      "text/plain": [
       "  km_driven fuel_type transmission      owner   price engine_capacity  year  \\\n",
       "0     88760    Petrol       Manual  1st owner  219000           998cc  2012   \n",
       "1     17920    Petrol       Manual  1st owner  266000           796cc  2016   \n",
       "2      9940    Petrol       Manual  1st owner  496000          1373cc  2014   \n",
       "3     67340    Petrol       Manual  2nd owner  355000          1199cc  2016   \n",
       "4     30390    Petrol       Manual  1st owner  530000           998cc  2023   \n",
       "\n",
       "    brand        model  \n",
       "0  Maruti  Wagon R 1.0  \n",
       "1  Maruti     Alto 800  \n",
       "2  Maruti       Ertiga  \n",
       "3    Tata        Tiago  \n",
       "4  Maruti  New Wagon-R  "
      ]
     },
     "execution_count": 31,
     "metadata": {},
     "output_type": "execute_result"
    }
   ],
   "source": [
    "# Applying price_cleaner function on \"price\" column\n",
    "cars.loc[:,'price'] = cars.loc[:,'price'].apply(price_cleaner)\n",
    "cars.head()"
   ]
  },
  {
   "cell_type": "markdown",
   "id": "155d65ce-462d-4f1b-bc64-089bf9619c1b",
   "metadata": {},
   "source": [
    "### Cleaning `engine_capacity` Column\n",
    "\n",
    "---"
   ]
  },
  {
   "cell_type": "code",
   "execution_count": 32,
   "id": "8025ea28-e251-4b46-90a7-6b1d0b3939c8",
   "metadata": {},
   "outputs": [
    {
     "data": {
      "text/html": [
       "<div>\n",
       "<style scoped>\n",
       "    .dataframe tbody tr th:only-of-type {\n",
       "        vertical-align: middle;\n",
       "    }\n",
       "\n",
       "    .dataframe tbody tr th {\n",
       "        vertical-align: top;\n",
       "    }\n",
       "\n",
       "    .dataframe thead th {\n",
       "        text-align: right;\n",
       "    }\n",
       "</style>\n",
       "<table border=\"1\" class=\"dataframe\">\n",
       "  <thead>\n",
       "    <tr style=\"text-align: right;\">\n",
       "      <th></th>\n",
       "      <th>km_driven</th>\n",
       "      <th>fuel_type</th>\n",
       "      <th>transmission</th>\n",
       "      <th>owner</th>\n",
       "      <th>price</th>\n",
       "      <th>engine_capacity</th>\n",
       "      <th>year</th>\n",
       "      <th>brand</th>\n",
       "      <th>model</th>\n",
       "    </tr>\n",
       "  </thead>\n",
       "  <tbody>\n",
       "    <tr>\n",
       "      <th>0</th>\n",
       "      <td>88760</td>\n",
       "      <td>Petrol</td>\n",
       "      <td>Manual</td>\n",
       "      <td>1st owner</td>\n",
       "      <td>219000</td>\n",
       "      <td>998.0</td>\n",
       "      <td>2012</td>\n",
       "      <td>Maruti</td>\n",
       "      <td>Wagon R 1.0</td>\n",
       "    </tr>\n",
       "    <tr>\n",
       "      <th>1</th>\n",
       "      <td>17920</td>\n",
       "      <td>Petrol</td>\n",
       "      <td>Manual</td>\n",
       "      <td>1st owner</td>\n",
       "      <td>266000</td>\n",
       "      <td>796.0</td>\n",
       "      <td>2016</td>\n",
       "      <td>Maruti</td>\n",
       "      <td>Alto 800</td>\n",
       "    </tr>\n",
       "    <tr>\n",
       "      <th>2</th>\n",
       "      <td>9940</td>\n",
       "      <td>Petrol</td>\n",
       "      <td>Manual</td>\n",
       "      <td>1st owner</td>\n",
       "      <td>496000</td>\n",
       "      <td>1373.0</td>\n",
       "      <td>2014</td>\n",
       "      <td>Maruti</td>\n",
       "      <td>Ertiga</td>\n",
       "    </tr>\n",
       "    <tr>\n",
       "      <th>3</th>\n",
       "      <td>67340</td>\n",
       "      <td>Petrol</td>\n",
       "      <td>Manual</td>\n",
       "      <td>2nd owner</td>\n",
       "      <td>355000</td>\n",
       "      <td>1199.0</td>\n",
       "      <td>2016</td>\n",
       "      <td>Tata</td>\n",
       "      <td>Tiago</td>\n",
       "    </tr>\n",
       "    <tr>\n",
       "      <th>4</th>\n",
       "      <td>30390</td>\n",
       "      <td>Petrol</td>\n",
       "      <td>Manual</td>\n",
       "      <td>1st owner</td>\n",
       "      <td>530000</td>\n",
       "      <td>998.0</td>\n",
       "      <td>2023</td>\n",
       "      <td>Maruti</td>\n",
       "      <td>New Wagon-R</td>\n",
       "    </tr>\n",
       "  </tbody>\n",
       "</table>\n",
       "</div>"
      ],
      "text/plain": [
       "  km_driven fuel_type transmission      owner   price  engine_capacity  year  \\\n",
       "0     88760    Petrol       Manual  1st owner  219000            998.0  2012   \n",
       "1     17920    Petrol       Manual  1st owner  266000            796.0  2016   \n",
       "2      9940    Petrol       Manual  1st owner  496000           1373.0  2014   \n",
       "3     67340    Petrol       Manual  2nd owner  355000           1199.0  2016   \n",
       "4     30390    Petrol       Manual  1st owner  530000            998.0  2023   \n",
       "\n",
       "    brand        model  \n",
       "0  Maruti  Wagon R 1.0  \n",
       "1  Maruti     Alto 800  \n",
       "2  Maruti       Ertiga  \n",
       "3    Tata        Tiago  \n",
       "4  Maruti  New Wagon-R  "
      ]
     },
     "execution_count": 32,
     "metadata": {},
     "output_type": "execute_result"
    }
   ],
   "source": [
    "# \"engine_capacity\" column contains \"cc\" suffix\n",
    "# To convert \"engine_capacity\" into numerical datatype, we have to remove the \"cc\" suffix\n",
    "cars['engine_capacity'] = cars['engine_capacity'].str.replace('cc','').astype(float)\n",
    "cars.head()"
   ]
  },
  {
   "cell_type": "code",
   "execution_count": 33,
   "id": "3eea3cb2-4a77-4020-a054-adc051ee539d",
   "metadata": {},
   "outputs": [
    {
     "name": "stdout",
     "output_type": "stream",
     "text": [
      "Total Null values in 'engine_capacity' column : 181\n"
     ]
    }
   ],
   "source": [
    "# Null values in \"engine_capacity\" column\n",
    "print(f\"Total Null values in 'engine_capacity' column : {cars['engine_capacity'].isna().sum()}\")"
   ]
  },
  {
   "cell_type": "code",
   "execution_count": 34,
   "id": "def7f09b-ee2a-4c22-a458-25646584fa73",
   "metadata": {},
   "outputs": [
    {
     "data": {
      "text/plain": [
       "array([ 998.,  796., 1373., 1199.,   nan, 1193.,  999., 1197., 1198.,\n",
       "       1497.,  814., 1498., 1194., 1248., 1086., 1591., 1997., 1956.,\n",
       "       1493., 1353., 1462., 1461., 1186., 2179., 1349., 1368., 1196.,\n",
       "       1451., 1120., 1582., 1598., 2183., 1396.,  799., 2987., 1950.,\n",
       "       2993., 1968., 1995., 3198., 2998., 2143., 1998., 2487., 1499.,\n",
       "       1996., 1496., 4367., 1798., 2982., 1991., 1969., 1984., 1999.,\n",
       "       2184., 1586., 1405., 1799., 1047.,  936., 2953., 1399.,  627.,\n",
       "        624., 2149.,  995., 2494., 1330., 2523., 1597., 2477., 2755.,\n",
       "       2354., 2696., 1482., 2489., 4134., 2496., 2157., 2694., 1797.,\n",
       "       2967., 1796., 2925., 1395., 2979., 4663., 2199., 2981., 1332.,\n",
       "       2198., 1495., 2393.])"
      ]
     },
     "execution_count": 34,
     "metadata": {},
     "output_type": "execute_result"
    }
   ],
   "source": [
    "# \"engine_capacity\" column contains numerical values but in discrete form (like categories)\n",
    "# So we can use the most occuring value (mode) to fill the Null values, instead of mean or median\n",
    "cars['engine_capacity'].unique()"
   ]
  },
  {
   "cell_type": "code",
   "execution_count": 35,
   "id": "4bac0dfd-88a2-4c9a-8f78-42602a3d8fe5",
   "metadata": {},
   "outputs": [
    {
     "name": "stdout",
     "output_type": "stream",
     "text": [
      "Global Mode : 1197.0\n"
     ]
    }
   ],
   "source": [
    "# We are calculating global mode of \"engine_capacity\" column\n",
    "# Because there might be some car brand that only have a single car in the data (infrequent category)\n",
    "# So we will replace those \"engine_capacity\" values with global mode\n",
    "global_mode = cars['engine_capacity'].mode()[0]\n",
    "print(f\"Global Mode : {global_mode}\")"
   ]
  },
  {
   "cell_type": "code",
   "execution_count": 36,
   "id": "1040df44-b647-4e19-af3f-e8807723c3fd",
   "metadata": {},
   "outputs": [
    {
     "data": {
      "text/html": [
       "<div>\n",
       "<style scoped>\n",
       "    .dataframe tbody tr th:only-of-type {\n",
       "        vertical-align: middle;\n",
       "    }\n",
       "\n",
       "    .dataframe tbody tr th {\n",
       "        vertical-align: top;\n",
       "    }\n",
       "\n",
       "    .dataframe thead th {\n",
       "        text-align: right;\n",
       "    }\n",
       "</style>\n",
       "<table border=\"1\" class=\"dataframe\">\n",
       "  <thead>\n",
       "    <tr style=\"text-align: right;\">\n",
       "      <th></th>\n",
       "      <th>km_driven</th>\n",
       "      <th>fuel_type</th>\n",
       "      <th>transmission</th>\n",
       "      <th>owner</th>\n",
       "      <th>price</th>\n",
       "      <th>engine_capacity</th>\n",
       "      <th>year</th>\n",
       "      <th>brand</th>\n",
       "      <th>model</th>\n",
       "    </tr>\n",
       "  </thead>\n",
       "  <tbody>\n",
       "    <tr>\n",
       "      <th>0</th>\n",
       "      <td>88760</td>\n",
       "      <td>Petrol</td>\n",
       "      <td>Manual</td>\n",
       "      <td>1st owner</td>\n",
       "      <td>219000</td>\n",
       "      <td>998.0</td>\n",
       "      <td>2012</td>\n",
       "      <td>Maruti</td>\n",
       "      <td>Wagon R 1.0</td>\n",
       "    </tr>\n",
       "    <tr>\n",
       "      <th>1</th>\n",
       "      <td>17920</td>\n",
       "      <td>Petrol</td>\n",
       "      <td>Manual</td>\n",
       "      <td>1st owner</td>\n",
       "      <td>266000</td>\n",
       "      <td>796.0</td>\n",
       "      <td>2016</td>\n",
       "      <td>Maruti</td>\n",
       "      <td>Alto 800</td>\n",
       "    </tr>\n",
       "    <tr>\n",
       "      <th>2</th>\n",
       "      <td>9940</td>\n",
       "      <td>Petrol</td>\n",
       "      <td>Manual</td>\n",
       "      <td>1st owner</td>\n",
       "      <td>496000</td>\n",
       "      <td>1373.0</td>\n",
       "      <td>2014</td>\n",
       "      <td>Maruti</td>\n",
       "      <td>Ertiga</td>\n",
       "    </tr>\n",
       "    <tr>\n",
       "      <th>3</th>\n",
       "      <td>67340</td>\n",
       "      <td>Petrol</td>\n",
       "      <td>Manual</td>\n",
       "      <td>2nd owner</td>\n",
       "      <td>355000</td>\n",
       "      <td>1199.0</td>\n",
       "      <td>2016</td>\n",
       "      <td>Tata</td>\n",
       "      <td>Tiago</td>\n",
       "    </tr>\n",
       "    <tr>\n",
       "      <th>4</th>\n",
       "      <td>30390</td>\n",
       "      <td>Petrol</td>\n",
       "      <td>Manual</td>\n",
       "      <td>1st owner</td>\n",
       "      <td>530000</td>\n",
       "      <td>998.0</td>\n",
       "      <td>2023</td>\n",
       "      <td>Maruti</td>\n",
       "      <td>New Wagon-R</td>\n",
       "    </tr>\n",
       "  </tbody>\n",
       "</table>\n",
       "</div>"
      ],
      "text/plain": [
       "  km_driven fuel_type transmission      owner   price  engine_capacity  year  \\\n",
       "0     88760    Petrol       Manual  1st owner  219000            998.0  2012   \n",
       "1     17920    Petrol       Manual  1st owner  266000            796.0  2016   \n",
       "2      9940    Petrol       Manual  1st owner  496000           1373.0  2014   \n",
       "3     67340    Petrol       Manual  2nd owner  355000           1199.0  2016   \n",
       "4     30390    Petrol       Manual  1st owner  530000            998.0  2023   \n",
       "\n",
       "    brand        model  \n",
       "0  Maruti  Wagon R 1.0  \n",
       "1  Maruti     Alto 800  \n",
       "2  Maruti       Ertiga  \n",
       "3    Tata        Tiago  \n",
       "4  Maruti  New Wagon-R  "
      ]
     },
     "execution_count": 36,
     "metadata": {},
     "output_type": "execute_result"
    }
   ],
   "source": [
    "# Filling the Null values in \"engine_capacity\" column by grouping data by \"brand\" column\n",
    "# And using the most frequent \"engine_capacity\" value per brand to fill the Null values\n",
    "# If there are no most frequent \"engine_capacity\" value per brand, we will use the global mode to fill those values\n",
    "cars['engine_capacity'] = cars.groupby(by='brand')['engine_capacity'].transform(lambda x: x.fillna(x.mode()[0] if not x.mode().empty else global_mode))\n",
    "cars.head()"
   ]
  }
 ],
 "metadata": {
  "kernelspec": {
   "display_name": "Python 3 (ipykernel)",
   "language": "python",
   "name": "python3"
  },
  "language_info": {
   "codemirror_mode": {
    "name": "ipython",
    "version": 3
   },
   "file_extension": ".py",
   "mimetype": "text/x-python",
   "name": "python",
   "nbconvert_exporter": "python",
   "pygments_lexer": "ipython3",
   "version": "3.13.0"
  }
 },
 "nbformat": 4,
 "nbformat_minor": 5
}
