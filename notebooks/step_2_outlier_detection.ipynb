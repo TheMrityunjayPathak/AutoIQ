{
 "cells": [
  {
   "cell_type": "markdown",
   "id": "c93e8240-38de-4538-83f6-d29f19e63d77",
   "metadata": {},
   "source": [
    "### Importing Libraries\n",
    "\n",
    "---"
   ]
  },
  {
   "cell_type": "code",
   "execution_count": 1,
   "id": "bcc3e432-f675-4ea4-ae59-efef16e2997f",
   "metadata": {},
   "outputs": [],
   "source": [
    "import os\n",
    "import sys\n",
    "import numpy as np\n",
    "import pandas as pd\n",
    "import matplotlib.pyplot as plt\n",
    "import seaborn as sns"
   ]
  },
  {
   "cell_type": "markdown",
   "id": "d156be2e-78fd-4b73-8e5f-b96fc755d250",
   "metadata": {},
   "source": [
    "### Custom Seaborn Style\n",
    "\n",
    "---"
   ]
  },
  {
   "cell_type": "code",
   "execution_count": 2,
   "id": "2eaa2f04-1be5-4aaf-9c5f-6a4d9b13ee45",
   "metadata": {},
   "outputs": [],
   "source": [
    "sns.set_theme('paper')\n",
    "sns.set_style('ticks')"
   ]
  },
  {
   "cell_type": "markdown",
   "id": "580f4aeb-dc32-4e60-a7e7-c10b1593a35a",
   "metadata": {},
   "source": [
    "### Adding `utils` to `PYTHONPATH`\n",
    "\n",
    "---"
   ]
  },
  {
   "cell_type": "code",
   "execution_count": 3,
   "id": "942d6b4f-d7fc-4c5b-b2d6-49e9f86ca41e",
   "metadata": {},
   "outputs": [],
   "source": [
    "sys.path.append(os.path.abspath(\"../utils\"))"
   ]
  },
  {
   "cell_type": "markdown",
   "id": "54b0cdf5-e1c5-4b3f-b528-093def261cc2",
   "metadata": {},
   "source": [
    "### Reading Parquet File\n",
    "\n",
    "---"
   ]
  },
  {
   "cell_type": "code",
   "execution_count": 4,
   "id": "c071d210-134b-40fc-9f3f-171e8d2f9f94",
   "metadata": {},
   "outputs": [
    {
     "data": {
      "text/html": [
       "<div>\n",
       "<style scoped>\n",
       "    .dataframe tbody tr th:only-of-type {\n",
       "        vertical-align: middle;\n",
       "    }\n",
       "\n",
       "    .dataframe tbody tr th {\n",
       "        vertical-align: top;\n",
       "    }\n",
       "\n",
       "    .dataframe thead th {\n",
       "        text-align: right;\n",
       "    }\n",
       "</style>\n",
       "<table border=\"1\" class=\"dataframe\">\n",
       "  <thead>\n",
       "    <tr style=\"text-align: right;\">\n",
       "      <th></th>\n",
       "      <th>km_driven</th>\n",
       "      <th>fuel_type</th>\n",
       "      <th>transmission</th>\n",
       "      <th>owner</th>\n",
       "      <th>price</th>\n",
       "      <th>engine_capacity</th>\n",
       "      <th>year</th>\n",
       "      <th>brand</th>\n",
       "      <th>model</th>\n",
       "    </tr>\n",
       "  </thead>\n",
       "  <tbody>\n",
       "    <tr>\n",
       "      <th>0</th>\n",
       "      <td>88760</td>\n",
       "      <td>Petrol</td>\n",
       "      <td>Manual</td>\n",
       "      <td>1st owner</td>\n",
       "      <td>219000</td>\n",
       "      <td>998</td>\n",
       "      <td>2012</td>\n",
       "      <td>Maruti</td>\n",
       "      <td>Wagon R 1.0</td>\n",
       "    </tr>\n",
       "    <tr>\n",
       "      <th>1</th>\n",
       "      <td>17920</td>\n",
       "      <td>Petrol</td>\n",
       "      <td>Manual</td>\n",
       "      <td>1st owner</td>\n",
       "      <td>266000</td>\n",
       "      <td>796</td>\n",
       "      <td>2016</td>\n",
       "      <td>Maruti</td>\n",
       "      <td>Alto 800</td>\n",
       "    </tr>\n",
       "    <tr>\n",
       "      <th>2</th>\n",
       "      <td>9940</td>\n",
       "      <td>Petrol</td>\n",
       "      <td>Manual</td>\n",
       "      <td>1st owner</td>\n",
       "      <td>496000</td>\n",
       "      <td>1373</td>\n",
       "      <td>2014</td>\n",
       "      <td>Maruti</td>\n",
       "      <td>Ertiga</td>\n",
       "    </tr>\n",
       "    <tr>\n",
       "      <th>3</th>\n",
       "      <td>67340</td>\n",
       "      <td>Petrol</td>\n",
       "      <td>Manual</td>\n",
       "      <td>2nd owner</td>\n",
       "      <td>355000</td>\n",
       "      <td>1199</td>\n",
       "      <td>2016</td>\n",
       "      <td>Tata</td>\n",
       "      <td>Tiago</td>\n",
       "    </tr>\n",
       "    <tr>\n",
       "      <th>4</th>\n",
       "      <td>30390</td>\n",
       "      <td>Petrol</td>\n",
       "      <td>Manual</td>\n",
       "      <td>1st owner</td>\n",
       "      <td>530000</td>\n",
       "      <td>998</td>\n",
       "      <td>2023</td>\n",
       "      <td>Maruti</td>\n",
       "      <td>New Wagon-R</td>\n",
       "    </tr>\n",
       "  </tbody>\n",
       "</table>\n",
       "</div>"
      ],
      "text/plain": [
       "   km_driven fuel_type transmission      owner   price  engine_capacity  year  \\\n",
       "0      88760    Petrol       Manual  1st owner  219000              998  2012   \n",
       "1      17920    Petrol       Manual  1st owner  266000              796  2016   \n",
       "2       9940    Petrol       Manual  1st owner  496000             1373  2014   \n",
       "3      67340    Petrol       Manual  2nd owner  355000             1199  2016   \n",
       "4      30390    Petrol       Manual  1st owner  530000              998  2023   \n",
       "\n",
       "    brand        model  \n",
       "0  Maruti  Wagon R 1.0  \n",
       "1  Maruti     Alto 800  \n",
       "2  Maruti       Ertiga  \n",
       "3    Tata        Tiago  \n",
       "4  Maruti  New Wagon-R  "
      ]
     },
     "execution_count": 4,
     "metadata": {},
     "output_type": "execute_result"
    }
   ],
   "source": [
    "# Importing load_parquet function from read_data module\n",
    "from read_data import load_parquet\n",
    "cars = load_parquet('clean_data', 'clean_data.parquet')\n",
    "cars.head()"
   ]
  },
  {
   "cell_type": "markdown",
   "id": "f75d5a80-dd7d-48b0-9ed0-ed378da2bfd8",
   "metadata": {},
   "source": [
    "### Handling `year` Column\n",
    "\n",
    "---"
   ]
  },
  {
   "cell_type": "code",
   "execution_count": 5,
   "id": "32793b25-4d6c-42d1-886b-e84b502f1f66",
   "metadata": {},
   "outputs": [
    {
     "data": {
      "text/plain": [
       "year\n",
       "2022    310\n",
       "2021    305\n",
       "2018    286\n",
       "2017    274\n",
       "2019    263\n",
       "2016    243\n",
       "2020    234\n",
       "2023    194\n",
       "2015    188\n",
       "2014    168\n",
       "2013    131\n",
       "2024     76\n",
       "2012     65\n",
       "2011     49\n",
       "2010     36\n",
       "2025      1\n",
       "2007      1\n",
       "Name: count, dtype: int64"
      ]
     },
     "execution_count": 5,
     "metadata": {},
     "output_type": "execute_result"
    }
   ],
   "source": [
    "# Frequency Distribution of \"year\" column\n",
    "cars['year'].value_counts()"
   ]
  },
  {
   "cell_type": "code",
   "execution_count": 6,
   "id": "1149fa11-4a1b-4b7c-b6d4-3d9eae365861",
   "metadata": {},
   "outputs": [],
   "source": [
    "# As we can see, 2007 and 2025 are very rare in our data occuring only 1 time as compared to other values\n",
    "# So it's better to remove them, because model can't learn any pattern of year 2007 or 2025 with just 1 value\n",
    "# And it can also cause model to overfit instead of learning meaningful patterns\n",
    "cars = cars[(cars['year']!=2007) & (cars['year']!=2025)]"
   ]
  },
  {
   "cell_type": "markdown",
   "id": "d081dd8c-1643-4f80-9b17-cb40f416e6e1",
   "metadata": {},
   "source": [
    "### Handling `transmission` Column\n",
    "\n",
    "---"
   ]
  },
  {
   "cell_type": "code",
   "execution_count": 7,
   "id": "96f7e97f-4825-4b89-a915-377aa59be81b",
   "metadata": {},
   "outputs": [
    {
     "data": {
      "text/plain": [
       "transmission\n",
       "Manual       1910\n",
       "Automatic     912\n",
       "Name: count, dtype: int64"
      ]
     },
     "execution_count": 7,
     "metadata": {},
     "output_type": "execute_result"
    }
   ],
   "source": [
    "# Frequency Distribution of \"transmission\" column\n",
    "cars['transmission'].value_counts()"
   ]
  },
  {
   "cell_type": "markdown",
   "id": "9c27edb3-3646-4b72-8ecc-b35d03401d9b",
   "metadata": {},
   "source": [
    "### Handling `owner` Column\n",
    "\n",
    "---"
   ]
  },
  {
   "cell_type": "code",
   "execution_count": 8,
   "id": "09e6a4fd-cc1c-4c6a-952e-30f4ecba4802",
   "metadata": {},
   "outputs": [
    {
     "data": {
      "text/plain": [
       "owner\n",
       "1st owner    2041\n",
       "2nd owner     639\n",
       "3rd owner     114\n",
       "4th owner      25\n",
       "5th owner       2\n",
       "6th owner       1\n",
       "Name: count, dtype: int64"
      ]
     },
     "execution_count": 8,
     "metadata": {},
     "output_type": "execute_result"
    }
   ],
   "source": [
    "# Frequency Distribution of \"owner\" column\n",
    "cars['owner'].value_counts()"
   ]
  },
  {
   "cell_type": "code",
   "execution_count": 9,
   "id": "0e7d71b3-e8ff-45b1-be49-2a874a52ac7e",
   "metadata": {},
   "outputs": [],
   "source": [
    "# As we can see, categories in \"owner\" column like \"5th owner\" and \"6th owner\" are very rare as compared to other values\n",
    "# So we will remove \"5th owner\" and \"6th owner\" from \"owner\" column\n",
    "# And since \"4th owner\" is also significantly less occuring than other categories, we will rename it to \"Others\"\n",
    "# This way we will reduce overfitting and help model learn and generalize better\n",
    "cars = cars[cars['owner'].isin(['1st owner','2nd owner','3rd owner','4th owner'])]"
   ]
  },
  {
   "cell_type": "code",
   "execution_count": 10,
   "id": "f14397fa-768c-4dbe-ba0d-cf730cb51e44",
   "metadata": {},
   "outputs": [],
   "source": [
    "# Because we have converted \"owner\" column into category datatype, we also have to remove unused categories manually\n",
    "cars['owner'] = cars['owner'].cat.remove_unused_categories()"
   ]
  },
  {
   "cell_type": "code",
   "execution_count": 11,
   "id": "26170c46-e081-43cb-933b-726cd8bc162e",
   "metadata": {},
   "outputs": [],
   "source": [
    "# Renaming \"4th owner\" as \"Others\"\n",
    "cars['owner'] = cars['owner'].cat.rename_categories({'4th owner':'Others'})"
   ]
  },
  {
   "cell_type": "code",
   "execution_count": 12,
   "id": "3c9a3d6c-f37a-4ff1-93c0-be1717380e36",
   "metadata": {},
   "outputs": [
    {
     "data": {
      "text/plain": [
       "owner\n",
       "1st owner    2041\n",
       "2nd owner     639\n",
       "3rd owner     114\n",
       "Others         25\n",
       "Name: count, dtype: int64"
      ]
     },
     "execution_count": 12,
     "metadata": {},
     "output_type": "execute_result"
    }
   ],
   "source": [
    "# Frequency Distribution of \"owner\" column after transformation\n",
    "cars['owner'].value_counts()"
   ]
  },
  {
   "cell_type": "markdown",
   "id": "1f0d4b7a-17d3-4666-bf56-6d64f95db418",
   "metadata": {},
   "source": [
    "### Handling `fuel_type` Column\n",
    "\n",
    "---"
   ]
  },
  {
   "cell_type": "code",
   "execution_count": 13,
   "id": "c41e34ca-41d1-41ff-b16a-e3c8fadf40ae",
   "metadata": {},
   "outputs": [
    {
     "data": {
      "text/plain": [
       "fuel_type\n",
       "Petrol      2074\n",
       "Diesel       614\n",
       "CNG          114\n",
       "Electric      15\n",
       "Hybrid         2\n",
       "Name: count, dtype: int64"
      ]
     },
     "execution_count": 13,
     "metadata": {},
     "output_type": "execute_result"
    }
   ],
   "source": [
    "# Frequency Distribution of \"fuel_type\" column\n",
    "cars['fuel_type'].value_counts()"
   ]
  },
  {
   "cell_type": "code",
   "execution_count": 14,
   "id": "adc82577-7b59-4c83-a7c5-aca5871d154e",
   "metadata": {},
   "outputs": [
    {
     "data": {
      "text/plain": [
       "fuel_type\n",
       "CNG          505184\n",
       "Petrol       675871\n",
       "Electric     774800\n",
       "Diesel      1173664\n",
       "Hybrid      3995000\n",
       "Name: price, dtype: int64"
      ]
     },
     "execution_count": 14,
     "metadata": {},
     "output_type": "execute_result"
    }
   ],
   "source": [
    "# Average price based on \"fuel_type\" column\n",
    "# Hybrid cars are very rare in our data but their average price is very high as compared to other categories\n",
    "# It makes Hybrid cars rare and dominant category which can cause overfitting and create problem in generalization of model\n",
    "cars.groupby('fuel_type', observed=True)['price'].mean().apply(lambda x: round(x)).sort_values()"
   ]
  },
  {
   "cell_type": "code",
   "execution_count": 15,
   "id": "2b34fce3-3614-4e7e-a040-bd6ca0cf291d",
   "metadata": {},
   "outputs": [],
   "source": [
    "# So we will remove Hybrid cars from the data\n",
    "cars = cars[~cars['fuel_type'].isin(['Hybrid'])]"
   ]
  },
  {
   "cell_type": "code",
   "execution_count": 16,
   "id": "69b3135c-35d3-409d-8f1a-f05a07ba9ec6",
   "metadata": {},
   "outputs": [],
   "source": [
    "# Because we have converted \"fuel_type\" column into category datatype, we also have to remove unused categories manually\n",
    "cars['fuel_type'] = cars['fuel_type'].cat.remove_unused_categories()"
   ]
  },
  {
   "cell_type": "code",
   "execution_count": 17,
   "id": "ccf27116-1c5a-4be0-8c00-fcf9846bd9f2",
   "metadata": {},
   "outputs": [
    {
     "data": {
      "text/plain": [
       "fuel_type\n",
       "Petrol      2074\n",
       "Diesel       614\n",
       "CNG          114\n",
       "Electric      15\n",
       "Name: count, dtype: int64"
      ]
     },
     "execution_count": 17,
     "metadata": {},
     "output_type": "execute_result"
    }
   ],
   "source": [
    "# Frequency Distribution of \"fuel_type\" column after transformation\n",
    "cars['fuel_type'].value_counts()"
   ]
  },
  {
   "cell_type": "markdown",
   "id": "62397159-7ec5-4c7e-99d6-65ba26d2bd90",
   "metadata": {},
   "source": [
    "### Handling `km_driven` Column\n",
    "\n",
    "---"
   ]
  },
  {
   "cell_type": "markdown",
   "id": "39189458-1c85-47cb-8c1b-3f68d7d1b66b",
   "metadata": {},
   "source": [
    "- 99th percentile of 'km_driven' column is 1,90,000 which means that 99% of the data points lie below 1,90,000.\n",
    "- However, the maximum value is 7,00,000 which is significantly higher than the rest of the distribution.\n",
    "- This extreme value is likely an outlier and may distort statistical analyses such as the mean or standard deviation.\n",
    "- Therefore, it should be carefully examined and handled appropriately."
   ]
  },
  {
   "cell_type": "code",
   "execution_count": 18,
   "id": "0312eb66-a95f-45d6-9f83-c2cf1f8583ba",
   "metadata": {},
   "outputs": [
    {
     "data": {
      "text/plain": [
       "count      2817.00\n",
       "mean      57827.40\n",
       "std       37997.17\n",
       "min        1140.00\n",
       "1%         5144.80\n",
       "5%        12932.00\n",
       "10%       18756.00\n",
       "25%       31810.00\n",
       "50%       52940.00\n",
       "75%       75430.00\n",
       "90%       98194.00\n",
       "95%      120000.00\n",
       "99%      190000.00\n",
       "max      700000.00\n",
       "Name: km_driven, dtype: object"
      ]
     },
     "execution_count": 18,
     "metadata": {},
     "output_type": "execute_result"
    }
   ],
   "source": [
    "# Description of \"km_driven\" column\n",
    "km_describe = cars.describe(percentiles=[0.01,0.05,0.1,0.25,0.5,0.75,0.9,0.95,0.99])['km_driven'].apply(lambda x: f\"{x:.2f}\")\n",
    "km_describe"
   ]
  },
  {
   "cell_type": "code",
   "execution_count": 19,
   "id": "6ea8f3ad-d8f6-48de-9b89-187499c785b8",
   "metadata": {},
   "outputs": [
    {
     "data": {
      "image/png": "[encoded data removed]",
      "text/plain": [
       "<Figure size 640x480 with 1 Axes>"
      ]
     },
     "metadata": {},
     "output_type": "display_data"
    }
   ],
   "source": [
    "# Box Plot of \"km_driven\" column\n",
    "sns.boxplot(cars['km_driven'])\n",
    "plt.show()"
   ]
  },
  {
   "cell_type": "code",
   "execution_count": 20,
   "id": "5fd42b75-df4b-419a-b94d-7b953c96a30f",
   "metadata": {},
   "outputs": [
    {
     "data": {
      "image/png": "[encoded data removed]",
      "text/plain": [
       "<Figure size 640x480 with 1 Axes>"
      ]
     },
     "metadata": {},
     "output_type": "display_data"
    }
   ],
   "source": [
    "# Distribution of \"km_driven\" column\n",
    "sns.histplot(cars['km_driven'])\n",
    "plt.show()"
   ]
  },
  {
   "cell_type": "markdown",
   "id": "1907a1f3-73c8-4082-a6f2-d81e6576294f",
   "metadata": {},
   "source": [
    "- Since the distribution of 'km_driven' column is skewed, methods like Z-Score may not be reliable.\n",
    "- Instead, we apply the Interquartile Range (IQR) method, which is robust to skewness and extreme values.\n",
    "$$IQR = Q3 - Q1$$\n",
    "where:\n",
    "- $Q1$ is 25th percentile\n",
    "- $Q3$ is 75th percentile"
   ]
  },
  {
   "cell_type": "code",
   "execution_count": 21,
   "id": "33246734-72e6-45af-bc40-9aa6b34f2608",
   "metadata": {},
   "outputs": [],
   "source": [
    "# First quartile or 25th percentile\n",
    "q1 = cars['km_driven'].quantile(0.25)\n",
    "\n",
    "# Third quartile or 75th percentile\n",
    "q3 = cars['km_driven'].quantile(0.75)"
   ]
  },
  {
   "cell_type": "code",
   "execution_count": 22,
   "id": "af5d180e-5f8d-49f0-8667-252c0e21fe83",
   "metadata": {},
   "outputs": [],
   "source": [
    "# IQR = Q3 - Q1\n",
    "iqr = q3 - q1"
   ]
  },
  {
   "cell_type": "markdown",
   "id": "bd710d99-1dbc-45c3-8f3d-8f444f610af7",
   "metadata": {},
   "source": [
    "- To eliminate the most extreme outliers, we use a stricter threshold :\n",
    "$$\\text{Lower Limit} = Q1 - 3 \\times \\text{IQR}$$\n",
    "$$\\text{Upper Limit} = Q3 + 3 \\times \\text{IQR}$$\n",
    "- Any value outside this range is considered an extreme outlier and is removed from the dataset.\n",
    "- This way we can preserves as much data as possible, while reducing the impact of extreme values."
   ]
  },
  {
   "cell_type": "code",
   "execution_count": 23,
   "id": "17b4916c-2c04-422f-9134-0cb4e0a941d9",
   "metadata": {},
   "outputs": [],
   "source": [
    "# Range of Extreme Outliers\n",
    "extreme_lower_limit = q1 - 3*iqr\n",
    "extreme_upper_limit = q3 + 3*iqr"
   ]
  },
  {
   "cell_type": "code",
   "execution_count": 24,
   "id": "c9fc3f18-71bf-4e27-9891-025b3d84c911",
   "metadata": {},
   "outputs": [
    {
     "data": {
      "text/html": [
       "<div>\n",
       "<style scoped>\n",
       "    .dataframe tbody tr th:only-of-type {\n",
       "        vertical-align: middle;\n",
       "    }\n",
       "\n",
       "    .dataframe tbody tr th {\n",
       "        vertical-align: top;\n",
       "    }\n",
       "\n",
       "    .dataframe thead th {\n",
       "        text-align: right;\n",
       "    }\n",
       "</style>\n",
       "<table border=\"1\" class=\"dataframe\">\n",
       "  <thead>\n",
       "    <tr style=\"text-align: right;\">\n",
       "      <th></th>\n",
       "      <th>km_driven</th>\n",
       "      <th>fuel_type</th>\n",
       "      <th>transmission</th>\n",
       "      <th>owner</th>\n",
       "      <th>price</th>\n",
       "      <th>engine_capacity</th>\n",
       "      <th>year</th>\n",
       "      <th>brand</th>\n",
       "      <th>model</th>\n",
       "    </tr>\n",
       "  </thead>\n",
       "  <tbody>\n",
       "    <tr>\n",
       "      <th>752</th>\n",
       "      <td>240000</td>\n",
       "      <td>Diesel</td>\n",
       "      <td>Manual</td>\n",
       "      <td>1st owner</td>\n",
       "      <td>89000</td>\n",
       "      <td>1399</td>\n",
       "      <td>2011</td>\n",
       "      <td>Ford</td>\n",
       "      <td>Figo</td>\n",
       "    </tr>\n",
       "    <tr>\n",
       "      <th>784</th>\n",
       "      <td>210000</td>\n",
       "      <td>Petrol</td>\n",
       "      <td>Automatic</td>\n",
       "      <td>2nd owner</td>\n",
       "      <td>517000</td>\n",
       "      <td>1497</td>\n",
       "      <td>2014</td>\n",
       "      <td>Honda</td>\n",
       "      <td>City</td>\n",
       "    </tr>\n",
       "    <tr>\n",
       "      <th>817</th>\n",
       "      <td>700000</td>\n",
       "      <td>Diesel</td>\n",
       "      <td>Manual</td>\n",
       "      <td>1st owner</td>\n",
       "      <td>210000</td>\n",
       "      <td>1248</td>\n",
       "      <td>2014</td>\n",
       "      <td>Fiat</td>\n",
       "      <td>Grand Punto</td>\n",
       "    </tr>\n",
       "    <tr>\n",
       "      <th>835</th>\n",
       "      <td>230000</td>\n",
       "      <td>Petrol</td>\n",
       "      <td>Manual</td>\n",
       "      <td>2nd owner</td>\n",
       "      <td>190000</td>\n",
       "      <td>1197</td>\n",
       "      <td>2011</td>\n",
       "      <td>Maruti</td>\n",
       "      <td>Swift Dzire</td>\n",
       "    </tr>\n",
       "    <tr>\n",
       "      <th>860</th>\n",
       "      <td>300000</td>\n",
       "      <td>Diesel</td>\n",
       "      <td>Manual</td>\n",
       "      <td>2nd owner</td>\n",
       "      <td>100000</td>\n",
       "      <td>1199</td>\n",
       "      <td>2013</td>\n",
       "      <td>Tata</td>\n",
       "      <td>Indica V2</td>\n",
       "    </tr>\n",
       "    <tr>\n",
       "      <th>878</th>\n",
       "      <td>270000</td>\n",
       "      <td>Diesel</td>\n",
       "      <td>Manual</td>\n",
       "      <td>1st owner</td>\n",
       "      <td>516000</td>\n",
       "      <td>1498</td>\n",
       "      <td>2015</td>\n",
       "      <td>Ford</td>\n",
       "      <td>Ecosport</td>\n",
       "    </tr>\n",
       "    <tr>\n",
       "      <th>1068</th>\n",
       "      <td>260000</td>\n",
       "      <td>Diesel</td>\n",
       "      <td>Manual</td>\n",
       "      <td>1st owner</td>\n",
       "      <td>400000</td>\n",
       "      <td>2179</td>\n",
       "      <td>2011</td>\n",
       "      <td>Mahindra</td>\n",
       "      <td>Scorpio</td>\n",
       "    </tr>\n",
       "    <tr>\n",
       "      <th>1229</th>\n",
       "      <td>270000</td>\n",
       "      <td>Diesel</td>\n",
       "      <td>Manual</td>\n",
       "      <td>1st owner</td>\n",
       "      <td>2381000</td>\n",
       "      <td>2755</td>\n",
       "      <td>2019</td>\n",
       "      <td>Toyota</td>\n",
       "      <td>Fortuner</td>\n",
       "    </tr>\n",
       "    <tr>\n",
       "      <th>1231</th>\n",
       "      <td>270000</td>\n",
       "      <td>Diesel</td>\n",
       "      <td>Manual</td>\n",
       "      <td>1st owner</td>\n",
       "      <td>450000</td>\n",
       "      <td>2494</td>\n",
       "      <td>2011</td>\n",
       "      <td>Toyota</td>\n",
       "      <td>Innova</td>\n",
       "    </tr>\n",
       "    <tr>\n",
       "      <th>1347</th>\n",
       "      <td>250000</td>\n",
       "      <td>Diesel</td>\n",
       "      <td>Manual</td>\n",
       "      <td>2nd owner</td>\n",
       "      <td>360000</td>\n",
       "      <td>2489</td>\n",
       "      <td>2017</td>\n",
       "      <td>Mahindra</td>\n",
       "      <td>Xylo</td>\n",
       "    </tr>\n",
       "    <tr>\n",
       "      <th>1350</th>\n",
       "      <td>250000</td>\n",
       "      <td>Diesel</td>\n",
       "      <td>Automatic</td>\n",
       "      <td>1st owner</td>\n",
       "      <td>443000</td>\n",
       "      <td>1968</td>\n",
       "      <td>2011</td>\n",
       "      <td>Skoda</td>\n",
       "      <td>Laura</td>\n",
       "    </tr>\n",
       "    <tr>\n",
       "      <th>1359</th>\n",
       "      <td>270000</td>\n",
       "      <td>Diesel</td>\n",
       "      <td>Automatic</td>\n",
       "      <td>1st owner</td>\n",
       "      <td>1048000</td>\n",
       "      <td>2993</td>\n",
       "      <td>2013</td>\n",
       "      <td>Toyota</td>\n",
       "      <td>Fortuner</td>\n",
       "    </tr>\n",
       "    <tr>\n",
       "      <th>1371</th>\n",
       "      <td>260000</td>\n",
       "      <td>Diesel</td>\n",
       "      <td>Automatic</td>\n",
       "      <td>1st owner</td>\n",
       "      <td>1050000</td>\n",
       "      <td>4134</td>\n",
       "      <td>2012</td>\n",
       "      <td>Audi</td>\n",
       "      <td>Q7</td>\n",
       "    </tr>\n",
       "    <tr>\n",
       "      <th>1396</th>\n",
       "      <td>280000</td>\n",
       "      <td>Diesel</td>\n",
       "      <td>Manual</td>\n",
       "      <td>1st owner</td>\n",
       "      <td>378000</td>\n",
       "      <td>1968</td>\n",
       "      <td>2010</td>\n",
       "      <td>Skoda</td>\n",
       "      <td>Laura</td>\n",
       "    </tr>\n",
       "    <tr>\n",
       "      <th>1432</th>\n",
       "      <td>220000</td>\n",
       "      <td>Diesel</td>\n",
       "      <td>Automatic</td>\n",
       "      <td>2nd owner</td>\n",
       "      <td>1339000</td>\n",
       "      <td>2993</td>\n",
       "      <td>2014</td>\n",
       "      <td>Toyota</td>\n",
       "      <td>Fortuner</td>\n",
       "    </tr>\n",
       "    <tr>\n",
       "      <th>1441</th>\n",
       "      <td>210000</td>\n",
       "      <td>Diesel</td>\n",
       "      <td>Manual</td>\n",
       "      <td>1st owner</td>\n",
       "      <td>549000</td>\n",
       "      <td>1461</td>\n",
       "      <td>2016</td>\n",
       "      <td>Renault</td>\n",
       "      <td>Duster</td>\n",
       "    </tr>\n",
       "  </tbody>\n",
       "</table>\n",
       "</div>"
      ],
      "text/plain": [
       "      km_driven fuel_type transmission      owner    price  engine_capacity  \\\n",
       "752      240000    Diesel       Manual  1st owner    89000             1399   \n",
       "784      210000    Petrol    Automatic  2nd owner   517000             1497   \n",
       "817      700000    Diesel       Manual  1st owner   210000             1248   \n",
       "835      230000    Petrol       Manual  2nd owner   190000             1197   \n",
       "860      300000    Diesel       Manual  2nd owner   100000             1199   \n",
       "878      270000    Diesel       Manual  1st owner   516000             1498   \n",
       "1068     260000    Diesel       Manual  1st owner   400000             2179   \n",
       "1229     270000    Diesel       Manual  1st owner  2381000             2755   \n",
       "1231     270000    Diesel       Manual  1st owner   450000             2494   \n",
       "1347     250000    Diesel       Manual  2nd owner   360000             2489   \n",
       "1350     250000    Diesel    Automatic  1st owner   443000             1968   \n",
       "1359     270000    Diesel    Automatic  1st owner  1048000             2993   \n",
       "1371     260000    Diesel    Automatic  1st owner  1050000             4134   \n",
       "1396     280000    Diesel       Manual  1st owner   378000             1968   \n",
       "1432     220000    Diesel    Automatic  2nd owner  1339000             2993   \n",
       "1441     210000    Diesel       Manual  1st owner   549000             1461   \n",
       "\n",
       "      year     brand        model  \n",
       "752   2011      Ford         Figo  \n",
       "784   2014     Honda         City  \n",
       "817   2014      Fiat  Grand Punto  \n",
       "835   2011    Maruti  Swift Dzire  \n",
       "860   2013      Tata    Indica V2  \n",
       "878   2015      Ford     Ecosport  \n",
       "1068  2011  Mahindra      Scorpio  \n",
       "1229  2019    Toyota     Fortuner  \n",
       "1231  2011    Toyota       Innova  \n",
       "1347  2017  Mahindra         Xylo  \n",
       "1350  2011     Skoda        Laura  \n",
       "1359  2013    Toyota     Fortuner  \n",
       "1371  2012      Audi           Q7  \n",
       "1396  2010     Skoda        Laura  \n",
       "1432  2014    Toyota     Fortuner  \n",
       "1441  2016   Renault       Duster  "
      ]
     },
     "execution_count": 24,
     "metadata": {},
     "output_type": "execute_result"
    }
   ],
   "source": [
    "# Detecting Extreme Outliers\n",
    "cars[(cars['km_driven'] < extreme_lower_limit) | (cars['km_driven'] > extreme_upper_limit)]"
   ]
  },
  {
   "cell_type": "code",
   "execution_count": 25,
   "id": "1cd791ee-f54b-41ad-8939-ac554d3883c9",
   "metadata": {},
   "outputs": [
    {
     "data": {
      "text/plain": [
       "Index([ 752,  784,  817,  835,  860,  878, 1068, 1229, 1231, 1347, 1350, 1359,\n",
       "       1371, 1396, 1432, 1441],\n",
       "      dtype='int64')"
      ]
     },
     "execution_count": 25,
     "metadata": {},
     "output_type": "execute_result"
    }
   ],
   "source": [
    "# Index of Extreme Outliers\n",
    "extreme_outlier_idx = cars[(cars['km_driven'] < extreme_lower_limit) | (cars['km_driven'] > extreme_upper_limit)].index\n",
    "extreme_outlier_idx"
   ]
  },
  {
   "cell_type": "code",
   "execution_count": 26,
   "id": "a200f005-3802-4f5c-9d8e-2aef06334deb",
   "metadata": {},
   "outputs": [],
   "source": [
    "# Removing Extreme Outliers\n",
    "updated_cars = cars.drop(index=extreme_outlier_idx, axis=0)"
   ]
  },
  {
   "cell_type": "code",
   "execution_count": 27,
   "id": "127727a8-5f1c-4fb3-9377-647bcead1a27",
   "metadata": {},
   "outputs": [
    {
     "data": {
      "image/png": "[encoded data removed]",
      "text/plain": [
       "<Figure size 640x480 with 1 Axes>"
      ]
     },
     "metadata": {},
     "output_type": "display_data"
    }
   ],
   "source": [
    "# Box Plot of \"km_driven\" column after Outlier Removal\n",
    "sns.boxplot(updated_cars['km_driven'])\n",
    "plt.show()"
   ]
  },
  {
   "cell_type": "code",
   "execution_count": 28,
   "id": "f2c62317-ff7e-4361-b9eb-e0b31d666a2b",
   "metadata": {},
   "outputs": [
    {
     "data": {
      "image/png": "[encoded data removed]",
      "text/plain": [
       "<Figure size 640x480 with 1 Axes>"
      ]
     },
     "metadata": {},
     "output_type": "display_data"
    }
   ],
   "source": [
    "# Distribution of \"km_driven\" column after Outlier Removal\n",
    "sns.histplot(updated_cars['km_driven'])\n",
    "plt.show()"
   ]
  },
  {
   "cell_type": "code",
   "execution_count": 29,
   "id": "65d4912d-d770-4e42-b19e-b65e14e25a91",
   "metadata": {},
   "outputs": [
    {
     "data": {
      "image/png": "[encoded data removed]",
      "text/plain": [
       "<Figure size 640x480 with 1 Axes>"
      ]
     },
     "metadata": {},
     "output_type": "display_data"
    }
   ],
   "source": [
    "# Visual Representation of Outliers in the Data\n",
    "sns.histplot(cars['km_driven'])\n",
    "plt.axvspan(xmin=extreme_lower_limit, xmax=cars['km_driven'].min(), alpha=0.15, color='red')\n",
    "plt.axvspan(xmin=extreme_upper_limit, xmax=cars['km_driven'].max(), alpha=0.15, color='red')\n",
    "plt.title('Extreme Outliers')\n",
    "plt.show()"
   ]
  },
  {
   "cell_type": "code",
   "execution_count": 30,
   "id": "494a047e-4593-4d61-aa26-7b25edd6a6bd",
   "metadata": {},
   "outputs": [
    {
     "data": {
      "image/png": "[encoded data removed]",
      "text/plain": [
       "<Figure size 1200x800 with 4 Axes>"
      ]
     },
     "metadata": {},
     "output_type": "display_data"
    }
   ],
   "source": [
    "# Before and After of \"km_driven\" column\n",
    "fig, ax = plt.subplots(ncols=2, nrows=2, figsize=(12,8))\n",
    "sns.boxplot(cars['km_driven'], ax=ax[0,0])\n",
    "sns.boxplot(updated_cars['km_driven'], ax=ax[0,1])\n",
    "sns.histplot(cars['km_driven'], ax=ax[1,0])\n",
    "sns.histplot(updated_cars['km_driven'], ax=ax[1,1])\n",
    "ax[0,0].set_title('Box Plot before removing Outliers')\n",
    "ax[0,1].set_title('Box Plot after removing Outliers')\n",
    "ax[1,0].set_title('Distribution of data before removing Outliers')\n",
    "ax[1,1].set_title('Distribution of data after removing Outliers')\n",
    "plt.tight_layout()\n",
    "plt.show()"
   ]
  },
  {
   "cell_type": "markdown",
   "id": "a33a13c4-8b6e-4896-ae1c-869e14e49ed1",
   "metadata": {},
   "source": [
    "### Handling `price` Column\n",
    "\n",
    "---"
   ]
  },
  {
   "cell_type": "markdown",
   "id": "75b7d9c4-ee53-4c79-b389-743e6672d127",
   "metadata": {},
   "source": [
    "- 99th percentile of 'price' column is ₹43,75,000 which means that 99% of the data points lie below ₹43,75,000.\n",
    "- However, the maximum value is ₹2,50,00,000 which is significantly higher than the rest of the distribution.\n",
    "- This extreme value is likely an outlier and may distort statistical analyses such as the mean or standard deviation.\n",
    "- Therefore, it should be carefully examined and handled appropriately."
   ]
  },
  {
   "cell_type": "code",
   "execution_count": 31,
   "id": "a363851d-9778-49ba-8a4d-6539c5fba461",
   "metadata": {},
   "outputs": [
    {
     "data": {
      "text/plain": [
       "count        2801.00\n",
       "mean       778857.55\n",
       "std        852895.11\n",
       "min         57000.00\n",
       "1%         148000.00\n",
       "5%         225000.00\n",
       "10%        279000.00\n",
       "25%        395000.00\n",
       "50%        575000.00\n",
       "75%        869000.00\n",
       "90%       1340000.00\n",
       "95%       1975000.00\n",
       "99%       4375000.00\n",
       "max      25000000.00\n",
       "Name: price, dtype: object"
      ]
     },
     "execution_count": 31,
     "metadata": {},
     "output_type": "execute_result"
    }
   ],
   "source": [
    "# Description of \"price\" column\n",
    "price_describe = updated_cars.describe(percentiles=[0.01,0.05,0.1,0.25,0.5,0.75,0.9,0.95,0.99])['price'].apply(lambda x: f\"{x:.2f}\")\n",
    "price_describe"
   ]
  },
  {
   "cell_type": "code",
   "execution_count": 32,
   "id": "ccc7d6c6-cd4b-4bda-b0d8-413430e47e6f",
   "metadata": {},
   "outputs": [
    {
     "data": {
      "image/png": "[encoded data removed]",
      "text/plain": [
       "<Figure size 640x480 with 1 Axes>"
      ]
     },
     "metadata": {},
     "output_type": "display_data"
    }
   ],
   "source": [
    "# Box Plot of \"price\" column\n",
    "sns.boxplot(updated_cars['price'])\n",
    "plt.show()"
   ]
  },
  {
   "cell_type": "code",
   "execution_count": 33,
   "id": "ec5cd7a7-9aff-4d51-a69f-cfc635d12ce7",
   "metadata": {},
   "outputs": [
    {
     "data": {
      "image/png": "[encoded data removed]",
      "text/plain": [
       "<Figure size 640x480 with 1 Axes>"
      ]
     },
     "metadata": {},
     "output_type": "display_data"
    }
   ],
   "source": [
    "# Distribution of \"price\" column\n",
    "sns.histplot(updated_cars['price'])\n",
    "plt.show()"
   ]
  },
  {
   "cell_type": "markdown",
   "id": "a383c539-8a0e-4ff4-ba0a-72a430f0a937",
   "metadata": {},
   "source": [
    "- We're working with 'price' column, which have a wide range (from ₹1,20,000 to ₹25,000,000).\n",
    "- Some cars can be unusually cheap or extremely expensive.\n",
    "- They are outliers and can affect our analysis or modeling.\n",
    "\n",
    "So we're using a two-step process to handle them :\n",
    "\n",
    "**Step 1 : Removing Suspiciously Extreme values Using Percentiles**\n",
    "- Some prices are extremly high or unusually low that they could distort our model or visualizations.\n",
    "- So we use percentiles to define what's extreme or what's low.\n",
    "- Remove the rows where price is below 1st percentile or above 99th percentile.\n",
    "\n",
    "**Step 2 : Removing Rest of Extreme values using IQR Method**\n",
    "- Now that we've removed the most extreme values, we still have to treat values that are unusually high but not extreme.\n",
    "- For that, we use the IQR method :\n",
    "    - Q1 (25th percentile)\n",
    "    - Q3 (75th percentile)\n",
    "    - IQR = Q3 - Q1\n",
    "- We then calculate :\n",
    "    - Lower Limit = Q1 - 3 × IQR\n",
    "    - Upper Limit = Q3 + 3 × IQR\n",
    "- Instead of taking the common threshold (Q1 - 1.5 x IQR), we will use a stricter threshold (Q1 - 3 x IQR).\n",
    "- By removing these unusually high but not extreme values, we eliminated values that are far different from the bulk.\n",
    "- This approach help reduce the influence of most extreme values."
   ]
  },
  {
   "cell_type": "code",
   "execution_count": 34,
   "id": "df0623e2-0009-43d9-909f-9f718cb4ffbd",
   "metadata": {},
   "outputs": [
    {
     "data": {
      "text/html": [
       "<div>\n",
       "<style scoped>\n",
       "    .dataframe tbody tr th:only-of-type {\n",
       "        vertical-align: middle;\n",
       "    }\n",
       "\n",
       "    .dataframe tbody tr th {\n",
       "        vertical-align: top;\n",
       "    }\n",
       "\n",
       "    .dataframe thead th {\n",
       "        text-align: right;\n",
       "    }\n",
       "</style>\n",
       "<table border=\"1\" class=\"dataframe\">\n",
       "  <thead>\n",
       "    <tr style=\"text-align: right;\">\n",
       "      <th></th>\n",
       "      <th>km_driven</th>\n",
       "      <th>fuel_type</th>\n",
       "      <th>transmission</th>\n",
       "      <th>owner</th>\n",
       "      <th>price</th>\n",
       "      <th>engine_capacity</th>\n",
       "      <th>year</th>\n",
       "      <th>brand</th>\n",
       "      <th>model</th>\n",
       "    </tr>\n",
       "  </thead>\n",
       "  <tbody>\n",
       "    <tr>\n",
       "      <th>333</th>\n",
       "      <td>56630</td>\n",
       "      <td>Diesel</td>\n",
       "      <td>Automatic</td>\n",
       "      <td>2nd owner</td>\n",
       "      <td>4395000</td>\n",
       "      <td>2993</td>\n",
       "      <td>2017</td>\n",
       "      <td>BMW</td>\n",
       "      <td>X5</td>\n",
       "    </tr>\n",
       "    <tr>\n",
       "      <th>345</th>\n",
       "      <td>10860</td>\n",
       "      <td>Petrol</td>\n",
       "      <td>Automatic</td>\n",
       "      <td>1st owner</td>\n",
       "      <td>7500000</td>\n",
       "      <td>2998</td>\n",
       "      <td>2024</td>\n",
       "      <td>BMW</td>\n",
       "      <td>M340i</td>\n",
       "    </tr>\n",
       "    <tr>\n",
       "      <th>357</th>\n",
       "      <td>36000</td>\n",
       "      <td>Diesel</td>\n",
       "      <td>Automatic</td>\n",
       "      <td>1st owner</td>\n",
       "      <td>4575000</td>\n",
       "      <td>1950</td>\n",
       "      <td>2020</td>\n",
       "      <td>Mercedes</td>\n",
       "      <td>Benz E Class</td>\n",
       "    </tr>\n",
       "    <tr>\n",
       "      <th>381</th>\n",
       "      <td>21000</td>\n",
       "      <td>Diesel</td>\n",
       "      <td>Automatic</td>\n",
       "      <td>1st owner</td>\n",
       "      <td>4500000</td>\n",
       "      <td>4367</td>\n",
       "      <td>2012</td>\n",
       "      <td>Landrover</td>\n",
       "      <td>Range Rover</td>\n",
       "    </tr>\n",
       "    <tr>\n",
       "      <th>382</th>\n",
       "      <td>24610</td>\n",
       "      <td>Diesel</td>\n",
       "      <td>Automatic</td>\n",
       "      <td>1st owner</td>\n",
       "      <td>4775000</td>\n",
       "      <td>4367</td>\n",
       "      <td>2012</td>\n",
       "      <td>Landrover</td>\n",
       "      <td>Range Rover</td>\n",
       "    </tr>\n",
       "    <tr>\n",
       "      <th>415</th>\n",
       "      <td>25300</td>\n",
       "      <td>Diesel</td>\n",
       "      <td>Automatic</td>\n",
       "      <td>1st owner</td>\n",
       "      <td>4975000</td>\n",
       "      <td>1969</td>\n",
       "      <td>2019</td>\n",
       "      <td>Volvo</td>\n",
       "      <td>S90</td>\n",
       "    </tr>\n",
       "    <tr>\n",
       "      <th>439</th>\n",
       "      <td>7220</td>\n",
       "      <td>Petrol</td>\n",
       "      <td>Automatic</td>\n",
       "      <td>1st owner</td>\n",
       "      <td>4600000</td>\n",
       "      <td>1991</td>\n",
       "      <td>2022</td>\n",
       "      <td>Mercedes</td>\n",
       "      <td>Benz A CLASS LIMOUSINE</td>\n",
       "    </tr>\n",
       "    <tr>\n",
       "      <th>479</th>\n",
       "      <td>39240</td>\n",
       "      <td>Petrol</td>\n",
       "      <td>Automatic</td>\n",
       "      <td>1st owner</td>\n",
       "      <td>5275000</td>\n",
       "      <td>1991</td>\n",
       "      <td>2022</td>\n",
       "      <td>Mercedes</td>\n",
       "      <td>Benz GLC CLASS</td>\n",
       "    </tr>\n",
       "    <tr>\n",
       "      <th>656</th>\n",
       "      <td>95730</td>\n",
       "      <td>Petrol</td>\n",
       "      <td>Manual</td>\n",
       "      <td>3rd owner</td>\n",
       "      <td>142000</td>\n",
       "      <td>1086</td>\n",
       "      <td>2010</td>\n",
       "      <td>Hyundai</td>\n",
       "      <td>i10</td>\n",
       "    </tr>\n",
       "    <tr>\n",
       "      <th>658</th>\n",
       "      <td>55000</td>\n",
       "      <td>Diesel</td>\n",
       "      <td>Manual</td>\n",
       "      <td>1st owner</td>\n",
       "      <td>128000</td>\n",
       "      <td>1405</td>\n",
       "      <td>2011</td>\n",
       "      <td>Tata</td>\n",
       "      <td>Indigo ECS</td>\n",
       "    </tr>\n",
       "    <tr>\n",
       "      <th>680</th>\n",
       "      <td>65500</td>\n",
       "      <td>Petrol</td>\n",
       "      <td>Manual</td>\n",
       "      <td>1st owner</td>\n",
       "      <td>127000</td>\n",
       "      <td>1197</td>\n",
       "      <td>2010</td>\n",
       "      <td>Maruti</td>\n",
       "      <td>Swift Dzire</td>\n",
       "    </tr>\n",
       "    <tr>\n",
       "      <th>705</th>\n",
       "      <td>81910</td>\n",
       "      <td>Petrol</td>\n",
       "      <td>Manual</td>\n",
       "      <td>2nd owner</td>\n",
       "      <td>142000</td>\n",
       "      <td>1197</td>\n",
       "      <td>2014</td>\n",
       "      <td>Maruti</td>\n",
       "      <td>Alto K10</td>\n",
       "    </tr>\n",
       "    <tr>\n",
       "      <th>722</th>\n",
       "      <td>66180</td>\n",
       "      <td>Petrol</td>\n",
       "      <td>Manual</td>\n",
       "      <td>3rd owner</td>\n",
       "      <td>145000</td>\n",
       "      <td>814</td>\n",
       "      <td>2014</td>\n",
       "      <td>Hyundai</td>\n",
       "      <td>Eon</td>\n",
       "    </tr>\n",
       "    <tr>\n",
       "      <th>729</th>\n",
       "      <td>67780</td>\n",
       "      <td>Petrol</td>\n",
       "      <td>Manual</td>\n",
       "      <td>2nd owner</td>\n",
       "      <td>117000</td>\n",
       "      <td>1586</td>\n",
       "      <td>2010</td>\n",
       "      <td>Maruti</td>\n",
       "      <td>SX4</td>\n",
       "    </tr>\n",
       "    <tr>\n",
       "      <th>731</th>\n",
       "      <td>71360</td>\n",
       "      <td>Diesel</td>\n",
       "      <td>Manual</td>\n",
       "      <td>2nd owner</td>\n",
       "      <td>140000</td>\n",
       "      <td>936</td>\n",
       "      <td>2012</td>\n",
       "      <td>Chevrolet</td>\n",
       "      <td>Beat</td>\n",
       "    </tr>\n",
       "    <tr>\n",
       "      <th>759</th>\n",
       "      <td>92820</td>\n",
       "      <td>Petrol</td>\n",
       "      <td>Manual</td>\n",
       "      <td>Others</td>\n",
       "      <td>132000</td>\n",
       "      <td>1086</td>\n",
       "      <td>2010</td>\n",
       "      <td>Hyundai</td>\n",
       "      <td>i10</td>\n",
       "    </tr>\n",
       "    <tr>\n",
       "      <th>765</th>\n",
       "      <td>73340</td>\n",
       "      <td>Electric</td>\n",
       "      <td>Automatic</td>\n",
       "      <td>2nd owner</td>\n",
       "      <td>146000</td>\n",
       "      <td>2179</td>\n",
       "      <td>2013</td>\n",
       "      <td>Mahindra</td>\n",
       "      <td>E2O</td>\n",
       "    </tr>\n",
       "    <tr>\n",
       "      <th>775</th>\n",
       "      <td>34350</td>\n",
       "      <td>Petrol</td>\n",
       "      <td>Manual</td>\n",
       "      <td>Others</td>\n",
       "      <td>62000</td>\n",
       "      <td>627</td>\n",
       "      <td>2010</td>\n",
       "      <td>Tata</td>\n",
       "      <td>Nano</td>\n",
       "    </tr>\n",
       "    <tr>\n",
       "      <th>801</th>\n",
       "      <td>110000</td>\n",
       "      <td>Petrol</td>\n",
       "      <td>Manual</td>\n",
       "      <td>2nd owner</td>\n",
       "      <td>136000</td>\n",
       "      <td>1197</td>\n",
       "      <td>2010</td>\n",
       "      <td>Hyundai</td>\n",
       "      <td>i20</td>\n",
       "    </tr>\n",
       "    <tr>\n",
       "      <th>816</th>\n",
       "      <td>66500</td>\n",
       "      <td>Electric</td>\n",
       "      <td>Automatic</td>\n",
       "      <td>2nd owner</td>\n",
       "      <td>146000</td>\n",
       "      <td>2179</td>\n",
       "      <td>2014</td>\n",
       "      <td>Mahindra</td>\n",
       "      <td>E2O</td>\n",
       "    </tr>\n",
       "    <tr>\n",
       "      <th>819</th>\n",
       "      <td>16290</td>\n",
       "      <td>Electric</td>\n",
       "      <td>Automatic</td>\n",
       "      <td>3rd owner</td>\n",
       "      <td>136000</td>\n",
       "      <td>2179</td>\n",
       "      <td>2014</td>\n",
       "      <td>Mahindra</td>\n",
       "      <td>E2O</td>\n",
       "    </tr>\n",
       "    <tr>\n",
       "      <th>847</th>\n",
       "      <td>100000</td>\n",
       "      <td>Diesel</td>\n",
       "      <td>Manual</td>\n",
       "      <td>3rd owner</td>\n",
       "      <td>102000</td>\n",
       "      <td>1197</td>\n",
       "      <td>2013</td>\n",
       "      <td>Premier</td>\n",
       "      <td>Rio</td>\n",
       "    </tr>\n",
       "    <tr>\n",
       "      <th>858</th>\n",
       "      <td>34310</td>\n",
       "      <td>Petrol</td>\n",
       "      <td>Manual</td>\n",
       "      <td>1st owner</td>\n",
       "      <td>142000</td>\n",
       "      <td>995</td>\n",
       "      <td>2011</td>\n",
       "      <td>Chevrolet</td>\n",
       "      <td>Spark</td>\n",
       "    </tr>\n",
       "    <tr>\n",
       "      <th>868</th>\n",
       "      <td>68120</td>\n",
       "      <td>Petrol</td>\n",
       "      <td>Manual</td>\n",
       "      <td>2nd owner</td>\n",
       "      <td>95000</td>\n",
       "      <td>995</td>\n",
       "      <td>2010</td>\n",
       "      <td>Chevrolet</td>\n",
       "      <td>Spark</td>\n",
       "    </tr>\n",
       "    <tr>\n",
       "      <th>870</th>\n",
       "      <td>85530</td>\n",
       "      <td>Petrol</td>\n",
       "      <td>Manual</td>\n",
       "      <td>2nd owner</td>\n",
       "      <td>110000</td>\n",
       "      <td>995</td>\n",
       "      <td>2010</td>\n",
       "      <td>Chevrolet</td>\n",
       "      <td>Spark</td>\n",
       "    </tr>\n",
       "    <tr>\n",
       "      <th>908</th>\n",
       "      <td>41220</td>\n",
       "      <td>Petrol</td>\n",
       "      <td>Manual</td>\n",
       "      <td>3rd owner</td>\n",
       "      <td>120000</td>\n",
       "      <td>1368</td>\n",
       "      <td>2013</td>\n",
       "      <td>Fiat</td>\n",
       "      <td>Grand Punto</td>\n",
       "    </tr>\n",
       "    <tr>\n",
       "      <th>912</th>\n",
       "      <td>41180</td>\n",
       "      <td>Petrol</td>\n",
       "      <td>Manual</td>\n",
       "      <td>1st owner</td>\n",
       "      <td>133000</td>\n",
       "      <td>1196</td>\n",
       "      <td>2010</td>\n",
       "      <td>Ford</td>\n",
       "      <td>Figo</td>\n",
       "    </tr>\n",
       "    <tr>\n",
       "      <th>926</th>\n",
       "      <td>200000</td>\n",
       "      <td>Diesel</td>\n",
       "      <td>Manual</td>\n",
       "      <td>3rd owner</td>\n",
       "      <td>125000</td>\n",
       "      <td>1399</td>\n",
       "      <td>2011</td>\n",
       "      <td>Ford</td>\n",
       "      <td>Figo</td>\n",
       "    </tr>\n",
       "    <tr>\n",
       "      <th>933</th>\n",
       "      <td>56640</td>\n",
       "      <td>Petrol</td>\n",
       "      <td>Manual</td>\n",
       "      <td>2nd owner</td>\n",
       "      <td>57000</td>\n",
       "      <td>624</td>\n",
       "      <td>2012</td>\n",
       "      <td>Tata</td>\n",
       "      <td>Nano</td>\n",
       "    </tr>\n",
       "    <tr>\n",
       "      <th>999</th>\n",
       "      <td>160000</td>\n",
       "      <td>Diesel</td>\n",
       "      <td>Manual</td>\n",
       "      <td>3rd owner</td>\n",
       "      <td>132000</td>\n",
       "      <td>1399</td>\n",
       "      <td>2012</td>\n",
       "      <td>Ford</td>\n",
       "      <td>Figo</td>\n",
       "    </tr>\n",
       "    <tr>\n",
       "      <th>1043</th>\n",
       "      <td>46420</td>\n",
       "      <td>Petrol</td>\n",
       "      <td>Manual</td>\n",
       "      <td>Others</td>\n",
       "      <td>62000</td>\n",
       "      <td>627</td>\n",
       "      <td>2012</td>\n",
       "      <td>Tata</td>\n",
       "      <td>Nano</td>\n",
       "    </tr>\n",
       "    <tr>\n",
       "      <th>1454</th>\n",
       "      <td>25000</td>\n",
       "      <td>Diesel</td>\n",
       "      <td>Automatic</td>\n",
       "      <td>2nd owner</td>\n",
       "      <td>4413000</td>\n",
       "      <td>1950</td>\n",
       "      <td>2023</td>\n",
       "      <td>Mercedes</td>\n",
       "      <td>Benz GLA Class</td>\n",
       "    </tr>\n",
       "    <tr>\n",
       "      <th>1456</th>\n",
       "      <td>14500</td>\n",
       "      <td>Petrol</td>\n",
       "      <td>Automatic</td>\n",
       "      <td>2nd owner</td>\n",
       "      <td>4400000</td>\n",
       "      <td>1991</td>\n",
       "      <td>2022</td>\n",
       "      <td>Mercedes</td>\n",
       "      <td>Benz GLA Class</td>\n",
       "    </tr>\n",
       "    <tr>\n",
       "      <th>1940</th>\n",
       "      <td>36920</td>\n",
       "      <td>Petrol</td>\n",
       "      <td>Manual</td>\n",
       "      <td>2nd owner</td>\n",
       "      <td>123000</td>\n",
       "      <td>814</td>\n",
       "      <td>2013</td>\n",
       "      <td>Hyundai</td>\n",
       "      <td>Eon</td>\n",
       "    </tr>\n",
       "    <tr>\n",
       "      <th>2543</th>\n",
       "      <td>59900</td>\n",
       "      <td>Petrol</td>\n",
       "      <td>Automatic</td>\n",
       "      <td>1st owner</td>\n",
       "      <td>5890000</td>\n",
       "      <td>1997</td>\n",
       "      <td>2021</td>\n",
       "      <td>Landrover</td>\n",
       "      <td>RANGE ROVER VELAR</td>\n",
       "    </tr>\n",
       "    <tr>\n",
       "      <th>2544</th>\n",
       "      <td>83490</td>\n",
       "      <td>Petrol</td>\n",
       "      <td>Automatic</td>\n",
       "      <td>1st owner</td>\n",
       "      <td>6800000</td>\n",
       "      <td>1995</td>\n",
       "      <td>2019</td>\n",
       "      <td>BMW</td>\n",
       "      <td>X7</td>\n",
       "    </tr>\n",
       "    <tr>\n",
       "      <th>2552</th>\n",
       "      <td>43360</td>\n",
       "      <td>Diesel</td>\n",
       "      <td>Automatic</td>\n",
       "      <td>1st owner</td>\n",
       "      <td>6000000</td>\n",
       "      <td>2925</td>\n",
       "      <td>2019</td>\n",
       "      <td>Mercedes</td>\n",
       "      <td>Benz S Class</td>\n",
       "    </tr>\n",
       "    <tr>\n",
       "      <th>2553</th>\n",
       "      <td>11000</td>\n",
       "      <td>Diesel</td>\n",
       "      <td>Automatic</td>\n",
       "      <td>1st owner</td>\n",
       "      <td>4550000</td>\n",
       "      <td>2755</td>\n",
       "      <td>2024</td>\n",
       "      <td>Toyota</td>\n",
       "      <td>Fortuner</td>\n",
       "    </tr>\n",
       "    <tr>\n",
       "      <th>2558</th>\n",
       "      <td>10050</td>\n",
       "      <td>Diesel</td>\n",
       "      <td>Automatic</td>\n",
       "      <td>1st owner</td>\n",
       "      <td>5990000</td>\n",
       "      <td>2925</td>\n",
       "      <td>2022</td>\n",
       "      <td>Mercedes</td>\n",
       "      <td>Benz E Class</td>\n",
       "    </tr>\n",
       "    <tr>\n",
       "      <th>2570</th>\n",
       "      <td>37430</td>\n",
       "      <td>Petrol</td>\n",
       "      <td>Automatic</td>\n",
       "      <td>2nd owner</td>\n",
       "      <td>4490000</td>\n",
       "      <td>2998</td>\n",
       "      <td>2016</td>\n",
       "      <td>BMW</td>\n",
       "      <td>7 Series</td>\n",
       "    </tr>\n",
       "    <tr>\n",
       "      <th>2586</th>\n",
       "      <td>63580</td>\n",
       "      <td>Petrol</td>\n",
       "      <td>Automatic</td>\n",
       "      <td>1st owner</td>\n",
       "      <td>5900000</td>\n",
       "      <td>1997</td>\n",
       "      <td>2021</td>\n",
       "      <td>Landrover</td>\n",
       "      <td>RANGE ROVER VELAR</td>\n",
       "    </tr>\n",
       "    <tr>\n",
       "      <th>2587</th>\n",
       "      <td>62000</td>\n",
       "      <td>Diesel</td>\n",
       "      <td>Automatic</td>\n",
       "      <td>1st owner</td>\n",
       "      <td>4800000</td>\n",
       "      <td>1950</td>\n",
       "      <td>2021</td>\n",
       "      <td>Mercedes</td>\n",
       "      <td>Benz GLC COUPE</td>\n",
       "    </tr>\n",
       "    <tr>\n",
       "      <th>2601</th>\n",
       "      <td>80260</td>\n",
       "      <td>Diesel</td>\n",
       "      <td>Automatic</td>\n",
       "      <td>2nd owner</td>\n",
       "      <td>4500000</td>\n",
       "      <td>2987</td>\n",
       "      <td>2016</td>\n",
       "      <td>Mercedes</td>\n",
       "      <td>Benz S Class</td>\n",
       "    </tr>\n",
       "    <tr>\n",
       "      <th>2607</th>\n",
       "      <td>43280</td>\n",
       "      <td>Diesel</td>\n",
       "      <td>Automatic</td>\n",
       "      <td>2nd owner</td>\n",
       "      <td>4500000</td>\n",
       "      <td>2987</td>\n",
       "      <td>2017</td>\n",
       "      <td>Mercedes</td>\n",
       "      <td>Benz S Class</td>\n",
       "    </tr>\n",
       "    <tr>\n",
       "      <th>2611</th>\n",
       "      <td>21500</td>\n",
       "      <td>Diesel</td>\n",
       "      <td>Automatic</td>\n",
       "      <td>1st owner</td>\n",
       "      <td>5200000</td>\n",
       "      <td>1950</td>\n",
       "      <td>2019</td>\n",
       "      <td>Mercedes</td>\n",
       "      <td>Benz GLC COUPE</td>\n",
       "    </tr>\n",
       "    <tr>\n",
       "      <th>2618</th>\n",
       "      <td>30410</td>\n",
       "      <td>Diesel</td>\n",
       "      <td>Automatic</td>\n",
       "      <td>2nd owner</td>\n",
       "      <td>5390000</td>\n",
       "      <td>2993</td>\n",
       "      <td>2016</td>\n",
       "      <td>Landrover</td>\n",
       "      <td>Range Rover Sport</td>\n",
       "    </tr>\n",
       "    <tr>\n",
       "      <th>2626</th>\n",
       "      <td>5170</td>\n",
       "      <td>Petrol</td>\n",
       "      <td>Automatic</td>\n",
       "      <td>1st owner</td>\n",
       "      <td>25000000</td>\n",
       "      <td>2981</td>\n",
       "      <td>2022</td>\n",
       "      <td>Porsche</td>\n",
       "      <td>911</td>\n",
       "    </tr>\n",
       "    <tr>\n",
       "      <th>2630</th>\n",
       "      <td>34030</td>\n",
       "      <td>Diesel</td>\n",
       "      <td>Automatic</td>\n",
       "      <td>1st owner</td>\n",
       "      <td>5450000</td>\n",
       "      <td>1999</td>\n",
       "      <td>2021</td>\n",
       "      <td>Landrover</td>\n",
       "      <td>Range Rover Evoque</td>\n",
       "    </tr>\n",
       "    <tr>\n",
       "      <th>2632</th>\n",
       "      <td>8560</td>\n",
       "      <td>Petrol</td>\n",
       "      <td>Automatic</td>\n",
       "      <td>1st owner</td>\n",
       "      <td>4700000</td>\n",
       "      <td>1332</td>\n",
       "      <td>2023</td>\n",
       "      <td>Mercedes</td>\n",
       "      <td>Benz GLA Class</td>\n",
       "    </tr>\n",
       "    <tr>\n",
       "      <th>2634</th>\n",
       "      <td>24240</td>\n",
       "      <td>Petrol</td>\n",
       "      <td>Automatic</td>\n",
       "      <td>2nd owner</td>\n",
       "      <td>4700000</td>\n",
       "      <td>1998</td>\n",
       "      <td>2018</td>\n",
       "      <td>BMW</td>\n",
       "      <td>6 Series</td>\n",
       "    </tr>\n",
       "    <tr>\n",
       "      <th>2646</th>\n",
       "      <td>43070</td>\n",
       "      <td>Petrol</td>\n",
       "      <td>Automatic</td>\n",
       "      <td>1st owner</td>\n",
       "      <td>8875000</td>\n",
       "      <td>4663</td>\n",
       "      <td>2018</td>\n",
       "      <td>Mercedes</td>\n",
       "      <td>Benz Maybach S Class</td>\n",
       "    </tr>\n",
       "    <tr>\n",
       "      <th>2663</th>\n",
       "      <td>90630</td>\n",
       "      <td>Petrol</td>\n",
       "      <td>Manual</td>\n",
       "      <td>1st owner</td>\n",
       "      <td>120000</td>\n",
       "      <td>1197</td>\n",
       "      <td>2012</td>\n",
       "      <td>Hyundai</td>\n",
       "      <td>i10</td>\n",
       "    </tr>\n",
       "    <tr>\n",
       "      <th>2664</th>\n",
       "      <td>60650</td>\n",
       "      <td>Petrol</td>\n",
       "      <td>Manual</td>\n",
       "      <td>2nd owner</td>\n",
       "      <td>121000</td>\n",
       "      <td>1495</td>\n",
       "      <td>2011</td>\n",
       "      <td>Hyundai</td>\n",
       "      <td>Accent</td>\n",
       "    </tr>\n",
       "    <tr>\n",
       "      <th>2679</th>\n",
       "      <td>54690</td>\n",
       "      <td>Petrol</td>\n",
       "      <td>Manual</td>\n",
       "      <td>1st owner</td>\n",
       "      <td>130000</td>\n",
       "      <td>1197</td>\n",
       "      <td>2010</td>\n",
       "      <td>Hyundai</td>\n",
       "      <td>i20</td>\n",
       "    </tr>\n",
       "    <tr>\n",
       "      <th>2686</th>\n",
       "      <td>88650</td>\n",
       "      <td>Diesel</td>\n",
       "      <td>Manual</td>\n",
       "      <td>1st owner</td>\n",
       "      <td>117000</td>\n",
       "      <td>1399</td>\n",
       "      <td>2012</td>\n",
       "      <td>Ford</td>\n",
       "      <td>Figo</td>\n",
       "    </tr>\n",
       "    <tr>\n",
       "      <th>2689</th>\n",
       "      <td>43160</td>\n",
       "      <td>Petrol</td>\n",
       "      <td>Automatic</td>\n",
       "      <td>1st owner</td>\n",
       "      <td>4700000</td>\n",
       "      <td>1991</td>\n",
       "      <td>2021</td>\n",
       "      <td>Mercedes</td>\n",
       "      <td>Benz E Class</td>\n",
       "    </tr>\n",
       "  </tbody>\n",
       "</table>\n",
       "</div>"
      ],
      "text/plain": [
       "      km_driven fuel_type transmission      owner     price  engine_capacity  \\\n",
       "333       56630    Diesel    Automatic  2nd owner   4395000             2993   \n",
       "345       10860    Petrol    Automatic  1st owner   7500000             2998   \n",
       "357       36000    Diesel    Automatic  1st owner   4575000             1950   \n",
       "381       21000    Diesel    Automatic  1st owner   4500000             4367   \n",
       "382       24610    Diesel    Automatic  1st owner   4775000             4367   \n",
       "415       25300    Diesel    Automatic  1st owner   4975000             1969   \n",
       "439        7220    Petrol    Automatic  1st owner   4600000             1991   \n",
       "479       39240    Petrol    Automatic  1st owner   5275000             1991   \n",
       "656       95730    Petrol       Manual  3rd owner    142000             1086   \n",
       "658       55000    Diesel       Manual  1st owner    128000             1405   \n",
       "680       65500    Petrol       Manual  1st owner    127000             1197   \n",
       "705       81910    Petrol       Manual  2nd owner    142000             1197   \n",
       "722       66180    Petrol       Manual  3rd owner    145000              814   \n",
       "729       67780    Petrol       Manual  2nd owner    117000             1586   \n",
       "731       71360    Diesel       Manual  2nd owner    140000              936   \n",
       "759       92820    Petrol       Manual     Others    132000             1086   \n",
       "765       73340  Electric    Automatic  2nd owner    146000             2179   \n",
       "775       34350    Petrol       Manual     Others     62000              627   \n",
       "801      110000    Petrol       Manual  2nd owner    136000             1197   \n",
       "816       66500  Electric    Automatic  2nd owner    146000             2179   \n",
       "819       16290  Electric    Automatic  3rd owner    136000             2179   \n",
       "847      100000    Diesel       Manual  3rd owner    102000             1197   \n",
       "858       34310    Petrol       Manual  1st owner    142000              995   \n",
       "868       68120    Petrol       Manual  2nd owner     95000              995   \n",
       "870       85530    Petrol       Manual  2nd owner    110000              995   \n",
       "908       41220    Petrol       Manual  3rd owner    120000             1368   \n",
       "912       41180    Petrol       Manual  1st owner    133000             1196   \n",
       "926      200000    Diesel       Manual  3rd owner    125000             1399   \n",
       "933       56640    Petrol       Manual  2nd owner     57000              624   \n",
       "999      160000    Diesel       Manual  3rd owner    132000             1399   \n",
       "1043      46420    Petrol       Manual     Others     62000              627   \n",
       "1454      25000    Diesel    Automatic  2nd owner   4413000             1950   \n",
       "1456      14500    Petrol    Automatic  2nd owner   4400000             1991   \n",
       "1940      36920    Petrol       Manual  2nd owner    123000              814   \n",
       "2543      59900    Petrol    Automatic  1st owner   5890000             1997   \n",
       "2544      83490    Petrol    Automatic  1st owner   6800000             1995   \n",
       "2552      43360    Diesel    Automatic  1st owner   6000000             2925   \n",
       "2553      11000    Diesel    Automatic  1st owner   4550000             2755   \n",
       "2558      10050    Diesel    Automatic  1st owner   5990000             2925   \n",
       "2570      37430    Petrol    Automatic  2nd owner   4490000             2998   \n",
       "2586      63580    Petrol    Automatic  1st owner   5900000             1997   \n",
       "2587      62000    Diesel    Automatic  1st owner   4800000             1950   \n",
       "2601      80260    Diesel    Automatic  2nd owner   4500000             2987   \n",
       "2607      43280    Diesel    Automatic  2nd owner   4500000             2987   \n",
       "2611      21500    Diesel    Automatic  1st owner   5200000             1950   \n",
       "2618      30410    Diesel    Automatic  2nd owner   5390000             2993   \n",
       "2626       5170    Petrol    Automatic  1st owner  25000000             2981   \n",
       "2630      34030    Diesel    Automatic  1st owner   5450000             1999   \n",
       "2632       8560    Petrol    Automatic  1st owner   4700000             1332   \n",
       "2634      24240    Petrol    Automatic  2nd owner   4700000             1998   \n",
       "2646      43070    Petrol    Automatic  1st owner   8875000             4663   \n",
       "2663      90630    Petrol       Manual  1st owner    120000             1197   \n",
       "2664      60650    Petrol       Manual  2nd owner    121000             1495   \n",
       "2679      54690    Petrol       Manual  1st owner    130000             1197   \n",
       "2686      88650    Diesel       Manual  1st owner    117000             1399   \n",
       "2689      43160    Petrol    Automatic  1st owner   4700000             1991   \n",
       "\n",
       "      year      brand                   model  \n",
       "333   2017        BMW                      X5  \n",
       "345   2024        BMW                   M340i  \n",
       "357   2020   Mercedes            Benz E Class  \n",
       "381   2012  Landrover             Range Rover  \n",
       "382   2012  Landrover             Range Rover  \n",
       "415   2019      Volvo                     S90  \n",
       "439   2022   Mercedes  Benz A CLASS LIMOUSINE  \n",
       "479   2022   Mercedes          Benz GLC CLASS  \n",
       "656   2010    Hyundai                     i10  \n",
       "658   2011       Tata              Indigo ECS  \n",
       "680   2010     Maruti             Swift Dzire  \n",
       "705   2014     Maruti                Alto K10  \n",
       "722   2014    Hyundai                     Eon  \n",
       "729   2010     Maruti                     SX4  \n",
       "731   2012  Chevrolet                    Beat  \n",
       "759   2010    Hyundai                     i10  \n",
       "765   2013   Mahindra                     E2O  \n",
       "775   2010       Tata                    Nano  \n",
       "801   2010    Hyundai                     i20  \n",
       "816   2014   Mahindra                     E2O  \n",
       "819   2014   Mahindra                     E2O  \n",
       "847   2013    Premier                     Rio  \n",
       "858   2011  Chevrolet                   Spark  \n",
       "868   2010  Chevrolet                   Spark  \n",
       "870   2010  Chevrolet                   Spark  \n",
       "908   2013       Fiat             Grand Punto  \n",
       "912   2010       Ford                    Figo  \n",
       "926   2011       Ford                    Figo  \n",
       "933   2012       Tata                    Nano  \n",
       "999   2012       Ford                    Figo  \n",
       "1043  2012       Tata                    Nano  \n",
       "1454  2023   Mercedes          Benz GLA Class  \n",
       "1456  2022   Mercedes          Benz GLA Class  \n",
       "1940  2013    Hyundai                     Eon  \n",
       "2543  2021  Landrover       RANGE ROVER VELAR  \n",
       "2544  2019        BMW                      X7  \n",
       "2552  2019   Mercedes            Benz S Class  \n",
       "2553  2024     Toyota                Fortuner  \n",
       "2558  2022   Mercedes            Benz E Class  \n",
       "2570  2016        BMW                7 Series  \n",
       "2586  2021  Landrover       RANGE ROVER VELAR  \n",
       "2587  2021   Mercedes          Benz GLC COUPE  \n",
       "2601  2016   Mercedes            Benz S Class  \n",
       "2607  2017   Mercedes            Benz S Class  \n",
       "2611  2019   Mercedes          Benz GLC COUPE  \n",
       "2618  2016  Landrover       Range Rover Sport  \n",
       "2626  2022    Porsche                     911  \n",
       "2630  2021  Landrover      Range Rover Evoque  \n",
       "2632  2023   Mercedes          Benz GLA Class  \n",
       "2634  2018        BMW                6 Series  \n",
       "2646  2018   Mercedes    Benz Maybach S Class  \n",
       "2663  2012    Hyundai                     i10  \n",
       "2664  2011    Hyundai                  Accent  \n",
       "2679  2010    Hyundai                     i20  \n",
       "2686  2012       Ford                    Figo  \n",
       "2689  2021   Mercedes            Benz E Class  "
      ]
     },
     "execution_count": 34,
     "metadata": {},
     "output_type": "execute_result"
    }
   ],
   "source": [
    "# Detecting Suspiciously Extreme Outliers using Percentiles\n",
    "updated_cars[(updated_cars['price'] < float(price_describe['1%'])) | (updated_cars['price'] > float(price_describe['99%']))]"
   ]
  },
  {
   "cell_type": "code",
   "execution_count": 35,
   "id": "44237701-bf67-4801-80cb-18dee4e4789a",
   "metadata": {},
   "outputs": [
    {
     "data": {
      "text/plain": [
       "Index([ 333,  345,  357,  381,  382,  415,  439,  479,  656,  658,  680,  705,\n",
       "        722,  729,  731,  759,  765,  775,  801,  816,  819,  847,  858,  868,\n",
       "        870,  908,  912,  926,  933,  999, 1043, 1454, 1456, 1940, 2543, 2544,\n",
       "       2552, 2553, 2558, 2570, 2586, 2587, 2601, 2607, 2611, 2618, 2626, 2630,\n",
       "       2632, 2634, 2646, 2663, 2664, 2679, 2686, 2689],\n",
       "      dtype='int64')"
      ]
     },
     "execution_count": 35,
     "metadata": {},
     "output_type": "execute_result"
    }
   ],
   "source": [
    "# Index of Suspiciously Extreme Outliers\n",
    "extreme_outlier_idx = updated_cars[(updated_cars['price'] < float(price_describe['1%'])) | (updated_cars['price'] > float(price_describe['99%']))].index\n",
    "extreme_outlier_idx"
   ]
  },
  {
   "cell_type": "code",
   "execution_count": 36,
   "id": "269aa355-3a8f-4523-981a-beb44965d8fa",
   "metadata": {},
   "outputs": [],
   "source": [
    "# Removing Suspiciously Extreme Outliers\n",
    "updated_cars = updated_cars.drop(index=extreme_outlier_idx, axis=0)"
   ]
  },
  {
   "cell_type": "code",
   "execution_count": 37,
   "id": "71a66890-9c86-4354-97ed-6f648a65fa55",
   "metadata": {},
   "outputs": [],
   "source": [
    "# First quartile or 25th percentile\n",
    "q1 = updated_cars['price'].quantile(0.25)\n",
    "\n",
    "# Third quartile or 75th percentile\n",
    "q3 = updated_cars['price'].quantile(0.75)"
   ]
  },
  {
   "cell_type": "code",
   "execution_count": 38,
   "id": "f5cd0fa3-6d7f-44b1-960d-9684d8e69240",
   "metadata": {},
   "outputs": [],
   "source": [
    "# IQR = Q3 - Q1\n",
    "iqr = q3 - q1"
   ]
  },
  {
   "cell_type": "code",
   "execution_count": 39,
   "id": "34751668-1067-42ef-8a5a-df6a6c34b27d",
   "metadata": {},
   "outputs": [],
   "source": [
    "# Range of Extreme Outliers\n",
    "extreme_lower_limit = q1 - 3*iqr\n",
    "extreme_upper_limit = q3 + 3*iqr"
   ]
  },
  {
   "cell_type": "code",
   "execution_count": 40,
   "id": "3d19fd63-70c7-4e18-b7ac-7138f8250121",
   "metadata": {},
   "outputs": [
    {
     "data": {
      "text/html": [
       "<div>\n",
       "<style scoped>\n",
       "    .dataframe tbody tr th:only-of-type {\n",
       "        vertical-align: middle;\n",
       "    }\n",
       "\n",
       "    .dataframe tbody tr th {\n",
       "        vertical-align: top;\n",
       "    }\n",
       "\n",
       "    .dataframe thead th {\n",
       "        text-align: right;\n",
       "    }\n",
       "</style>\n",
       "<table border=\"1\" class=\"dataframe\">\n",
       "  <thead>\n",
       "    <tr style=\"text-align: right;\">\n",
       "      <th></th>\n",
       "      <th>km_driven</th>\n",
       "      <th>fuel_type</th>\n",
       "      <th>transmission</th>\n",
       "      <th>owner</th>\n",
       "      <th>price</th>\n",
       "      <th>engine_capacity</th>\n",
       "      <th>year</th>\n",
       "      <th>brand</th>\n",
       "      <th>model</th>\n",
       "    </tr>\n",
       "  </thead>\n",
       "  <tbody>\n",
       "    <tr>\n",
       "      <th>324</th>\n",
       "      <td>46330</td>\n",
       "      <td>Diesel</td>\n",
       "      <td>Automatic</td>\n",
       "      <td>1st owner</td>\n",
       "      <td>4295000</td>\n",
       "      <td>2987</td>\n",
       "      <td>2016</td>\n",
       "      <td>Mercedes</td>\n",
       "      <td>Benz GLE</td>\n",
       "    </tr>\n",
       "    <tr>\n",
       "      <th>325</th>\n",
       "      <td>56000</td>\n",
       "      <td>Diesel</td>\n",
       "      <td>Automatic</td>\n",
       "      <td>2nd owner</td>\n",
       "      <td>3650000</td>\n",
       "      <td>1950</td>\n",
       "      <td>2017</td>\n",
       "      <td>Mercedes</td>\n",
       "      <td>Benz E Class</td>\n",
       "    </tr>\n",
       "    <tr>\n",
       "      <th>331</th>\n",
       "      <td>140000</td>\n",
       "      <td>Diesel</td>\n",
       "      <td>Automatic</td>\n",
       "      <td>1st owner</td>\n",
       "      <td>2900000</td>\n",
       "      <td>1968</td>\n",
       "      <td>2015</td>\n",
       "      <td>Audi</td>\n",
       "      <td>Q7</td>\n",
       "    </tr>\n",
       "    <tr>\n",
       "      <th>335</th>\n",
       "      <td>46300</td>\n",
       "      <td>Diesel</td>\n",
       "      <td>Automatic</td>\n",
       "      <td>1st owner</td>\n",
       "      <td>4199000</td>\n",
       "      <td>2987</td>\n",
       "      <td>2016</td>\n",
       "      <td>Mercedes</td>\n",
       "      <td>Benz GLE</td>\n",
       "    </tr>\n",
       "    <tr>\n",
       "      <th>338</th>\n",
       "      <td>77590</td>\n",
       "      <td>Diesel</td>\n",
       "      <td>Automatic</td>\n",
       "      <td>1st owner</td>\n",
       "      <td>2600000</td>\n",
       "      <td>1995</td>\n",
       "      <td>2018</td>\n",
       "      <td>BMW</td>\n",
       "      <td>X1</td>\n",
       "    </tr>\n",
       "    <tr>\n",
       "      <th>...</th>\n",
       "      <td>...</td>\n",
       "      <td>...</td>\n",
       "      <td>...</td>\n",
       "      <td>...</td>\n",
       "      <td>...</td>\n",
       "      <td>...</td>\n",
       "      <td>...</td>\n",
       "      <td>...</td>\n",
       "      <td>...</td>\n",
       "    </tr>\n",
       "    <tr>\n",
       "      <th>2659</th>\n",
       "      <td>120000</td>\n",
       "      <td>Diesel</td>\n",
       "      <td>Automatic</td>\n",
       "      <td>2nd owner</td>\n",
       "      <td>2550000</td>\n",
       "      <td>1996</td>\n",
       "      <td>2021</td>\n",
       "      <td>Ford</td>\n",
       "      <td>Endeavour</td>\n",
       "    </tr>\n",
       "    <tr>\n",
       "      <th>2682</th>\n",
       "      <td>39100</td>\n",
       "      <td>Diesel</td>\n",
       "      <td>Automatic</td>\n",
       "      <td>2nd owner</td>\n",
       "      <td>2280000</td>\n",
       "      <td>2143</td>\n",
       "      <td>2018</td>\n",
       "      <td>Mercedes</td>\n",
       "      <td>Benz GLA Class</td>\n",
       "    </tr>\n",
       "    <tr>\n",
       "      <th>2690</th>\n",
       "      <td>32770</td>\n",
       "      <td>Diesel</td>\n",
       "      <td>Automatic</td>\n",
       "      <td>1st owner</td>\n",
       "      <td>3800000</td>\n",
       "      <td>2755</td>\n",
       "      <td>2022</td>\n",
       "      <td>Toyota</td>\n",
       "      <td>Fortuner</td>\n",
       "    </tr>\n",
       "    <tr>\n",
       "      <th>2691</th>\n",
       "      <td>36630</td>\n",
       "      <td>Petrol</td>\n",
       "      <td>Automatic</td>\n",
       "      <td>1st owner</td>\n",
       "      <td>2600000</td>\n",
       "      <td>1991</td>\n",
       "      <td>2018</td>\n",
       "      <td>Mercedes</td>\n",
       "      <td>Benz C Class</td>\n",
       "    </tr>\n",
       "    <tr>\n",
       "      <th>2757</th>\n",
       "      <td>30490</td>\n",
       "      <td>Diesel</td>\n",
       "      <td>Automatic</td>\n",
       "      <td>2nd owner</td>\n",
       "      <td>2812000</td>\n",
       "      <td>2755</td>\n",
       "      <td>2021</td>\n",
       "      <td>Toyota</td>\n",
       "      <td>Fortuner</td>\n",
       "    </tr>\n",
       "  </tbody>\n",
       "</table>\n",
       "<p>84 rows × 9 columns</p>\n",
       "</div>"
      ],
      "text/plain": [
       "      km_driven fuel_type transmission      owner    price  engine_capacity  \\\n",
       "324       46330    Diesel    Automatic  1st owner  4295000             2987   \n",
       "325       56000    Diesel    Automatic  2nd owner  3650000             1950   \n",
       "331      140000    Diesel    Automatic  1st owner  2900000             1968   \n",
       "335       46300    Diesel    Automatic  1st owner  4199000             2987   \n",
       "338       77590    Diesel    Automatic  1st owner  2600000             1995   \n",
       "...         ...       ...          ...        ...      ...              ...   \n",
       "2659     120000    Diesel    Automatic  2nd owner  2550000             1996   \n",
       "2682      39100    Diesel    Automatic  2nd owner  2280000             2143   \n",
       "2690      32770    Diesel    Automatic  1st owner  3800000             2755   \n",
       "2691      36630    Petrol    Automatic  1st owner  2600000             1991   \n",
       "2757      30490    Diesel    Automatic  2nd owner  2812000             2755   \n",
       "\n",
       "      year     brand           model  \n",
       "324   2016  Mercedes        Benz GLE  \n",
       "325   2017  Mercedes    Benz E Class  \n",
       "331   2015      Audi              Q7  \n",
       "335   2016  Mercedes        Benz GLE  \n",
       "338   2018       BMW              X1  \n",
       "...    ...       ...             ...  \n",
       "2659  2021      Ford       Endeavour  \n",
       "2682  2018  Mercedes  Benz GLA Class  \n",
       "2690  2022    Toyota        Fortuner  \n",
       "2691  2018  Mercedes    Benz C Class  \n",
       "2757  2021    Toyota        Fortuner  \n",
       "\n",
       "[84 rows x 9 columns]"
      ]
     },
     "execution_count": 40,
     "metadata": {},
     "output_type": "execute_result"
    }
   ],
   "source": [
    "# Detecting Extreme Outliers\n",
    "updated_cars[(updated_cars['price'] < extreme_lower_limit) | (updated_cars['price'] > extreme_upper_limit)]"
   ]
  },
  {
   "cell_type": "code",
   "execution_count": 41,
   "id": "01882cb4-4042-4a92-9493-74b1290c832a",
   "metadata": {},
   "outputs": [
    {
     "data": {
      "text/plain": [
       "Index([ 324,  325,  331,  335,  338,  340,  351,  353,  366,  373,  376,  396,\n",
       "        400,  401,  402,  403,  409,  410,  440,  442,  445,  451,  458,  467,\n",
       "        478,  480, 1373, 1406, 1443, 1448, 1460, 1464, 1503, 1923, 2542, 2545,\n",
       "       2546, 2547, 2548, 2551, 2561, 2569, 2571, 2572, 2573, 2574, 2575, 2576,\n",
       "       2578, 2585, 2590, 2591, 2592, 2594, 2596, 2599, 2600, 2602, 2604, 2605,\n",
       "       2606, 2608, 2609, 2610, 2616, 2617, 2619, 2625, 2627, 2629, 2631, 2633,\n",
       "       2635, 2636, 2640, 2641, 2643, 2647, 2648, 2659, 2682, 2690, 2691, 2757],\n",
       "      dtype='int64')"
      ]
     },
     "execution_count": 41,
     "metadata": {},
     "output_type": "execute_result"
    }
   ],
   "source": [
    "# Index of Extreme Outliers\n",
    "extreme_outlier_idx = updated_cars[(updated_cars['price'] < extreme_lower_limit) | (updated_cars['price'] > extreme_upper_limit)].index\n",
    "extreme_outlier_idx"
   ]
  },
  {
   "cell_type": "code",
   "execution_count": 42,
   "id": "4bd35247-9d2c-4721-acca-0f1d1776feac",
   "metadata": {},
   "outputs": [],
   "source": [
    "# Removing Extreme Outliers\n",
    "updated_cars = updated_cars.drop(index=extreme_outlier_idx, axis=0)"
   ]
  },
  {
   "cell_type": "code",
   "execution_count": 43,
   "id": "e508375b-a0d7-4a5a-8457-e5f9e0fbd4ff",
   "metadata": {},
   "outputs": [
    {
     "data": {
      "image/png": "[encoded data removed]",
      "text/plain": [
       "<Figure size 640x480 with 1 Axes>"
      ]
     },
     "metadata": {},
     "output_type": "display_data"
    }
   ],
   "source": [
    "# Box Plot of \"price\" column after Outlier Removal\n",
    "sns.boxplot(updated_cars['price'])\n",
    "plt.show()"
   ]
  },
  {
   "cell_type": "code",
   "execution_count": 44,
   "id": "954e3a5e-b83d-4c51-b146-62f046d1aa98",
   "metadata": {},
   "outputs": [
    {
     "data": {
      "image/png": "[encoded data removed]",
      "text/plain": [
       "<Figure size 640x480 with 1 Axes>"
      ]
     },
     "metadata": {},
     "output_type": "display_data"
    }
   ],
   "source": [
    "# Distribution of \"price\" column after Outlier Removal\n",
    "sns.histplot(updated_cars['price'])\n",
    "plt.show()"
   ]
  },
  {
   "cell_type": "code",
   "execution_count": 45,
   "id": "701e0de2-6bf7-45b8-808b-99520fce993a",
   "metadata": {},
   "outputs": [
    {
     "data": {
      "image/png": "[encoded data removed]",
      "text/plain": [
       "<Figure size 640x480 with 1 Axes>"
      ]
     },
     "metadata": {},
     "output_type": "display_data"
    }
   ],
   "source": [
    "# Visual Representation of Outliers in the Data\n",
    "sns.histplot(cars['price'])\n",
    "plt.axvspan(xmin=extreme_lower_limit, xmax=cars['price'].min(), alpha=0.15, color='red')\n",
    "plt.axvspan(xmin=extreme_upper_limit, xmax=cars['price'].max(), alpha=0.15, color='red')\n",
    "plt.title('Extreme Outliers')\n",
    "plt.show()"
   ]
  },
  {
   "cell_type": "code",
   "execution_count": 46,
   "id": "e517a80a-2f93-4f41-a19f-2a686f4cf047",
   "metadata": {},
   "outputs": [
    {
     "data": {
      "image/png": "[encoded data removed]",
      "text/plain": [
       "<Figure size 1200x800 with 4 Axes>"
      ]
     },
     "metadata": {},
     "output_type": "display_data"
    }
   ],
   "source": [
    "# Before and After of \"price\" column\n",
    "fig, ax = plt.subplots(ncols=2, nrows=2, figsize=(12,8))\n",
    "sns.boxplot(cars['price'], ax=ax[0,0])\n",
    "sns.boxplot(updated_cars['price'], ax=ax[0,1])\n",
    "sns.histplot(cars['price'], ax=ax[1,0])\n",
    "sns.histplot(updated_cars['price'], ax=ax[1,1])\n",
    "ax[0,0].set_title('Box Plot before removing Outliers')\n",
    "ax[0,1].set_title('Box Plot after removing Outliers')\n",
    "ax[1,0].set_title('Distribution of data before removing Outliers')\n",
    "ax[1,1].set_title('Distribution of data after removing Outliers')\n",
    "plt.tight_layout()\n",
    "plt.show()"
   ]
  },
  {
   "cell_type": "markdown",
   "id": "3290d627-eb6f-4cb5-bbe7-294784cd9d12",
   "metadata": {},
   "source": [
    "### Handling `engine_capacity` Column\n",
    "\n",
    "---"
   ]
  },
  {
   "cell_type": "code",
   "execution_count": 47,
   "id": "8ef92866-6b04-4385-b40f-f92d5f6b5108",
   "metadata": {},
   "outputs": [
    {
     "data": {
      "image/png": "[encoded data removed]",
      "text/plain": [
       "<Figure size 640x480 with 1 Axes>"
      ]
     },
     "metadata": {},
     "output_type": "display_data"
    }
   ],
   "source": [
    "# Box Plot of \"engine_capacity\" column\n",
    "sns.boxplot(updated_cars['engine_capacity'])\n",
    "plt.show()"
   ]
  },
  {
   "cell_type": "code",
   "execution_count": 48,
   "id": "aa093ee9-9c5a-456f-8ac8-470cecc92d40",
   "metadata": {},
   "outputs": [
    {
     "data": {
      "image/png": "[encoded data removed]",
      "text/plain": [
       "<Figure size 1400x400 with 1 Axes>"
      ]
     },
     "metadata": {},
     "output_type": "display_data"
    }
   ],
   "source": [
    "# Frequency Distribution of \"engine_capacity\" column\n",
    "# As we can see, there are lots of rare categories, which may be noise and can cause overfitting\n",
    "plt.figure(figsize=(14,4))\n",
    "ax = sns.countplot(data=updated_cars, x='engine_capacity', order=updated_cars['engine_capacity'].value_counts().sort_values().index)\n",
    "ax.bar_label(ax.containers[0])\n",
    "plt.xlabel('engine_capacity')\n",
    "plt.ylabel('Count')\n",
    "plt.xticks(rotation=90)\n",
    "plt.tight_layout()\n",
    "plt.show()"
   ]
  },
  {
   "cell_type": "code",
   "execution_count": 49,
   "id": "42710542-b070-4420-b324-5500b37bea79",
   "metadata": {},
   "outputs": [
    {
     "data": {
      "text/plain": [
       "engine_capacity\n",
       "1197    640\n",
       "1199    299\n",
       "998     254\n",
       "999     220\n",
       "1497    148\n",
       "       ... \n",
       "2694      1\n",
       "1950      1\n",
       "2967      1\n",
       "2199      1\n",
       "2393      1\n",
       "Name: count, Length: 73, dtype: int64"
      ]
     },
     "execution_count": 49,
     "metadata": {},
     "output_type": "execute_result"
    }
   ],
   "source": [
    "# Frequency Distribution of \"engine_capacity\" column\n",
    "engine_freq = updated_cars['engine_capacity'].value_counts()\n",
    "engine_freq"
   ]
  },
  {
   "cell_type": "code",
   "execution_count": 50,
   "id": "2f9c898f-e624-4af1-b184-62e940ebbaf5",
   "metadata": {},
   "outputs": [
    {
     "data": {
      "text/plain": [
       "Index([1197, 1199,  998,  999, 1497, 1498, 1198, 1493, 1462, 1591, 1248, 2179,\n",
       "       1956, 1086, 1373, 1461, 1451,  796,  799, 1396, 1968, 1997, 1353, 1598,\n",
       "       1995, 2143, 1499, 1582,  814, 1368, 1496, 1196, 1798, 1194, 1120, 2184,\n",
       "       1399, 1193, 2183],\n",
       "      dtype='int16', name='engine_capacity')"
      ]
     },
     "execution_count": 50,
     "metadata": {},
     "output_type": "execute_result"
    }
   ],
   "source": [
    "# Selecting \"engine_capacity\" having count greater than or equal to 4 as \"top_engines\"\n",
    "top_engines = engine_freq[engine_freq >= 4].index\n",
    "top_engines"
   ]
  },
  {
   "cell_type": "code",
   "execution_count": 51,
   "id": "ae3207ac-20ac-4abf-acb3-0b7edefa0f58",
   "metadata": {},
   "outputs": [],
   "source": [
    "# Removing rare categories from \"engine_capacity\" column\n",
    "updated_cars = updated_cars[updated_cars['engine_capacity'].isin(top_engines)]"
   ]
  },
  {
   "cell_type": "code",
   "execution_count": 52,
   "id": "b4bce1bf-3e69-4177-bac7-3ce8a8424ac1",
   "metadata": {},
   "outputs": [
    {
     "data": {
      "image/png": "[encoded data removed]",
      "text/plain": [
       "<Figure size 640x480 with 1 Axes>"
      ]
     },
     "metadata": {},
     "output_type": "display_data"
    }
   ],
   "source": [
    "# Box Plot of \"engine_capacity\" column after transformation\n",
    "sns.boxplot(updated_cars['engine_capacity'])\n",
    "plt.show()"
   ]
  },
  {
   "cell_type": "code",
   "execution_count": 53,
   "id": "6ab56efb-be6b-4301-903c-72bcabcc7fa5",
   "metadata": {},
   "outputs": [
    {
     "data": {
      "image/png": "[encoded data removed]",
      "text/plain": [
       "<Figure size 1400x400 with 1 Axes>"
      ]
     },
     "metadata": {},
     "output_type": "display_data"
    }
   ],
   "source": [
    "# Frequency Distribution of \"engine_capacity\" column after transformation\n",
    "plt.figure(figsize=(14,4))\n",
    "ax = sns.countplot(data=updated_cars, x='engine_capacity', order=updated_cars['engine_capacity'].value_counts().sort_values().index)\n",
    "ax.bar_label(ax.containers[0])\n",
    "plt.xlabel('engine_capacity')\n",
    "plt.ylabel('Count')\n",
    "plt.xticks(rotation=90)\n",
    "plt.tight_layout()\n",
    "plt.show()"
   ]
  },
  {
   "cell_type": "markdown",
   "id": "45e55ede-ac5c-4dd6-9afb-da1884e675d2",
   "metadata": {},
   "source": [
    "### Handling `brand` Column\n",
    "\n",
    "---"
   ]
  },
  {
   "cell_type": "code",
   "execution_count": 54,
   "id": "743a7c97-d723-45f8-9283-01de00de88e1",
   "metadata": {},
   "outputs": [
    {
     "data": {
      "text/plain": [
       "brand\n",
       "Maruti        689\n",
       "Hyundai       540\n",
       "Tata          280\n",
       "Honda         211\n",
       "Renault       191\n",
       "Mahindra      130\n",
       "KIA           110\n",
       "Ford           88\n",
       "Volkswagen     73\n",
       "Skoda          61\n",
       "MG             54\n",
       "Toyota         41\n",
       "Nissan         30\n",
       "Datsun         21\n",
       "Jeep           21\n",
       "Audi           19\n",
       "Mercedes       17\n",
       "BMW            16\n",
       "Fiat            7\n",
       "Landrover       3\n",
       "Chevrolet       1\n",
       "CITROEN         1\n",
       "Mini            1\n",
       "Jaguar          1\n",
       "Force           0\n",
       "Mitsubishi      0\n",
       "Porsche         0\n",
       "Premier         0\n",
       "Ssangyong       0\n",
       "Volvo           0\n",
       "Name: count, dtype: int64"
      ]
     },
     "execution_count": 54,
     "metadata": {},
     "output_type": "execute_result"
    }
   ],
   "source": [
    "# Frequency Distribution of \"brand\" column\n",
    "# As we can see, there are some brands with very few cars as compared to other brands (rare categories)\n",
    "# Also there are some car brands that are removed from the data but the brand name still exist in the column\n",
    "# This is because we have converted the \"brand\" column into category datatype, so we have to remove these categories manually\n",
    "brand_freq = updated_cars['brand'].value_counts()\n",
    "brand_freq"
   ]
  },
  {
   "cell_type": "code",
   "execution_count": 55,
   "id": "3c27b967-5d20-4e9e-8747-d94a5eedaa5f",
   "metadata": {},
   "outputs": [
    {
     "data": {
      "text/plain": [
       "CategoricalIndex(['Maruti', 'Hyundai', 'Tata', 'Honda', 'Renault', 'Mahindra',\n",
       "                  'KIA', 'Ford', 'Volkswagen', 'Skoda', 'MG', 'Toyota',\n",
       "                  'Nissan', 'Datsun', 'Jeep', 'Audi', 'Mercedes', 'BMW'],\n",
       "                 categories=['Audi', 'BMW', 'CITROEN', 'Chevrolet', ..., 'Tata', 'Toyota', 'Volkswagen', 'Volvo'], ordered=False, dtype='category', name='brand')"
      ]
     },
     "execution_count": 55,
     "metadata": {},
     "output_type": "execute_result"
    }
   ],
   "source": [
    "# Selecting \"brand\" having count greater than 10 as \"top_brands\"\n",
    "top_brands = brand_freq[brand_freq > 10].index\n",
    "top_brands"
   ]
  },
  {
   "cell_type": "code",
   "execution_count": 56,
   "id": "c4aab880-d60b-42af-99d8-6b9c7619259f",
   "metadata": {},
   "outputs": [],
   "source": [
    "# Removing rare categories from \"brand\" column\n",
    "updated_cars = updated_cars[updated_cars['brand'].isin(top_brands)]"
   ]
  },
  {
   "cell_type": "code",
   "execution_count": 57,
   "id": "5f9b0fcc-2663-43d8-a3a6-57d16cf7428e",
   "metadata": {},
   "outputs": [],
   "source": [
    "# Because we have converted \"brand\" column into category datatype, we also have to remove unused categories manually\n",
    "updated_cars['brand'] = updated_cars['brand'].cat.remove_unused_categories()"
   ]
  },
  {
   "cell_type": "code",
   "execution_count": 58,
   "id": "6951af3c-3f8f-45f4-b974-dc6db3de9fc8",
   "metadata": {},
   "outputs": [
    {
     "data": {
      "text/plain": [
       "brand\n",
       "Maruti        689\n",
       "Hyundai       540\n",
       "Tata          280\n",
       "Honda         211\n",
       "Renault       191\n",
       "Mahindra      130\n",
       "KIA           110\n",
       "Ford           88\n",
       "Volkswagen     73\n",
       "Skoda          61\n",
       "MG             54\n",
       "Toyota         41\n",
       "Nissan         30\n",
       "Datsun         21\n",
       "Jeep           21\n",
       "Audi           19\n",
       "Mercedes       17\n",
       "BMW            16\n",
       "Name: count, dtype: int64"
      ]
     },
     "execution_count": 58,
     "metadata": {},
     "output_type": "execute_result"
    }
   ],
   "source": [
    "# Frequency Distribution of \"brand\" column after transformation\n",
    "updated_cars['brand'].value_counts()"
   ]
  },
  {
   "cell_type": "markdown",
   "id": "8541de9e-0138-41cd-81b3-073bdb29fb73",
   "metadata": {},
   "source": [
    "### Handling `model` Column\n",
    "\n",
    "---"
   ]
  },
  {
   "cell_type": "code",
   "execution_count": 59,
   "id": "4576c34a-c867-4a86-ba67-88388e75e248",
   "metadata": {},
   "outputs": [
    {
     "data": {
      "text/plain": [
       "model\n",
       "NEXON        117\n",
       "Baleno       108\n",
       "Grand i10    104\n",
       "Creta         88\n",
       "Swift         88\n",
       "            ... \n",
       "X7             0\n",
       "XJ L           0\n",
       "XF             0\n",
       "Z4             0\n",
       "Xylo           0\n",
       "Name: count, Length: 216, dtype: int64"
      ]
     },
     "execution_count": 59,
     "metadata": {},
     "output_type": "execute_result"
    }
   ],
   "source": [
    "# Frequency Distribution of \"model\" column\n",
    "# As we can see, there are some model name that are removed from the data but the model name still exist in the column\n",
    "# This is because we have converted the \"model\" column into category datatype, so we have to remove these categories manually\n",
    "updated_cars['model'].value_counts()"
   ]
  },
  {
   "cell_type": "code",
   "execution_count": 60,
   "id": "f84b8cf8-aaca-4970-848e-25e6ae6147bd",
   "metadata": {},
   "outputs": [],
   "source": [
    "# Removing unused categories from \"model\" column\n",
    "updated_cars['model'] = updated_cars['model'].cat.remove_unused_categories()"
   ]
  },
  {
   "cell_type": "code",
   "execution_count": 61,
   "id": "94185845-21bc-425c-b9ed-52975d1dd06e",
   "metadata": {},
   "outputs": [
    {
     "data": {
      "text/plain": [
       "model\n",
       "NEXON               117\n",
       "Baleno              108\n",
       "Grand i10           104\n",
       "Swift                88\n",
       "Creta                88\n",
       "                   ... \n",
       "XCENT PRIME           1\n",
       "XUV 3XO               1\n",
       "Wagon R Stingray      1\n",
       "X3                    1\n",
       "ZS EV                 1\n",
       "Name: count, Length: 156, dtype: int64"
      ]
     },
     "execution_count": 61,
     "metadata": {},
     "output_type": "execute_result"
    }
   ],
   "source": [
    "# Frequency Distribution of \"model\" column\n",
    "# As we can see, there are some models with very few occurrence as compared to other models (rare categories)\n",
    "model_freq = updated_cars['model'].value_counts()\n",
    "model_freq"
   ]
  },
  {
   "cell_type": "code",
   "execution_count": 62,
   "id": "6e82ff4c-7c1a-4698-bc16-a5b39704415d",
   "metadata": {},
   "outputs": [
    {
     "data": {
      "text/plain": [
       "CategoricalIndex(['NEXON', 'Baleno', 'Grand i10', 'Swift', 'Creta', 'Kwid',\n",
       "                  'City', 'Celerio', 'Ecosport', 'Wagon R 1.0',\n",
       "                  ...\n",
       "                  '1 Series', 'TIAGO NRG', 'Superb', 'E2O', 'Curvv', 'Bolt',\n",
       "                  'Innova', 'Corolla Altis', 'ELEVATE', 'New Figo'],\n",
       "                 categories=['1 Series', '3 Series', '5 Series', 'A Star', ..., 'Zest', 'i10', 'i20', 'i20 Active'], ordered=False, dtype='category', name='model', length=127)"
      ]
     },
     "execution_count": 62,
     "metadata": {},
     "output_type": "execute_result"
    }
   ],
   "source": [
    "# Selecting \"model\" having count greater than or equal to 2 as \"top_models\"\n",
    "top_models = model_freq[model_freq >= 2].index\n",
    "top_models"
   ]
  },
  {
   "cell_type": "code",
   "execution_count": 63,
   "id": "a688c3e0-db4a-468f-975b-3b666e99a01a",
   "metadata": {},
   "outputs": [],
   "source": [
    "# Removing rare categories from \"model\" column\n",
    "updated_cars = updated_cars[updated_cars['model'].isin(top_models)]"
   ]
  },
  {
   "cell_type": "code",
   "execution_count": 64,
   "id": "0eaafae7-e5a6-476e-b915-01246f2b8441",
   "metadata": {},
   "outputs": [],
   "source": [
    "# Removing unused categories from \"model\" column\n",
    "updated_cars['model'] = updated_cars['model'].cat.remove_unused_categories()"
   ]
  },
  {
   "cell_type": "code",
   "execution_count": 65,
   "id": "373b7d8b-8de5-4727-af3c-3a537c5b4db7",
   "metadata": {},
   "outputs": [
    {
     "data": {
      "text/plain": [
       "model\n",
       "NEXON        117\n",
       "Baleno       108\n",
       "Grand i10    104\n",
       "Swift         88\n",
       "Creta         88\n",
       "            ... \n",
       "New Figo       2\n",
       "Tucson         2\n",
       "Superb         2\n",
       "TIAGO NRG      2\n",
       "TIGUAN         2\n",
       "Name: count, Length: 127, dtype: int64"
      ]
     },
     "execution_count": 65,
     "metadata": {},
     "output_type": "execute_result"
    }
   ],
   "source": [
    "# Frequency Distribution of \"model\" column after transformation\n",
    "updated_cars['model'].value_counts()"
   ]
  },
  {
   "cell_type": "markdown",
   "id": "cbe0625d-1eae-4d95-b219-95865adb8867",
   "metadata": {},
   "source": [
    "---"
   ]
  },
  {
   "cell_type": "code",
   "execution_count": 66,
   "id": "85454ad1-a3d4-4d0a-aa7f-7c1df1b7ea10",
   "metadata": {},
   "outputs": [],
   "source": [
    "# Resetting Index\n",
    "updated_cars.reset_index(drop=True, inplace=True)"
   ]
  },
  {
   "cell_type": "markdown",
   "id": "cce174f5-6711-4ef6-a71a-302cbd5cbe78",
   "metadata": {},
   "source": [
    "### Exporting Outlier Free DataFrame as Parquet File\n",
    "\n",
    "---"
   ]
  },
  {
   "cell_type": "code",
   "execution_count": 67,
   "id": "c66225e5-5626-4a33-840f-064f2ca19c4b",
   "metadata": {},
   "outputs": [
    {
     "name": "stdout",
     "output_type": "stream",
     "text": [
      "Successfully exported the DataFrame as 'clean_data_with_no_outlier.parquet'\n"
     ]
    }
   ],
   "source": [
    "# Importing export_as_parquet function from export_data module\n",
    "from export_data import export_as_parquet\n",
    "export_as_parquet(updated_cars, 'clean_data', 'clean_data_with_no_outlier.parquet')"
   ]
  }
 ],
 "metadata": {
  "kernelspec": {
   "display_name": "Python 3 (ipykernel)",
   "language": "python",
   "name": "python3"
  },
  "language_info": {
   "codemirror_mode": {
    "name": "ipython",
    "version": 3
   },
   "file_extension": ".py",
   "mimetype": "text/x-python",
   "name": "python",
   "nbconvert_exporter": "python",
   "pygments_lexer": "ipython3",
   "version": "3.13.0"
  }
 },
 "nbformat": 4,
 "nbformat_minor": 5
}
