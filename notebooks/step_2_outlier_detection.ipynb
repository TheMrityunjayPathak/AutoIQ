{
 "cells": [
  {
   "cell_type": "markdown",
   "id": "c93e8240-38de-4538-83f6-d29f19e63d77",
   "metadata": {},
   "source": [
    "### Importing Libraries\n",
    "\n",
    "---"
   ]
  },
  {
   "cell_type": "code",
   "execution_count": 1,
   "id": "bcc3e432-f675-4ea4-ae59-efef16e2997f",
   "metadata": {},
   "outputs": [],
   "source": [
    "import os\n",
    "import sys\n",
    "import numpy as np\n",
    "import pandas as pd\n",
    "import matplotlib.pyplot as plt\n",
    "import seaborn as sns"
   ]
  },
  {
   "cell_type": "markdown",
   "id": "d156be2e-78fd-4b73-8e5f-b96fc755d250",
   "metadata": {},
   "source": [
    "### Custom Seaborn Style\n",
    "\n",
    "---"
   ]
  },
  {
   "cell_type": "code",
   "execution_count": 2,
   "id": "2eaa2f04-1be5-4aaf-9c5f-6a4d9b13ee45",
   "metadata": {},
   "outputs": [],
   "source": [
    "sns.set_theme('paper')\n",
    "sns.set_style('ticks')"
   ]
  },
  {
   "cell_type": "markdown",
   "id": "580f4aeb-dc32-4e60-a7e7-c10b1593a35a",
   "metadata": {},
   "source": [
    "### Adding `utils` to `PYTHONPATH`\n",
    "\n",
    "---"
   ]
  },
  {
   "cell_type": "code",
   "execution_count": 3,
   "id": "942d6b4f-d7fc-4c5b-b2d6-49e9f86ca41e",
   "metadata": {},
   "outputs": [],
   "source": [
    "sys.path.append(os.path.abspath(\"../utils\"))"
   ]
  },
  {
   "cell_type": "markdown",
   "id": "54b0cdf5-e1c5-4b3f-b528-093def261cc2",
   "metadata": {},
   "source": [
    "### Reading Parquet File\n",
    "\n",
    "---"
   ]
  },
  {
   "cell_type": "code",
   "execution_count": 4,
   "id": "c071d210-134b-40fc-9f3f-171e8d2f9f94",
   "metadata": {},
   "outputs": [
    {
     "data": {
      "text/html": [
       "<div>\n",
       "<style scoped>\n",
       "    .dataframe tbody tr th:only-of-type {\n",
       "        vertical-align: middle;\n",
       "    }\n",
       "\n",
       "    .dataframe tbody tr th {\n",
       "        vertical-align: top;\n",
       "    }\n",
       "\n",
       "    .dataframe thead th {\n",
       "        text-align: right;\n",
       "    }\n",
       "</style>\n",
       "<table border=\"1\" class=\"dataframe\">\n",
       "  <thead>\n",
       "    <tr style=\"text-align: right;\">\n",
       "      <th></th>\n",
       "      <th>km_driven</th>\n",
       "      <th>fuel_type</th>\n",
       "      <th>transmission</th>\n",
       "      <th>owner</th>\n",
       "      <th>price</th>\n",
       "      <th>engine_capacity</th>\n",
       "      <th>year</th>\n",
       "      <th>brand</th>\n",
       "      <th>model</th>\n",
       "    </tr>\n",
       "  </thead>\n",
       "  <tbody>\n",
       "    <tr>\n",
       "      <th>0</th>\n",
       "      <td>88760</td>\n",
       "      <td>Petrol</td>\n",
       "      <td>Manual</td>\n",
       "      <td>1st owner</td>\n",
       "      <td>219000</td>\n",
       "      <td>998</td>\n",
       "      <td>2012</td>\n",
       "      <td>Maruti</td>\n",
       "      <td>Wagon R 1.0</td>\n",
       "    </tr>\n",
       "    <tr>\n",
       "      <th>1</th>\n",
       "      <td>17920</td>\n",
       "      <td>Petrol</td>\n",
       "      <td>Manual</td>\n",
       "      <td>1st owner</td>\n",
       "      <td>266000</td>\n",
       "      <td>796</td>\n",
       "      <td>2016</td>\n",
       "      <td>Maruti</td>\n",
       "      <td>Alto 800</td>\n",
       "    </tr>\n",
       "    <tr>\n",
       "      <th>2</th>\n",
       "      <td>9940</td>\n",
       "      <td>Petrol</td>\n",
       "      <td>Manual</td>\n",
       "      <td>1st owner</td>\n",
       "      <td>496000</td>\n",
       "      <td>1373</td>\n",
       "      <td>2014</td>\n",
       "      <td>Maruti</td>\n",
       "      <td>Ertiga</td>\n",
       "    </tr>\n",
       "    <tr>\n",
       "      <th>3</th>\n",
       "      <td>67340</td>\n",
       "      <td>Petrol</td>\n",
       "      <td>Manual</td>\n",
       "      <td>2nd owner</td>\n",
       "      <td>355000</td>\n",
       "      <td>1199</td>\n",
       "      <td>2016</td>\n",
       "      <td>Tata</td>\n",
       "      <td>Tiago</td>\n",
       "    </tr>\n",
       "    <tr>\n",
       "      <th>4</th>\n",
       "      <td>30390</td>\n",
       "      <td>Petrol</td>\n",
       "      <td>Manual</td>\n",
       "      <td>1st owner</td>\n",
       "      <td>530000</td>\n",
       "      <td>998</td>\n",
       "      <td>2023</td>\n",
       "      <td>Maruti</td>\n",
       "      <td>New Wagon-R</td>\n",
       "    </tr>\n",
       "  </tbody>\n",
       "</table>\n",
       "</div>"
      ],
      "text/plain": [
       "   km_driven fuel_type transmission      owner   price  engine_capacity  year  \\\n",
       "0      88760    Petrol       Manual  1st owner  219000              998  2012   \n",
       "1      17920    Petrol       Manual  1st owner  266000              796  2016   \n",
       "2       9940    Petrol       Manual  1st owner  496000             1373  2014   \n",
       "3      67340    Petrol       Manual  2nd owner  355000             1199  2016   \n",
       "4      30390    Petrol       Manual  1st owner  530000              998  2023   \n",
       "\n",
       "    brand        model  \n",
       "0  Maruti  Wagon R 1.0  \n",
       "1  Maruti     Alto 800  \n",
       "2  Maruti       Ertiga  \n",
       "3    Tata        Tiago  \n",
       "4  Maruti  New Wagon-R  "
      ]
     },
     "execution_count": 4,
     "metadata": {},
     "output_type": "execute_result"
    }
   ],
   "source": [
    "# Importing load_parquet function from read_data module\n",
    "from read_data import load_parquet\n",
    "cars = load_parquet('clean_data', 'clean_data.parquet')\n",
    "cars.head()"
   ]
  },
  {
   "cell_type": "markdown",
   "id": "f75d5a80-dd7d-48b0-9ed0-ed378da2bfd8",
   "metadata": {},
   "source": [
    "### Handling `year` Column\n",
    "\n",
    "---"
   ]
  },
  {
   "cell_type": "code",
   "execution_count": 5,
   "id": "32793b25-4d6c-42d1-886b-e84b502f1f66",
   "metadata": {},
   "outputs": [
    {
     "data": {
      "text/plain": [
       "year\n",
       "2022    310\n",
       "2021    305\n",
       "2018    286\n",
       "2017    274\n",
       "2019    263\n",
       "2016    243\n",
       "2020    234\n",
       "2023    194\n",
       "2015    188\n",
       "2014    168\n",
       "2013    131\n",
       "2024     76\n",
       "2012     65\n",
       "2011     49\n",
       "2010     36\n",
       "2025      1\n",
       "2007      1\n",
       "Name: count, dtype: int64"
      ]
     },
     "execution_count": 5,
     "metadata": {},
     "output_type": "execute_result"
    }
   ],
   "source": [
    "# Frequency Distribution of \"year\" column\n",
    "cars['year'].value_counts()"
   ]
  },
  {
   "cell_type": "code",
   "execution_count": 6,
   "id": "1149fa11-4a1b-4b7c-b6d4-3d9eae365861",
   "metadata": {},
   "outputs": [],
   "source": [
    "# As we can see, 2007 and 2025 are very rare in our data occuring only 1 time as compared to other values\n",
    "# So it's better to remove them, because model can't learn any pattern of year 2007 or 2025 with just 1 value\n",
    "# And it can also cause model to overfit instead of learning meaningful patterns\n",
    "cars = cars[(cars['year']!=2007) & (cars['year']!=2025)]"
   ]
  },
  {
   "cell_type": "markdown",
   "id": "d081dd8c-1643-4f80-9b17-cb40f416e6e1",
   "metadata": {},
   "source": [
    "### Handling `transmission` Column\n",
    "\n",
    "---"
   ]
  },
  {
   "cell_type": "code",
   "execution_count": 7,
   "id": "96f7e97f-4825-4b89-a915-377aa59be81b",
   "metadata": {},
   "outputs": [
    {
     "data": {
      "text/plain": [
       "transmission\n",
       "Manual       1910\n",
       "Automatic     912\n",
       "Name: count, dtype: int64"
      ]
     },
     "execution_count": 7,
     "metadata": {},
     "output_type": "execute_result"
    }
   ],
   "source": [
    "# Frequency Distribution of \"transmission\" column\n",
    "cars['transmission'].value_counts()"
   ]
  },
  {
   "cell_type": "markdown",
   "id": "9c27edb3-3646-4b72-8ecc-b35d03401d9b",
   "metadata": {},
   "source": [
    "### Handling `owner` Column\n",
    "\n",
    "---"
   ]
  },
  {
   "cell_type": "code",
   "execution_count": 8,
   "id": "09e6a4fd-cc1c-4c6a-952e-30f4ecba4802",
   "metadata": {},
   "outputs": [
    {
     "data": {
      "text/plain": [
       "owner\n",
       "1st owner    2041\n",
       "2nd owner     639\n",
       "3rd owner     114\n",
       "4th owner      25\n",
       "5th owner       2\n",
       "6th owner       1\n",
       "Name: count, dtype: int64"
      ]
     },
     "execution_count": 8,
     "metadata": {},
     "output_type": "execute_result"
    }
   ],
   "source": [
    "# Frequency Distribution of \"owner\" column\n",
    "cars['owner'].value_counts()"
   ]
  },
  {
   "cell_type": "code",
   "execution_count": 9,
   "id": "0e7d71b3-e8ff-45b1-be49-2a874a52ac7e",
   "metadata": {},
   "outputs": [],
   "source": [
    "# As we can see, categories in \"owner\" column like \"5th owner\" and \"6th owner\" are very rare as compared to other values\n",
    "# So we will remove \"5th owner\" and \"6th owner\" from \"owner\" column\n",
    "# And since \"4th owner\" is also significantly less occuring than other categories, we will rename it to \"Others\"\n",
    "# This way we will reduce overfitting and help model learn and generalize better\n",
    "cars = cars[cars['owner'].isin(['1st owner','2nd owner','3rd owner','4th owner'])]"
   ]
  },
  {
   "cell_type": "code",
   "execution_count": 10,
   "id": "f14397fa-768c-4dbe-ba0d-cf730cb51e44",
   "metadata": {},
   "outputs": [],
   "source": [
    "# Because we have converted \"owner\" column into category datatype, we also have to remove unused categories manually\n",
    "cars['owner'] = cars['owner'].cat.remove_unused_categories()"
   ]
  },
  {
   "cell_type": "code",
   "execution_count": 11,
   "id": "26170c46-e081-43cb-933b-726cd8bc162e",
   "metadata": {},
   "outputs": [],
   "source": [
    "# Renaming \"4th owner\" as \"Others\"\n",
    "cars['owner'] = cars['owner'].cat.rename_categories({'4th owner':'Others'})"
   ]
  },
  {
   "cell_type": "code",
   "execution_count": 12,
   "id": "3c9a3d6c-f37a-4ff1-93c0-be1717380e36",
   "metadata": {},
   "outputs": [
    {
     "data": {
      "text/plain": [
       "owner\n",
       "1st owner    2041\n",
       "2nd owner     639\n",
       "3rd owner     114\n",
       "Others         25\n",
       "Name: count, dtype: int64"
      ]
     },
     "execution_count": 12,
     "metadata": {},
     "output_type": "execute_result"
    }
   ],
   "source": [
    "# Frequency Distribution of \"owner\" column after transformation\n",
    "cars['owner'].value_counts()"
   ]
  }
 ],
 "metadata": {
  "kernelspec": {
   "display_name": "Python 3 (ipykernel)",
   "language": "python",
   "name": "python3"
  },
  "language_info": {
   "codemirror_mode": {
    "name": "ipython",
    "version": 3
   },
   "file_extension": ".py",
   "mimetype": "text/x-python",
   "name": "python",
   "nbconvert_exporter": "python",
   "pygments_lexer": "ipython3",
   "version": "3.13.0"
  }
 },
 "nbformat": 4,
 "nbformat_minor": 5
}
