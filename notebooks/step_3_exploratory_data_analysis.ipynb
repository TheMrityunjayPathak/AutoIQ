{
 "cells": [
  {
   "cell_type": "markdown",
   "id": "7e432efb-6067-4ab1-9da2-ee748a8d1eec",
   "metadata": {},
   "source": [
    "### Importing Libraries\n",
    "\n",
    "---"
   ]
  },
  {
   "cell_type": "code",
   "execution_count": 1,
   "id": "c650c835-b275-42af-a782-676cd7c70dd6",
   "metadata": {},
   "outputs": [],
   "source": [
    "import os\n",
    "import sys\n",
    "import numpy as np\n",
    "import pandas as pd\n",
    "import matplotlib.pyplot as plt\n",
    "import seaborn as sns"
   ]
  },
  {
   "cell_type": "markdown",
   "id": "0830eaeb-cb5c-4184-9be4-187403f4eba3",
   "metadata": {},
   "source": [
    "### Custom Seaborn Style\n",
    "\n",
    "---"
   ]
  },
  {
   "cell_type": "code",
   "execution_count": 2,
   "id": "ee63d3f4-3505-4c37-b0ab-f8f5b993a49b",
   "metadata": {},
   "outputs": [],
   "source": [
    "sns.set_theme('paper')\n",
    "sns.set_style('ticks')"
   ]
  },
  {
   "cell_type": "markdown",
   "id": "781338e1-424d-4699-908c-8bceb7f94cbe",
   "metadata": {},
   "source": [
    "### Adding `utils` to `PYTHONPATH`\n",
    "\n",
    "---"
   ]
  },
  {
   "cell_type": "code",
   "execution_count": 3,
   "id": "c92d68fc-c033-4511-a9aa-55e47c2f4811",
   "metadata": {},
   "outputs": [],
   "source": [
    "sys.path.append(os.path.abspath(\"../utils\"))"
   ]
  },
  {
   "cell_type": "markdown",
   "id": "a5416d1d-0975-452c-940e-8481c96e153d",
   "metadata": {},
   "source": [
    "### Reading Parquet File\n",
    "\n",
    "---"
   ]
  },
  {
   "cell_type": "code",
   "execution_count": 4,
   "id": "443d60a7-40bb-47dc-9a60-fa89781cb513",
   "metadata": {},
   "outputs": [
    {
     "data": {
      "text/html": [
       "<div>\n",
       "<style scoped>\n",
       "    .dataframe tbody tr th:only-of-type {\n",
       "        vertical-align: middle;\n",
       "    }\n",
       "\n",
       "    .dataframe tbody tr th {\n",
       "        vertical-align: top;\n",
       "    }\n",
       "\n",
       "    .dataframe thead th {\n",
       "        text-align: right;\n",
       "    }\n",
       "</style>\n",
       "<table border=\"1\" class=\"dataframe\">\n",
       "  <thead>\n",
       "    <tr style=\"text-align: right;\">\n",
       "      <th></th>\n",
       "      <th>km_driven</th>\n",
       "      <th>fuel_type</th>\n",
       "      <th>transmission</th>\n",
       "      <th>owner</th>\n",
       "      <th>price</th>\n",
       "      <th>engine_capacity</th>\n",
       "      <th>year</th>\n",
       "      <th>brand</th>\n",
       "      <th>model</th>\n",
       "    </tr>\n",
       "  </thead>\n",
       "  <tbody>\n",
       "    <tr>\n",
       "      <th>0</th>\n",
       "      <td>88760</td>\n",
       "      <td>Petrol</td>\n",
       "      <td>Manual</td>\n",
       "      <td>1st owner</td>\n",
       "      <td>219000</td>\n",
       "      <td>998</td>\n",
       "      <td>2012</td>\n",
       "      <td>Maruti</td>\n",
       "      <td>Wagon R 1.0</td>\n",
       "    </tr>\n",
       "    <tr>\n",
       "      <th>1</th>\n",
       "      <td>17920</td>\n",
       "      <td>Petrol</td>\n",
       "      <td>Manual</td>\n",
       "      <td>1st owner</td>\n",
       "      <td>266000</td>\n",
       "      <td>796</td>\n",
       "      <td>2016</td>\n",
       "      <td>Maruti</td>\n",
       "      <td>Alto 800</td>\n",
       "    </tr>\n",
       "    <tr>\n",
       "      <th>2</th>\n",
       "      <td>9940</td>\n",
       "      <td>Petrol</td>\n",
       "      <td>Manual</td>\n",
       "      <td>1st owner</td>\n",
       "      <td>496000</td>\n",
       "      <td>1373</td>\n",
       "      <td>2014</td>\n",
       "      <td>Maruti</td>\n",
       "      <td>Ertiga</td>\n",
       "    </tr>\n",
       "    <tr>\n",
       "      <th>3</th>\n",
       "      <td>67340</td>\n",
       "      <td>Petrol</td>\n",
       "      <td>Manual</td>\n",
       "      <td>2nd owner</td>\n",
       "      <td>355000</td>\n",
       "      <td>1199</td>\n",
       "      <td>2016</td>\n",
       "      <td>Tata</td>\n",
       "      <td>Tiago</td>\n",
       "    </tr>\n",
       "    <tr>\n",
       "      <th>4</th>\n",
       "      <td>30390</td>\n",
       "      <td>Petrol</td>\n",
       "      <td>Manual</td>\n",
       "      <td>1st owner</td>\n",
       "      <td>530000</td>\n",
       "      <td>998</td>\n",
       "      <td>2023</td>\n",
       "      <td>Maruti</td>\n",
       "      <td>New Wagon-R</td>\n",
       "    </tr>\n",
       "  </tbody>\n",
       "</table>\n",
       "</div>"
      ],
      "text/plain": [
       "   km_driven fuel_type transmission      owner   price  engine_capacity  year  \\\n",
       "0      88760    Petrol       Manual  1st owner  219000              998  2012   \n",
       "1      17920    Petrol       Manual  1st owner  266000              796  2016   \n",
       "2       9940    Petrol       Manual  1st owner  496000             1373  2014   \n",
       "3      67340    Petrol       Manual  2nd owner  355000             1199  2016   \n",
       "4      30390    Petrol       Manual  1st owner  530000              998  2023   \n",
       "\n",
       "    brand        model  \n",
       "0  Maruti  Wagon R 1.0  \n",
       "1  Maruti     Alto 800  \n",
       "2  Maruti       Ertiga  \n",
       "3    Tata        Tiago  \n",
       "4  Maruti  New Wagon-R  "
      ]
     },
     "execution_count": 4,
     "metadata": {},
     "output_type": "execute_result"
    }
   ],
   "source": [
    "# Importing load_parquet function from read_data module\n",
    "from read_data import load_parquet\n",
    "cars = load_parquet('clean_data', 'clean_data_with_no_outlier.parquet')\n",
    "cars.head()"
   ]
  },
  {
   "cell_type": "code",
   "execution_count": 5,
   "id": "59e4fe2e-1e35-4497-a3de-a8a99335d28a",
   "metadata": {},
   "outputs": [],
   "source": [
    "# Since we have removed some data while outlier detection and removal,\n",
    "# Some of the categories in categorical columns might got removed but the category will still be present\n",
    "# Because we have converted object datatype into category datatype, so we have to remove these unused categories manually\n",
    "cat_col = cars.select_dtypes(include='category').columns\n",
    "for column in cat_col:\n",
    "    cars[column] = cars[column].cat.remove_unused_categories()"
   ]
  },
  {
   "cell_type": "markdown",
   "id": "682d40e7-fca8-469d-bfbd-7136ab06fdfe",
   "metadata": {},
   "source": [
    "### Analyzing `fuel_type` Column\n",
    "\n",
    "---"
   ]
  },
  {
   "cell_type": "code",
   "execution_count": 6,
   "id": "8accf4ff-79e3-4b15-8e7e-c994ece9fff7",
   "metadata": {},
   "outputs": [
    {
     "data": {
      "text/plain": [
       "['Petrol', 'Diesel', 'CNG', 'Electric']\n",
       "Categories (4, object): ['CNG', 'Diesel', 'Electric', 'Petrol']"
      ]
     },
     "execution_count": 6,
     "metadata": {},
     "output_type": "execute_result"
    }
   ],
   "source": [
    "# Unique categories in \"fuel_type\" column\n",
    "cars['fuel_type'].unique()"
   ]
  },
  {
   "cell_type": "code",
   "execution_count": 7,
   "id": "dbaf8651-ff49-4ad7-8b5e-ff38c607f4ed",
   "metadata": {},
   "outputs": [
    {
     "data": {
      "image/png": "[encoded data removed]",
      "text/plain": [
       "<Figure size 640x480 with 1 Axes>"
      ]
     },
     "metadata": {},
     "output_type": "display_data"
    }
   ],
   "source": [
    "# Count of different categories in \"fuel_type\" column\n",
    "ax = sns.countplot(x=cars['fuel_type'], order=cars['fuel_type'].value_counts(ascending=True).index)\n",
    "ax.bar_label(ax.containers[0])\n",
    "plt.show()"
   ]
  },
  {
   "cell_type": "markdown",
   "id": "121d6be6-9e73-41dc-966e-b1c85283b2d4",
   "metadata": {},
   "source": [
    "**Interpretation of above Plot :**\n",
    "- Petrol is by far the most common fuel type, with 1977 entries.\n",
    "- It makes up ~76.5% of the total vehicles in the dataset.\n",
    "- Diesel vehicles account for 466 entries (~18%).\n",
    "- Only 113 vehicles (~4.4%) use Compressed Natural Gas.\n",
    "- Just 7 vehicles (<0.3%) are electric."
   ]
  },
  {
   "cell_type": "code",
   "execution_count": 8,
   "id": "9aea7099-411b-4de3-9456-b1f4aab0cbf2",
   "metadata": {},
   "outputs": [
    {
     "data": {
      "text/plain": [
       "fuel_type\n",
       "CNG         505805\n",
       "Petrol      601108\n",
       "Electric    613000\n",
       "Diesel      878562\n",
       "Name: price, dtype: int64"
      ]
     },
     "execution_count": 8,
     "metadata": {},
     "output_type": "execute_result"
    }
   ],
   "source": [
    "# Average Price based on \"fuel_type\" column\n",
    "cars.groupby(by='fuel_type', observed=True)['price'].mean().apply(lambda x: round(x)).sort_values()"
   ]
  },
  {
   "cell_type": "markdown",
   "id": "6cdc7bb4-f2cd-4a8c-971a-38e6b56a85cc",
   "metadata": {},
   "source": [
    "- Electric cars have higher average price than CNG and Petrol despite having only 7 entries.\n",
    "- This indicates that the few electric vehicles included are likely premium models, skewing the average upward.\n",
    "- With such a small sample size (<0.3%), Electric cars don't provide statistically meaningful information.\n",
    "- So its better to exclude Electric cars from the data."
   ]
  },
  {
   "cell_type": "code",
   "execution_count": 9,
   "id": "b52936b5-aa42-42e6-882c-882c3b37a9a1",
   "metadata": {},
   "outputs": [],
   "source": [
    "# Removing Electric from \"fuel_type\" column\n",
    "cars = cars[~cars['fuel_type'].isin(['Electric'])]"
   ]
  },
  {
   "cell_type": "code",
   "execution_count": 10,
   "id": "3ae7e878-c66d-45f3-9d11-e6622edb0897",
   "metadata": {},
   "outputs": [],
   "source": [
    "# Removing unused categories from \"fuel_type\" column\n",
    "cars['fuel_type'] = cars['fuel_type'].cat.remove_unused_categories()"
   ]
  },
  {
   "cell_type": "code",
   "execution_count": 11,
   "id": "167ede34-72be-458a-9aaa-004581888265",
   "metadata": {},
   "outputs": [
    {
     "data": {
      "image/png": "[encoded data removed]",
      "text/plain": [
       "<Figure size 640x480 with 1 Axes>"
      ]
     },
     "metadata": {},
     "output_type": "display_data"
    }
   ],
   "source": [
    "# Count of different categories in \"fuel_type\" column after transformation\n",
    "ax = sns.countplot(x=cars['fuel_type'], order=cars['fuel_type'].value_counts(ascending=True).index)\n",
    "ax.bar_label(ax.containers[0])\n",
    "plt.show()"
   ]
  },
  {
   "cell_type": "markdown",
   "id": "e720acb3-2474-4172-b747-75e22a900eac",
   "metadata": {},
   "source": [
    "### Analyzing `owner` Column\n",
    "\n",
    "---"
   ]
  },
  {
   "cell_type": "code",
   "execution_count": 12,
   "id": "812740df-9d9c-4dc9-89ae-1e164fee864a",
   "metadata": {},
   "outputs": [
    {
     "data": {
      "image/png": "[encoded data removed]",
      "text/plain": [
       "<Figure size 640x480 with 1 Axes>"
      ]
     },
     "metadata": {},
     "output_type": "display_data"
    }
   ],
   "source": [
    "# Count of different categories in \"owner\" column\n",
    "ax = sns.countplot(x=cars['owner'], order=cars['owner'].value_counts(ascending=True).index)\n",
    "ax.bar_label(ax.containers[0])\n",
    "plt.show()"
   ]
  },
  {
   "cell_type": "markdown",
   "id": "745eba6b-7d4e-4137-9ed0-ad2a8d785dff",
   "metadata": {},
   "source": [
    "**Interpretation of above Plot :**\n",
    "- 1st Owner dominates with 1892 entries (~73.6%).\n",
    "- 2nd Owner is the second largest group with 560 entries (~21.8%).\n",
    "- 3rd Owner and Others are minimal, with 86 (3.3%) and 18 (0.7%) entries respectively.\n",
    "- Majority of vehicles are first-hand, indicating a relatively newer or less-used vehicle dataset."
   ]
  },
  {
   "cell_type": "code",
   "execution_count": 13,
   "id": "1e3cf6b1-4de6-4383-a6ea-4dccff058704",
   "metadata": {},
   "outputs": [
    {
     "data": {
      "text/plain": [
       "owner\n",
       "1st owner    677328\n",
       "2nd owner    577566\n",
       "3rd owner    503849\n",
       "Others       371333\n",
       "Name: price, dtype: int64"
      ]
     },
     "execution_count": 13,
     "metadata": {},
     "output_type": "execute_result"
    }
   ],
   "source": [
    "# Average Price based on \"owner\" column\n",
    "cars.groupby(by='owner', observed=True)['price'].mean().apply(lambda x: round(x)).sort_index()"
   ]
  },
  {
   "cell_type": "markdown",
   "id": "4565ca83-6b09-4a37-8cfc-89ec5b69a568",
   "metadata": {},
   "source": [
    "- There is a consistent decline in average price from 1st owner to Others.\n",
    "- The drop in average price reflects vehicle depreciation and perceived lower value as the vehicle passes through more owners."
   ]
  }
 ],
 "metadata": {
  "kernelspec": {
   "display_name": "Python 3 (ipykernel)",
   "language": "python",
   "name": "python3"
  },
  "language_info": {
   "codemirror_mode": {
    "name": "ipython",
    "version": 3
   },
   "file_extension": ".py",
   "mimetype": "text/x-python",
   "name": "python",
   "nbconvert_exporter": "python",
   "pygments_lexer": "ipython3",
   "version": "3.13.0"
  }
 },
 "nbformat": 4,
 "nbformat_minor": 5
}
