{
 "cells": [
  {
   "cell_type": "markdown",
   "id": "7e432efb-6067-4ab1-9da2-ee748a8d1eec",
   "metadata": {},
   "source": [
    "### Importing Libraries\n",
    "\n",
    "---"
   ]
  },
  {
   "cell_type": "code",
   "execution_count": 1,
   "id": "c650c835-b275-42af-a782-676cd7c70dd6",
   "metadata": {},
   "outputs": [],
   "source": [
    "import os\n",
    "import sys\n",
    "import numpy as np\n",
    "import pandas as pd\n",
    "import matplotlib.pyplot as plt\n",
    "import seaborn as sns"
   ]
  },
  {
   "cell_type": "markdown",
   "id": "0830eaeb-cb5c-4184-9be4-187403f4eba3",
   "metadata": {},
   "source": [
    "### Custom Seaborn Style\n",
    "\n",
    "---"
   ]
  },
  {
   "cell_type": "code",
   "execution_count": 2,
   "id": "ee63d3f4-3505-4c37-b0ab-f8f5b993a49b",
   "metadata": {},
   "outputs": [],
   "source": [
    "sns.set_theme('paper')\n",
    "sns.set_style('ticks')"
   ]
  },
  {
   "cell_type": "markdown",
   "id": "781338e1-424d-4699-908c-8bceb7f94cbe",
   "metadata": {},
   "source": [
    "### Adding `utils` to `PYTHONPATH`\n",
    "\n",
    "---"
   ]
  },
  {
   "cell_type": "code",
   "execution_count": 3,
   "id": "c92d68fc-c033-4511-a9aa-55e47c2f4811",
   "metadata": {},
   "outputs": [],
   "source": [
    "sys.path.append(os.path.abspath(\"../utils\"))"
   ]
  },
  {
   "cell_type": "markdown",
   "id": "a5416d1d-0975-452c-940e-8481c96e153d",
   "metadata": {},
   "source": [
    "### Reading Parquet File\n",
    "\n",
    "---"
   ]
  },
  {
   "cell_type": "code",
   "execution_count": 4,
   "id": "443d60a7-40bb-47dc-9a60-fa89781cb513",
   "metadata": {},
   "outputs": [
    {
     "data": {
      "text/html": [
       "<div>\n",
       "<style scoped>\n",
       "    .dataframe tbody tr th:only-of-type {\n",
       "        vertical-align: middle;\n",
       "    }\n",
       "\n",
       "    .dataframe tbody tr th {\n",
       "        vertical-align: top;\n",
       "    }\n",
       "\n",
       "    .dataframe thead th {\n",
       "        text-align: right;\n",
       "    }\n",
       "</style>\n",
       "<table border=\"1\" class=\"dataframe\">\n",
       "  <thead>\n",
       "    <tr style=\"text-align: right;\">\n",
       "      <th></th>\n",
       "      <th>km_driven</th>\n",
       "      <th>fuel_type</th>\n",
       "      <th>transmission</th>\n",
       "      <th>owner</th>\n",
       "      <th>price</th>\n",
       "      <th>engine_capacity</th>\n",
       "      <th>year</th>\n",
       "      <th>brand</th>\n",
       "      <th>model</th>\n",
       "    </tr>\n",
       "  </thead>\n",
       "  <tbody>\n",
       "    <tr>\n",
       "      <th>0</th>\n",
       "      <td>88760</td>\n",
       "      <td>Petrol</td>\n",
       "      <td>Manual</td>\n",
       "      <td>1st owner</td>\n",
       "      <td>219000</td>\n",
       "      <td>998</td>\n",
       "      <td>2012</td>\n",
       "      <td>Maruti</td>\n",
       "      <td>Wagon R 1.0</td>\n",
       "    </tr>\n",
       "    <tr>\n",
       "      <th>1</th>\n",
       "      <td>17920</td>\n",
       "      <td>Petrol</td>\n",
       "      <td>Manual</td>\n",
       "      <td>1st owner</td>\n",
       "      <td>266000</td>\n",
       "      <td>796</td>\n",
       "      <td>2016</td>\n",
       "      <td>Maruti</td>\n",
       "      <td>Alto 800</td>\n",
       "    </tr>\n",
       "    <tr>\n",
       "      <th>2</th>\n",
       "      <td>9940</td>\n",
       "      <td>Petrol</td>\n",
       "      <td>Manual</td>\n",
       "      <td>1st owner</td>\n",
       "      <td>496000</td>\n",
       "      <td>1373</td>\n",
       "      <td>2014</td>\n",
       "      <td>Maruti</td>\n",
       "      <td>Ertiga</td>\n",
       "    </tr>\n",
       "    <tr>\n",
       "      <th>3</th>\n",
       "      <td>67340</td>\n",
       "      <td>Petrol</td>\n",
       "      <td>Manual</td>\n",
       "      <td>2nd owner</td>\n",
       "      <td>355000</td>\n",
       "      <td>1199</td>\n",
       "      <td>2016</td>\n",
       "      <td>Tata</td>\n",
       "      <td>Tiago</td>\n",
       "    </tr>\n",
       "    <tr>\n",
       "      <th>4</th>\n",
       "      <td>30390</td>\n",
       "      <td>Petrol</td>\n",
       "      <td>Manual</td>\n",
       "      <td>1st owner</td>\n",
       "      <td>530000</td>\n",
       "      <td>998</td>\n",
       "      <td>2023</td>\n",
       "      <td>Maruti</td>\n",
       "      <td>New Wagon-R</td>\n",
       "    </tr>\n",
       "  </tbody>\n",
       "</table>\n",
       "</div>"
      ],
      "text/plain": [
       "   km_driven fuel_type transmission      owner   price  engine_capacity  year  \\\n",
       "0      88760    Petrol       Manual  1st owner  219000              998  2012   \n",
       "1      17920    Petrol       Manual  1st owner  266000              796  2016   \n",
       "2       9940    Petrol       Manual  1st owner  496000             1373  2014   \n",
       "3      67340    Petrol       Manual  2nd owner  355000             1199  2016   \n",
       "4      30390    Petrol       Manual  1st owner  530000              998  2023   \n",
       "\n",
       "    brand        model  \n",
       "0  Maruti  Wagon R 1.0  \n",
       "1  Maruti     Alto 800  \n",
       "2  Maruti       Ertiga  \n",
       "3    Tata        Tiago  \n",
       "4  Maruti  New Wagon-R  "
      ]
     },
     "execution_count": 4,
     "metadata": {},
     "output_type": "execute_result"
    }
   ],
   "source": [
    "# Importing load_parquet function from read_data module\n",
    "from read_data import load_parquet\n",
    "cars = load_parquet('clean_data', 'clean_data_with_no_outlier.parquet')\n",
    "cars.head()"
   ]
  }
 ],
 "metadata": {
  "kernelspec": {
   "display_name": "Python 3 (ipykernel)",
   "language": "python",
   "name": "python3"
  },
  "language_info": {
   "codemirror_mode": {
    "name": "ipython",
    "version": 3
   },
   "file_extension": ".py",
   "mimetype": "text/x-python",
   "name": "python",
   "nbconvert_exporter": "python",
   "pygments_lexer": "ipython3",
   "version": "3.13.0"
  }
 },
 "nbformat": 4,
 "nbformat_minor": 5
}
