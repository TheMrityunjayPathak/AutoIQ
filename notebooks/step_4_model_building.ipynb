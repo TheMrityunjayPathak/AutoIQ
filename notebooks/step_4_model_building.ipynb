{
 "cells": [
  {
   "cell_type": "markdown",
   "id": "3fbe0e89-6aff-4b5c-b7bb-8b33edd5434a",
   "metadata": {},
   "source": [
    "### Importing Libraries\n",
    "\n",
    "---"
   ]
  },
  {
   "cell_type": "code",
   "execution_count": 1,
   "id": "2ad46a9d-6d07-49d2-9800-e9abad384534",
   "metadata": {},
   "outputs": [],
   "source": [
    "import os\n",
    "import sys\n",
    "import pickle\n",
    "import numpy as np\n",
    "import pandas as pd\n",
    "import matplotlib.pyplot as plt\n",
    "import seaborn as sns"
   ]
  },
  {
   "cell_type": "markdown",
   "id": "d0ad77ed-774c-4a5a-8da7-0a4e214f71d7",
   "metadata": {},
   "source": [
    "### Custom Seaborn Style\n",
    "\n",
    "---"
   ]
  },
  {
   "cell_type": "code",
   "execution_count": 2,
   "id": "c43b14a3-a2a2-4116-ac6a-634b8990feaa",
   "metadata": {},
   "outputs": [],
   "source": [
    "sns.set_theme('paper')\n",
    "sns.set_style('ticks')"
   ]
  },
  {
   "cell_type": "markdown",
   "id": "0a257579-c18b-4fbc-a5ad-a2df3baa310e",
   "metadata": {},
   "source": [
    "### Adding `utils` to `PYTHONPATH`\n",
    "\n",
    "---"
   ]
  },
  {
   "cell_type": "code",
   "execution_count": 3,
   "id": "719345c4-7f9b-4f9a-93ec-d2522bba35bf",
   "metadata": {},
   "outputs": [],
   "source": [
    "sys.path.append(os.path.abspath(\"../utils\"))"
   ]
  },
  {
   "cell_type": "markdown",
   "id": "83528b52-55aa-4e67-9980-a8a1ab2819a3",
   "metadata": {},
   "source": [
    "### Reading Parquet File\n",
    "\n",
    "---"
   ]
  },
  {
   "cell_type": "code",
   "execution_count": 4,
   "id": "f2bab05a-2451-4c9e-bf05-63484e2a71ae",
   "metadata": {},
   "outputs": [
    {
     "data": {
      "text/html": [
       "<div>\n",
       "<style scoped>\n",
       "    .dataframe tbody tr th:only-of-type {\n",
       "        vertical-align: middle;\n",
       "    }\n",
       "\n",
       "    .dataframe tbody tr th {\n",
       "        vertical-align: top;\n",
       "    }\n",
       "\n",
       "    .dataframe thead th {\n",
       "        text-align: right;\n",
       "    }\n",
       "</style>\n",
       "<table border=\"1\" class=\"dataframe\">\n",
       "  <thead>\n",
       "    <tr style=\"text-align: right;\">\n",
       "      <th></th>\n",
       "      <th>km_driven</th>\n",
       "      <th>fuel_type</th>\n",
       "      <th>transmission</th>\n",
       "      <th>owner</th>\n",
       "      <th>price</th>\n",
       "      <th>engine_capacity</th>\n",
       "      <th>year</th>\n",
       "      <th>brand</th>\n",
       "      <th>model</th>\n",
       "    </tr>\n",
       "  </thead>\n",
       "  <tbody>\n",
       "    <tr>\n",
       "      <th>0</th>\n",
       "      <td>88760</td>\n",
       "      <td>Petrol</td>\n",
       "      <td>Manual</td>\n",
       "      <td>1st owner</td>\n",
       "      <td>219000</td>\n",
       "      <td>998</td>\n",
       "      <td>2012</td>\n",
       "      <td>Maruti</td>\n",
       "      <td>Wagon R 1.0</td>\n",
       "    </tr>\n",
       "    <tr>\n",
       "      <th>1</th>\n",
       "      <td>17920</td>\n",
       "      <td>Petrol</td>\n",
       "      <td>Manual</td>\n",
       "      <td>1st owner</td>\n",
       "      <td>266000</td>\n",
       "      <td>796</td>\n",
       "      <td>2016</td>\n",
       "      <td>Maruti</td>\n",
       "      <td>Alto 800</td>\n",
       "    </tr>\n",
       "    <tr>\n",
       "      <th>2</th>\n",
       "      <td>9940</td>\n",
       "      <td>Petrol</td>\n",
       "      <td>Manual</td>\n",
       "      <td>1st owner</td>\n",
       "      <td>496000</td>\n",
       "      <td>1373</td>\n",
       "      <td>2014</td>\n",
       "      <td>Maruti</td>\n",
       "      <td>Ertiga</td>\n",
       "    </tr>\n",
       "    <tr>\n",
       "      <th>3</th>\n",
       "      <td>67340</td>\n",
       "      <td>Petrol</td>\n",
       "      <td>Manual</td>\n",
       "      <td>2nd owner</td>\n",
       "      <td>355000</td>\n",
       "      <td>1199</td>\n",
       "      <td>2016</td>\n",
       "      <td>Tata</td>\n",
       "      <td>Tiago</td>\n",
       "    </tr>\n",
       "    <tr>\n",
       "      <th>4</th>\n",
       "      <td>30390</td>\n",
       "      <td>Petrol</td>\n",
       "      <td>Manual</td>\n",
       "      <td>1st owner</td>\n",
       "      <td>530000</td>\n",
       "      <td>998</td>\n",
       "      <td>2023</td>\n",
       "      <td>Maruti</td>\n",
       "      <td>New Wagon-R</td>\n",
       "    </tr>\n",
       "  </tbody>\n",
       "</table>\n",
       "</div>"
      ],
      "text/plain": [
       "   km_driven fuel_type transmission      owner   price  engine_capacity  year  \\\n",
       "0      88760    Petrol       Manual  1st owner  219000              998  2012   \n",
       "1      17920    Petrol       Manual  1st owner  266000              796  2016   \n",
       "2       9940    Petrol       Manual  1st owner  496000             1373  2014   \n",
       "3      67340    Petrol       Manual  2nd owner  355000             1199  2016   \n",
       "4      30390    Petrol       Manual  1st owner  530000              998  2023   \n",
       "\n",
       "    brand        model  \n",
       "0  Maruti  Wagon R 1.0  \n",
       "1  Maruti     Alto 800  \n",
       "2  Maruti       Ertiga  \n",
       "3    Tata        Tiago  \n",
       "4  Maruti  New Wagon-R  "
      ]
     },
     "execution_count": 4,
     "metadata": {},
     "output_type": "execute_result"
    }
   ],
   "source": [
    "# Importing load_parquet function from read_data module\n",
    "from read_data import load_parquet\n",
    "cars = load_parquet('clean_data', 'clean_data_after_eda.parquet')\n",
    "cars.head()"
   ]
  },
  {
   "cell_type": "code",
   "execution_count": 5,
   "id": "6beb9186-768b-4384-a827-da12af8280b3",
   "metadata": {},
   "outputs": [],
   "source": [
    "# Since we have removed some data while exploratory data analysis,\n",
    "# Some of the categories in categorical columns might got removed but the category will still be present\n",
    "# Because we have converted object datatype into category datatype, so we have to remove these unused categories manually\n",
    "cat_col = cars.select_dtypes(include='category').columns\n",
    "for column in cat_col:\n",
    "    cars[column] = cars[column].cat.remove_unused_categories()"
   ]
  },
  {
   "cell_type": "markdown",
   "id": "a0261bf8-b118-4b8b-b06d-c53bac21e89d",
   "metadata": {},
   "source": [
    "### Handling High Cardinality Column  \n",
    "\n",
    "---"
   ]
  },
  {
   "cell_type": "code",
   "execution_count": 6,
   "id": "a1ed093e-1347-4b4a-95ab-f405d9773d7a",
   "metadata": {},
   "outputs": [
    {
     "name": "stdout",
     "output_type": "stream",
     "text": [
      "Unique categories in \"model\" column : 124\n"
     ]
    }
   ],
   "source": [
    "# Frequency Distribution of \"model\" column\n",
    "# As we can see, \"model\" column contains huge number of categories, which can cause problem when we apply OneHotEncoding on it\n",
    "# It will create too many columns and cause sparsity (having too many zeros)\n",
    "print(f'Unique categories in \"model\" column : {len(cars['model'].unique())}')"
   ]
  },
  {
   "cell_type": "code",
   "execution_count": 7,
   "id": "42892a0c-f270-437f-9326-23c4f4bf25fb",
   "metadata": {},
   "outputs": [],
   "source": [
    "# So we are using model frequencies in place of original \"model\" column\n",
    "model_freq = cars['model'].value_counts(normalize=True)"
   ]
  },
  {
   "cell_type": "code",
   "execution_count": 8,
   "id": "623af798-f409-4b50-9713-d41d9b7bdd35",
   "metadata": {},
   "outputs": [],
   "source": [
    "# Mapping model frequencies to \"model\" column\n",
    "cars['model_freq'] = cars['model'].map(model_freq)"
   ]
  },
  {
   "cell_type": "code",
   "execution_count": 9,
   "id": "296d029c-703a-4403-88f0-3262bbad504c",
   "metadata": {},
   "outputs": [],
   "source": [
    "# Removing original \"model\" column\n",
    "cars.drop('model', axis=1, inplace=True)"
   ]
  },
  {
   "cell_type": "markdown",
   "id": "366dc9b8-c69a-4b73-86bd-876bfbdc269b",
   "metadata": {},
   "source": [
    "### Importing Libraries for Pipeline\n",
    "\n",
    "---"
   ]
  },
  {
   "cell_type": "code",
   "execution_count": 10,
   "id": "5105b126-0286-4b79-b04c-0e522c0941b5",
   "metadata": {},
   "outputs": [],
   "source": [
    "from sklearn.preprocessing import RobustScaler, OneHotEncoder, OrdinalEncoder\n",
    "from sklearn.compose import ColumnTransformer\n",
    "from sklearn.model_selection import cross_val_score, cross_validate, cross_val_predict, KFold, learning_curve, train_test_split, RandomizedSearchCV\n",
    "from sklearn.pipeline import Pipeline\n",
    "from sklearn.ensemble import StackingRegressor"
   ]
  },
  {
   "cell_type": "markdown",
   "id": "b9315870-d491-400a-afb2-662a3cb38fe9",
   "metadata": {},
   "source": [
    "### Creating Training and Testing Set\n",
    "\n",
    "---"
   ]
  },
  {
   "cell_type": "code",
   "execution_count": 11,
   "id": "27d715c0-4b3f-4d66-b1f0-322bc3454d85",
   "metadata": {},
   "outputs": [],
   "source": [
    "# Creating Features and Target Variable\n",
    "X = cars.drop('price', axis=1)\n",
    "y = cars['price']"
   ]
  },
  {
   "cell_type": "code",
   "execution_count": 12,
   "id": "81819804-c9ad-4477-a767-924039c9239f",
   "metadata": {},
   "outputs": [],
   "source": [
    "# Splitting Data into Training and Testing Set\n",
    "X_train, X_test, y_train, y_test = train_test_split(X, y, test_size=0.25, random_state=42)"
   ]
  },
  {
   "cell_type": "code",
   "execution_count": 13,
   "id": "da2c9882-f842-4475-869a-be0b36ecdd97",
   "metadata": {},
   "outputs": [
    {
     "name": "stdout",
     "output_type": "stream",
     "text": [
      "Training Data : 1917 | Testing Data : 639\n"
     ]
    }
   ],
   "source": [
    "# Size of Training and Testing Set\n",
    "print(f\"Training Data : {X_train.shape[0]} | Testing Data : {X_test.shape[0]}\")"
   ]
  }
 ],
 "metadata": {
  "kernelspec": {
   "display_name": "Python 3 (ipykernel)",
   "language": "python",
   "name": "python3"
  },
  "language_info": {
   "codemirror_mode": {
    "name": "ipython",
    "version": 3
   },
   "file_extension": ".py",
   "mimetype": "text/x-python",
   "name": "python",
   "nbconvert_exporter": "python",
   "pygments_lexer": "ipython3",
   "version": "3.13.0"
  }
 },
 "nbformat": 4,
 "nbformat_minor": 5
}
