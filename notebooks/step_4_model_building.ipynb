{
 "cells": [
  {
   "cell_type": "markdown",
   "id": "3fbe0e89-6aff-4b5c-b7bb-8b33edd5434a",
   "metadata": {},
   "source": [
    "### Importing Libraries\n",
    "\n",
    "---"
   ]
  },
  {
   "cell_type": "code",
   "execution_count": 1,
   "id": "2ad46a9d-6d07-49d2-9800-e9abad384534",
   "metadata": {},
   "outputs": [],
   "source": [
    "import os\n",
    "import sys\n",
    "import pickle\n",
    "import numpy as np\n",
    "import pandas as pd\n",
    "import matplotlib.pyplot as plt\n",
    "import seaborn as sns"
   ]
  },
  {
   "cell_type": "markdown",
   "id": "d0ad77ed-774c-4a5a-8da7-0a4e214f71d7",
   "metadata": {},
   "source": [
    "### Custom Seaborn Style\n",
    "\n",
    "---"
   ]
  },
  {
   "cell_type": "code",
   "execution_count": 2,
   "id": "c43b14a3-a2a2-4116-ac6a-634b8990feaa",
   "metadata": {},
   "outputs": [],
   "source": [
    "sns.set_theme('paper')\n",
    "sns.set_style('ticks')"
   ]
  },
  {
   "cell_type": "markdown",
   "id": "0a257579-c18b-4fbc-a5ad-a2df3baa310e",
   "metadata": {},
   "source": [
    "### Adding `utils` to `PYTHONPATH`\n",
    "\n",
    "---"
   ]
  },
  {
   "cell_type": "code",
   "execution_count": 3,
   "id": "719345c4-7f9b-4f9a-93ec-d2522bba35bf",
   "metadata": {},
   "outputs": [],
   "source": [
    "sys.path.append(os.path.abspath(\"../utils\"))"
   ]
  }
 ],
 "metadata": {
  "kernelspec": {
   "display_name": "Python 3 (ipykernel)",
   "language": "python",
   "name": "python3"
  },
  "language_info": {
   "codemirror_mode": {
    "name": "ipython",
    "version": 3
   },
   "file_extension": ".py",
   "mimetype": "text/x-python",
   "name": "python",
   "nbconvert_exporter": "python",
   "pygments_lexer": "ipython3",
   "version": "3.13.0"
  }
 },
 "nbformat": 4,
 "nbformat_minor": 5
}
