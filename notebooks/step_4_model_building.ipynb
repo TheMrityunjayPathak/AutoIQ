{
 "cells": [
  {
   "cell_type": "markdown",
   "id": "3fbe0e89-6aff-4b5c-b7bb-8b33edd5434a",
   "metadata": {},
   "source": [
    "### Importing Libraries\n",
    "\n",
    "---"
   ]
  },
  {
   "cell_type": "code",
   "execution_count": 1,
   "id": "2ad46a9d-6d07-49d2-9800-e9abad384534",
   "metadata": {},
   "outputs": [],
   "source": [
    "import os\n",
    "import sys\n",
    "import pickle\n",
    "import numpy as np\n",
    "import pandas as pd\n",
    "import matplotlib.pyplot as plt\n",
    "import seaborn as sns"
   ]
  },
  {
   "cell_type": "markdown",
   "id": "d0ad77ed-774c-4a5a-8da7-0a4e214f71d7",
   "metadata": {},
   "source": [
    "### Custom Seaborn Style\n",
    "\n",
    "---"
   ]
  },
  {
   "cell_type": "code",
   "execution_count": 2,
   "id": "c43b14a3-a2a2-4116-ac6a-634b8990feaa",
   "metadata": {},
   "outputs": [],
   "source": [
    "sns.set_theme('paper')\n",
    "sns.set_style('ticks')"
   ]
  },
  {
   "cell_type": "markdown",
   "id": "0a257579-c18b-4fbc-a5ad-a2df3baa310e",
   "metadata": {},
   "source": [
    "### Adding `utils` to `PYTHONPATH`\n",
    "\n",
    "---"
   ]
  },
  {
   "cell_type": "code",
   "execution_count": 3,
   "id": "719345c4-7f9b-4f9a-93ec-d2522bba35bf",
   "metadata": {},
   "outputs": [],
   "source": [
    "sys.path.append(os.path.abspath(\"../utils\"))"
   ]
  },
  {
   "cell_type": "markdown",
   "id": "83528b52-55aa-4e67-9980-a8a1ab2819a3",
   "metadata": {},
   "source": [
    "### Reading Parquet File\n",
    "\n",
    "---"
   ]
  },
  {
   "cell_type": "code",
   "execution_count": 4,
   "id": "f2bab05a-2451-4c9e-bf05-63484e2a71ae",
   "metadata": {},
   "outputs": [
    {
     "data": {
      "text/html": [
       "<div>\n",
       "<style scoped>\n",
       "    .dataframe tbody tr th:only-of-type {\n",
       "        vertical-align: middle;\n",
       "    }\n",
       "\n",
       "    .dataframe tbody tr th {\n",
       "        vertical-align: top;\n",
       "    }\n",
       "\n",
       "    .dataframe thead th {\n",
       "        text-align: right;\n",
       "    }\n",
       "</style>\n",
       "<table border=\"1\" class=\"dataframe\">\n",
       "  <thead>\n",
       "    <tr style=\"text-align: right;\">\n",
       "      <th></th>\n",
       "      <th>km_driven</th>\n",
       "      <th>fuel_type</th>\n",
       "      <th>transmission</th>\n",
       "      <th>owner</th>\n",
       "      <th>price</th>\n",
       "      <th>engine_capacity</th>\n",
       "      <th>year</th>\n",
       "      <th>brand</th>\n",
       "      <th>model</th>\n",
       "    </tr>\n",
       "  </thead>\n",
       "  <tbody>\n",
       "    <tr>\n",
       "      <th>0</th>\n",
       "      <td>88760</td>\n",
       "      <td>Petrol</td>\n",
       "      <td>Manual</td>\n",
       "      <td>1st owner</td>\n",
       "      <td>219000</td>\n",
       "      <td>998</td>\n",
       "      <td>2012</td>\n",
       "      <td>Maruti</td>\n",
       "      <td>Wagon R 1.0</td>\n",
       "    </tr>\n",
       "    <tr>\n",
       "      <th>1</th>\n",
       "      <td>17920</td>\n",
       "      <td>Petrol</td>\n",
       "      <td>Manual</td>\n",
       "      <td>1st owner</td>\n",
       "      <td>266000</td>\n",
       "      <td>796</td>\n",
       "      <td>2016</td>\n",
       "      <td>Maruti</td>\n",
       "      <td>Alto 800</td>\n",
       "    </tr>\n",
       "    <tr>\n",
       "      <th>2</th>\n",
       "      <td>9940</td>\n",
       "      <td>Petrol</td>\n",
       "      <td>Manual</td>\n",
       "      <td>1st owner</td>\n",
       "      <td>496000</td>\n",
       "      <td>1373</td>\n",
       "      <td>2014</td>\n",
       "      <td>Maruti</td>\n",
       "      <td>Ertiga</td>\n",
       "    </tr>\n",
       "    <tr>\n",
       "      <th>3</th>\n",
       "      <td>67340</td>\n",
       "      <td>Petrol</td>\n",
       "      <td>Manual</td>\n",
       "      <td>2nd owner</td>\n",
       "      <td>355000</td>\n",
       "      <td>1199</td>\n",
       "      <td>2016</td>\n",
       "      <td>Tata</td>\n",
       "      <td>Tiago</td>\n",
       "    </tr>\n",
       "    <tr>\n",
       "      <th>4</th>\n",
       "      <td>30390</td>\n",
       "      <td>Petrol</td>\n",
       "      <td>Manual</td>\n",
       "      <td>1st owner</td>\n",
       "      <td>530000</td>\n",
       "      <td>998</td>\n",
       "      <td>2023</td>\n",
       "      <td>Maruti</td>\n",
       "      <td>New Wagon-R</td>\n",
       "    </tr>\n",
       "  </tbody>\n",
       "</table>\n",
       "</div>"
      ],
      "text/plain": [
       "   km_driven fuel_type transmission      owner   price  engine_capacity  year  \\\n",
       "0      88760    Petrol       Manual  1st owner  219000              998  2012   \n",
       "1      17920    Petrol       Manual  1st owner  266000              796  2016   \n",
       "2       9940    Petrol       Manual  1st owner  496000             1373  2014   \n",
       "3      67340    Petrol       Manual  2nd owner  355000             1199  2016   \n",
       "4      30390    Petrol       Manual  1st owner  530000              998  2023   \n",
       "\n",
       "    brand        model  \n",
       "0  Maruti  Wagon R 1.0  \n",
       "1  Maruti     Alto 800  \n",
       "2  Maruti       Ertiga  \n",
       "3    Tata        Tiago  \n",
       "4  Maruti  New Wagon-R  "
      ]
     },
     "execution_count": 4,
     "metadata": {},
     "output_type": "execute_result"
    }
   ],
   "source": [
    "# Importing load_parquet function from read_data module\n",
    "from read_data import load_parquet\n",
    "cars = load_parquet('clean_data', 'clean_data_after_eda.parquet')\n",
    "cars.head()"
   ]
  },
  {
   "cell_type": "code",
   "execution_count": 5,
   "id": "6beb9186-768b-4384-a827-da12af8280b3",
   "metadata": {},
   "outputs": [],
   "source": [
    "# Since we have removed some data while exploratory data analysis,\n",
    "# Some of the categories in categorical columns might got removed but the category will still be present\n",
    "# Because we have converted object datatype into category datatype, so we have to remove these unused categories manually\n",
    "cat_col = cars.select_dtypes(include='category').columns\n",
    "for column in cat_col:\n",
    "    cars[column] = cars[column].cat.remove_unused_categories()"
   ]
  },
  {
   "cell_type": "markdown",
   "id": "a0261bf8-b118-4b8b-b06d-c53bac21e89d",
   "metadata": {},
   "source": [
    "### Handling High Cardinality Column  \n",
    "\n",
    "---"
   ]
  },
  {
   "cell_type": "code",
   "execution_count": 6,
   "id": "a1ed093e-1347-4b4a-95ab-f405d9773d7a",
   "metadata": {},
   "outputs": [
    {
     "name": "stdout",
     "output_type": "stream",
     "text": [
      "Unique categories in \"model\" column : 124\n"
     ]
    }
   ],
   "source": [
    "# Frequency Distribution of \"model\" column\n",
    "# As we can see, \"model\" column contains huge number of categories, which can cause problem when we apply OneHotEncoding on it\n",
    "# It will create too many columns and cause sparsity (having too many zeros)\n",
    "print(f'Unique categories in \"model\" column : {len(cars['model'].unique())}')"
   ]
  },
  {
   "cell_type": "code",
   "execution_count": 7,
   "id": "42892a0c-f270-437f-9326-23c4f4bf25fb",
   "metadata": {},
   "outputs": [],
   "source": [
    "# So we are using model frequencies in place of original \"model\" column\n",
    "model_freq = cars['model'].value_counts(normalize=True)"
   ]
  },
  {
   "cell_type": "code",
   "execution_count": 8,
   "id": "623af798-f409-4b50-9713-d41d9b7bdd35",
   "metadata": {},
   "outputs": [],
   "source": [
    "# Mapping model frequencies to \"model\" column\n",
    "cars['model_freq'] = cars['model'].map(model_freq)"
   ]
  },
  {
   "cell_type": "code",
   "execution_count": 9,
   "id": "296d029c-703a-4403-88f0-3262bbad504c",
   "metadata": {},
   "outputs": [],
   "source": [
    "# Removing original \"model\" column\n",
    "cars.drop('model', axis=1, inplace=True)"
   ]
  },
  {
   "cell_type": "markdown",
   "id": "366dc9b8-c69a-4b73-86bd-876bfbdc269b",
   "metadata": {},
   "source": [
    "### Importing Libraries for Pipeline\n",
    "\n",
    "---"
   ]
  },
  {
   "cell_type": "code",
   "execution_count": 10,
   "id": "5105b126-0286-4b79-b04c-0e522c0941b5",
   "metadata": {},
   "outputs": [],
   "source": [
    "from sklearn.preprocessing import RobustScaler, OneHotEncoder, OrdinalEncoder\n",
    "from sklearn.compose import ColumnTransformer\n",
    "from sklearn.model_selection import cross_val_score, cross_validate, cross_val_predict, KFold, learning_curve, train_test_split, RandomizedSearchCV\n",
    "from sklearn.pipeline import Pipeline\n",
    "from sklearn.ensemble import StackingRegressor"
   ]
  },
  {
   "cell_type": "markdown",
   "id": "b9315870-d491-400a-afb2-662a3cb38fe9",
   "metadata": {},
   "source": [
    "### Creating Training and Testing Set\n",
    "\n",
    "---"
   ]
  },
  {
   "cell_type": "code",
   "execution_count": 11,
   "id": "27d715c0-4b3f-4d66-b1f0-322bc3454d85",
   "metadata": {},
   "outputs": [],
   "source": [
    "# Creating Features and Target Variable\n",
    "X = cars.drop('price', axis=1)\n",
    "y = cars['price']"
   ]
  },
  {
   "cell_type": "code",
   "execution_count": 12,
   "id": "81819804-c9ad-4477-a767-924039c9239f",
   "metadata": {},
   "outputs": [],
   "source": [
    "# Splitting Data into Training and Testing Set\n",
    "X_train, X_test, y_train, y_test = train_test_split(X, y, test_size=0.25, random_state=42)"
   ]
  },
  {
   "cell_type": "code",
   "execution_count": 13,
   "id": "da2c9882-f842-4475-869a-be0b36ecdd97",
   "metadata": {},
   "outputs": [
    {
     "name": "stdout",
     "output_type": "stream",
     "text": [
      "Training Data : 1917 | Testing Data : 639\n"
     ]
    }
   ],
   "source": [
    "# Size of Training and Testing Set\n",
    "print(f\"Training Data : {X_train.shape[0]} | Testing Data : {X_test.shape[0]}\")"
   ]
  },
  {
   "cell_type": "markdown",
   "id": "d9e99a37-a4a5-45be-b037-18059394f16c",
   "metadata": {},
   "source": [
    "### Building Pipeline\n",
    "\n",
    "---"
   ]
  },
  {
   "cell_type": "markdown",
   "id": "9b4a699f-ce68-4f9c-abda-3807908d4ece",
   "metadata": {},
   "source": [
    "#### Component for Nominal Column"
   ]
  },
  {
   "cell_type": "code",
   "execution_count": 14,
   "id": "b788cfac-779d-479b-adee-800f3b1c69b6",
   "metadata": {},
   "outputs": [],
   "source": [
    "nominal_cols = ['fuel_type','transmission','brand']"
   ]
  },
  {
   "cell_type": "code",
   "execution_count": 15,
   "id": "e81d82a5-6eac-4c56-a6f6-0a006cdf1946",
   "metadata": {},
   "outputs": [],
   "source": [
    "nominal_trf = Pipeline(steps=[\n",
    "    ('ohe', OneHotEncoder(sparse_output=False, handle_unknown='ignore'))\n",
    "])"
   ]
  },
  {
   "cell_type": "markdown",
   "id": "fa495f27-d965-48f1-ba9f-5514ea3b098f",
   "metadata": {},
   "source": [
    "#### Component for Ordinal Column"
   ]
  },
  {
   "cell_type": "code",
   "execution_count": 16,
   "id": "abd4f653-e6f7-4b0e-9d6d-a72eef2b530f",
   "metadata": {},
   "outputs": [],
   "source": [
    "ordinal_cols = ['owner']"
   ]
  },
  {
   "cell_type": "code",
   "execution_count": 17,
   "id": "055b6838-be4c-4dfa-92db-41f348bfb3e0",
   "metadata": {},
   "outputs": [],
   "source": [
    "ordinal_categories = [['Others','3rd owner','2nd owner','1st owner']]"
   ]
  },
  {
   "cell_type": "code",
   "execution_count": 18,
   "id": "3c2772c9-deee-4dd2-9d8e-959081296cf6",
   "metadata": {},
   "outputs": [],
   "source": [
    "ordinal_trf = Pipeline(steps=[\n",
    "    ('oe', OrdinalEncoder(categories=ordinal_categories))\n",
    "])"
   ]
  },
  {
   "cell_type": "markdown",
   "id": "c494f1bd-72b0-4582-aece-f962c8dcc037",
   "metadata": {},
   "source": [
    "#### Component for Numerical Column"
   ]
  },
  {
   "cell_type": "code",
   "execution_count": 20,
   "id": "42790bb7-b3e0-4298-8833-3a50bba58859",
   "metadata": {},
   "outputs": [],
   "source": [
    "numerical_cols = ['km_driven','year','engine_capacity']"
   ]
  },
  {
   "cell_type": "code",
   "execution_count": 21,
   "id": "f915c714-9ad3-488b-a6c2-f7f859b09211",
   "metadata": {},
   "outputs": [],
   "source": [
    "numerical_trf = Pipeline(steps=[\n",
    "    ('scaler', RobustScaler())\n",
    "])"
   ]
  },
  {
   "cell_type": "markdown",
   "id": "cf144bce-e464-411f-9b3b-b134253d0dba",
   "metadata": {},
   "source": [
    "#### Adding Everything into ColumnTransformer"
   ]
  },
  {
   "cell_type": "code",
   "execution_count": 22,
   "id": "bf995b05-3bec-4550-b0c9-a24d897cc600",
   "metadata": {},
   "outputs": [],
   "source": [
    "ctf = ColumnTransformer(transformers=[\n",
    "    ('nominal', nominal_trf, nominal_cols),\n",
    "    ('ordinal', ordinal_trf, ordinal_cols),\n",
    "    ('scaling', numerical_trf, numerical_cols)\n",
    "], remainder='passthrough', n_jobs=-1)"
   ]
  },
  {
   "cell_type": "markdown",
   "id": "cb1bc584-be39-4619-8948-bb5d64c18f21",
   "metadata": {},
   "source": [
    "### Evaluating Multiple Models\n",
    "\n",
    "---"
   ]
  },
  {
   "cell_type": "code",
   "execution_count": 24,
   "id": "391d8233-0501-4054-be54-0089c8185bd2",
   "metadata": {},
   "outputs": [],
   "source": [
    "# Importing Models\n",
    "from sklearn.linear_model import LinearRegression\n",
    "from sklearn.linear_model import ElasticNet\n",
    "from sklearn.neighbors import KNeighborsRegressor\n",
    "from sklearn.tree import DecisionTreeRegressor\n",
    "from sklearn.ensemble import RandomForestRegressor\n",
    "from sklearn.ensemble import GradientBoostingRegressor\n",
    "from xgboost import XGBRegressor"
   ]
  },
  {
   "cell_type": "code",
   "execution_count": 25,
   "id": "06ac4000-59fb-439a-9f6d-32564d5f3a93",
   "metadata": {},
   "outputs": [],
   "source": [
    "# Models Dictionary\n",
    "models = {\n",
    "    'LR' : LinearRegression(n_jobs=-1),\n",
    "    'KNN' : KNeighborsRegressor(n_jobs=-1),\n",
    "    'DT' : DecisionTreeRegressor(random_state=42),\n",
    "    'RF' : RandomForestRegressor(random_state=42, n_jobs=-1),\n",
    "    'GB' : GradientBoostingRegressor(random_state=42),\n",
    "    'XGB' : XGBRegressor(random_state=42, n_jobs=-1)\n",
    "}"
   ]
  },
  {
   "cell_type": "code",
   "execution_count": 26,
   "id": "c8e60e8c-c124-43cc-aac1-73c2faaff10a",
   "metadata": {},
   "outputs": [
    {
     "name": "stdout",
     "output_type": "stream",
     "text": [
      "\n",
      "Model : LR\n",
      "----------------------------------------\n",
      "Average Error : 123190.02\n",
      "Standard Deviation of Error : 6445.18\n",
      "Average R2-Score : 0.77\n",
      "Standard Deviation of R2-Score : 0.01\n",
      "\n",
      "Model : KNN\n",
      "----------------------------------------\n",
      "Average Error : 115572.16\n",
      "Standard Deviation of Error : 3883.19\n",
      "Average R2-Score : 0.79\n",
      "Standard Deviation of R2-Score : 0.00\n",
      "\n",
      "Model : DT\n",
      "----------------------------------------\n",
      "Average Error : 118466.64\n",
      "Standard Deviation of Error : 4490.62\n",
      "Average R2-Score : 0.76\n",
      "Standard Deviation of R2-Score : 0.03\n",
      "\n",
      "Model : RF\n",
      "----------------------------------------\n",
      "Average Error : 90811.20\n",
      "Standard Deviation of Error : 2335.09\n",
      "Average R2-Score : 0.86\n",
      "Standard Deviation of R2-Score : 0.01\n",
      "\n",
      "Model : GB\n",
      "----------------------------------------\n",
      "Average Error : 98056.52\n",
      "Standard Deviation of Error : 3001.29\n",
      "Average R2-Score : 0.85\n",
      "Standard Deviation of R2-Score : 0.01\n",
      "\n",
      "Model : XGB\n",
      "----------------------------------------\n",
      "Average Error : 91595.94\n",
      "Standard Deviation of Error : 2640.02\n",
      "Average R2-Score : 0.86\n",
      "Standard Deviation of R2-Score : 0.02\n"
     ]
    }
   ],
   "source": [
    "# Computing Average Error and R2-Score through Cross-Validation\n",
    "results = {}\n",
    "\n",
    "for name, model in models.items():\n",
    "    \n",
    "    pipe = Pipeline(steps=[\n",
    "        ('preprocessor', ctf),\n",
    "        ('model', model)\n",
    "    ])\n",
    "\n",
    "    k = KFold(n_splits=5, shuffle=True, random_state=42)\n",
    "\n",
    "    cv_results = cross_validate(estimator=pipe, X=X_train, y=y_train, cv=k, scoring={'mae':'neg_mean_absolute_error','r2':'r2'}, n_jobs=-1, return_train_score=False)\n",
    "\n",
    "    results[name] = {'avg_error': -cv_results['test_mae'].mean(),'avg_score': cv_results['test_r2'].mean()}\n",
    "\n",
    "    print()\n",
    "    print(f'Model : {name}')\n",
    "    print('-'*40)\n",
    "    print(f'Average Error : {-cv_results['test_mae'].mean():.2f}')\n",
    "    print(f'Standard Deviation of Error : {cv_results['test_mae'].std():.2f}')\n",
    "    print(f'Average R2-Score : {cv_results['test_r2'].mean():.2f}')\n",
    "    print(f'Standard Deviation of R2-Score : {cv_results['test_r2'].std():.2f}')"
   ]
  },
  {
   "cell_type": "code",
   "execution_count": 27,
   "id": "e9db04bb-a4a2-48e4-9b96-5bab6b33a89a",
   "metadata": {},
   "outputs": [
    {
     "data": {
      "image/png": "[encoded data removed]",
      "text/plain": [
       "<Figure size 1200x800 with 2 Axes>"
      ]
     },
     "metadata": {},
     "output_type": "display_data"
    }
   ],
   "source": [
    "# Plotting Metric Comparision Graph\n",
    "results_df = pd.DataFrame(results)\n",
    "\n",
    "fig, ax = plt.subplots(ncols=1, nrows=2, figsize=(12,8))\n",
    "\n",
    "sns.barplot(x=results_df.iloc[0,:].sort_values().index.to_list(), y=results_df.iloc[0,:].sort_values().values, ax=ax[0])\n",
    "ax[0].set_title('Average Error Comparision (Lower is Better)')\n",
    "ax[0].set_ylabel('Error')\n",
    "for container in ax[0].containers:\n",
    "    ax[0].bar_label(container, fmt='%.0f')\n",
    "\n",
    "sns.barplot(x=results_df.iloc[1,:].sort_values().index.to_list(), y=results_df.iloc[1,:].sort_values().values, ax=ax[1])\n",
    "ax[1].set_title('Average R2-Score Comparision (Higher is Better)')\n",
    "ax[1].set_ylabel('R2-Score')\n",
    "for container in ax[1].containers:\n",
    "    ax[1].bar_label(container, fmt='%.2f')\n",
    "\n",
    "plt.tight_layout()\n",
    "plt.show()"
   ]
  },
  {
   "cell_type": "markdown",
   "id": "e061c722-33a4-4304-9bfd-61eb32ed4974",
   "metadata": {},
   "source": [
    "### Creating Stacking Regressor\n",
    "\n",
    "---"
   ]
  },
  {
   "cell_type": "markdown",
   "id": "496b31e7-e4e3-4309-b584-c54c10535f44",
   "metadata": {},
   "source": [
    "- The above graph shows model performance based on average error (lower is better) and average R2-Score (higher is better).\n",
    "- RandomForestRegressor, XGBRegressor and GradientBoostingRegressor are the top-performing models :\n",
    "    - RF has the lowest error and highest R2-Score.\n",
    "    - XGB and GB also closely follows with strong performance on both metrics.\n",
    "- To leverage their strengths, I used (RF + XGB + GB) as base models in a StackingRegressor because :\n",
    "    - RF handles non-linearities and interactions effectively.\n",
    "    - XGB and GB excel in reducing bias and variance, boosting predictive power.\n",
    "    - Combining these models captures a wider range of patterns in the data.\n",
    "- ElasticNet is used as the final estimator because :\n",
    "    - It combines L1 and L2 regularization, improving generalization and reducing overfitting.\n",
    "- This stacked approach results in a more robust and accurate predictive model."
   ]
  },
  {
   "cell_type": "code",
   "execution_count": 28,
   "id": "4df48f1f-cd79-41d5-a481-b166b20d4947",
   "metadata": {},
   "outputs": [],
   "source": [
    "# Creating Object of the Models\n",
    "rf = RandomForestRegressor(random_state=42, n_jobs=-1)\n",
    "gb = GradientBoostingRegressor(random_state=42)\n",
    "xgb = XGBRegressor(random_state=42, n_jobs=-1)\n",
    "meta_model = ElasticNet(max_iter=10000, random_state=42)"
   ]
  },
  {
   "cell_type": "code",
   "execution_count": 29,
   "id": "a8da1364-157e-4f7d-93b8-8d7f2270c3ba",
   "metadata": {},
   "outputs": [],
   "source": [
    "# Assigning Base Model for StackingRegressor\n",
    "base_model = [('rf', rf),('xgb', xgb),('gb', gb)]"
   ]
  },
  {
   "cell_type": "code",
   "execution_count": 30,
   "id": "a548d040-3684-41b8-9c12-b18fcfcba9de",
   "metadata": {},
   "outputs": [],
   "source": [
    "# Structure of StackingRegressor\n",
    "stack = StackingRegressor(\n",
    "    estimators=base_model, \n",
    "    final_estimator=meta_model, \n",
    "    passthrough=False, \n",
    "    cv=k, n_jobs=-1\n",
    ")"
   ]
  },
  {
   "cell_type": "code",
   "execution_count": 31,
   "id": "b0c712f5-4270-44b4-9fd2-7086f64f238b",
   "metadata": {},
   "outputs": [],
   "source": [
    "# Final Pipeline with StackingRegressor\n",
    "pipe = Pipeline(steps=[\n",
    "    ('preprocessor', ctf), \n",
    "    ('model', stack) \n",
    "])"
   ]
  },
  {
   "cell_type": "code",
   "execution_count": 32,
   "id": "53aaacf1-8e11-4cfe-99c0-f7e9a086bcf4",
   "metadata": {},
   "outputs": [
    {
     "name": "stdout",
     "output_type": "stream",
     "text": [
      "Average Error : 87885.34\n",
      "Standard Deviatacion of Error : 1279.54\n",
      "Average R2-Score : 0.87\n",
      "Standard Deviation of R2-Score : 0.01\n"
     ]
    }
   ],
   "source": [
    "# Average Error and R2-Score through Cross-Validation\n",
    "cv_results = cross_validate(estimator=pipe, X=X_train, y=y_train, cv=k, scoring={'mae':'neg_mean_absolute_error','r2':'r2'}, n_jobs=-1)\n",
    "print(f\"Average Error : {-cv_results['test_mae'].mean():.2f}\")\n",
    "print(f\"Standard Deviatacion of Error : {cv_results['test_mae'].std():.2f}\")\n",
    "print(f\"Average R2-Score : {cv_results['test_r2'].mean():.2f}\")\n",
    "print(f\"Standard Deviation of R2-Score : {cv_results['test_r2'].std():.2f}\")"
   ]
  },
  {
   "cell_type": "markdown",
   "id": "5b9898e1-cb52-40f6-aa3a-4af6fbd0f0f5",
   "metadata": {},
   "source": [
    "- StackingRegressor is clearly outperforming all the individual models we tested earlier.\n",
    "- The stacked ensemble model (RF + XGB + GB + ElasticNet) improved performance over base models, achieving the lowest average error of ₹87,885.\n",
    "- It's also quite consistent, with the lowest average standard deviation of error (₹1,279), clearly beating all standalone models.\n",
    "- It's also very strong and stable in explaining variance in the data with an average R2-Score of 0.87, on par with top models like RF and XGB."
   ]
  }
 ],
 "metadata": {
  "kernelspec": {
   "display_name": "Python 3 (ipykernel)",
   "language": "python",
   "name": "python3"
  },
  "language_info": {
   "codemirror_mode": {
    "name": "ipython",
    "version": 3
   },
   "file_extension": ".py",
   "mimetype": "text/x-python",
   "name": "python",
   "nbconvert_exporter": "python",
   "pygments_lexer": "ipython3",
   "version": "3.13.0"
  }
 },
 "nbformat": 4,
 "nbformat_minor": 5
}
