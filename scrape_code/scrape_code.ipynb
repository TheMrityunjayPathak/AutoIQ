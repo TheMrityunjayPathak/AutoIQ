{
 "cells": [
  {
   "cell_type": "markdown",
   "id": "c193312a-fccc-4238-a13c-d9f4efaf9117",
   "metadata": {},
   "source": [
    "### Importing Libraries\n",
    "\n",
    "---"
   ]
  },
  {
   "cell_type": "code",
   "execution_count": 1,
   "id": "749244de-1044-4df7-a81f-e06ea924ba31",
   "metadata": {},
   "outputs": [],
   "source": [
    "import os\n",
    "import sys\n",
    "import time\n",
    "import random\n",
    "import requests\n",
    "import numpy as np\n",
    "import pandas as pd\n",
    "from bs4 import BeautifulSoup\n",
    "from selenium import webdriver\n",
    "from selenium.webdriver.chrome.service import Service\n",
    "from webdriver_manager.chrome import ChromeDriverManager"
   ]
  },
  {
   "cell_type": "markdown",
   "id": "6c87d509-8aa9-412f-975c-b3ffccaf1463",
   "metadata": {},
   "source": [
    "### Adding `utils` to `PYTHONPATH`\n",
    "\n",
    "---"
   ]
  },
  {
   "cell_type": "code",
   "execution_count": 2,
   "id": "56fe42aa-57fc-409f-90bf-e689494b6a44",
   "metadata": {},
   "outputs": [],
   "source": [
    "sys.path.append(os.path.abspath(\"../utils\"))"
   ]
  },
  {
   "cell_type": "markdown",
   "id": "f662071d-9024-48eb-9965-ace4d407ee80",
   "metadata": {},
   "source": [
    "### Scraping `Cars24` Website\n",
    "\n",
    "---"
   ]
  },
  {
   "cell_type": "code",
   "execution_count": 3,
   "id": "852a077d-0c65-466e-b0b3-4d533947a6f8",
   "metadata": {},
   "outputs": [],
   "source": [
    "# Importing \"scrape_car_listing\" and \"get_car_details\" function from web_scraping module\n",
    "from web_scraping import scrape_car_listing, get_car_details"
   ]
  },
  {
   "cell_type": "code",
   "execution_count": 4,
   "id": "1919741e-358e-4c62-8fc9-703f8636a50e",
   "metadata": {},
   "outputs": [],
   "source": [
    "# Parsing HTML Content of Hyderabad City from Cars24 Website\n",
    "soup = scrape_car_listing('https://www.cars24.com/buy-used-cars-hyderabad/')"
   ]
  },
  {
   "cell_type": "code",
   "execution_count": 5,
   "id": "9b7c25f3-7717-4f74-9928-216731e43312",
   "metadata": {},
   "outputs": [],
   "source": [
    "# Extracting and Saving Car Details of Hyderabad City into a DataFrame\n",
    "hyderabad = get_car_details(soup)"
   ]
  },
  {
   "cell_type": "code",
   "execution_count": 6,
   "id": "da8acd5c-0b45-49d4-884b-d24eceba0f08",
   "metadata": {},
   "outputs": [],
   "source": [
    "# Parsing HTML Content of Bangalore City from Cars24 Website\n",
    "soup = scrape_car_listing('https://www.cars24.com/buy-used-cars-bangalore/')"
   ]
  },
  {
   "cell_type": "code",
   "execution_count": 7,
   "id": "fc5caa92-9a76-496a-8681-ca4fa82cf26b",
   "metadata": {},
   "outputs": [],
   "source": [
    "# Extracting and Saving Car Details of Bangalore City into a DataFrame\n",
    "bangalore = get_car_details(soup)"
   ]
  },
  {
   "cell_type": "code",
   "execution_count": 8,
   "id": "d9e02b9a-3e5a-4f2e-9f2b-5a1e0d89d14a",
   "metadata": {},
   "outputs": [],
   "source": [
    "# Parsing HTML Content of Mumbai City from Cars24 Website\n",
    "soup = scrape_car_listing('https://www.cars24.com/buy-used-cars-mumbai/')"
   ]
  },
  {
   "cell_type": "code",
   "execution_count": 9,
   "id": "7e9a547b-3cde-430b-a99c-38e5d802cebf",
   "metadata": {},
   "outputs": [],
   "source": [
    "# Extracting and Saving Car Details of Mumbai City into a DataFrame\n",
    "mumbai = get_car_details(soup)"
   ]
  },
  {
   "cell_type": "code",
   "execution_count": 10,
   "id": "e53e7f73-2725-4488-a352-154e336fff4b",
   "metadata": {},
   "outputs": [],
   "source": [
    "# Parsing HTML Content of Delhi City from Cars24 Website\n",
    "soup = scrape_car_listing('https://www.cars24.com/buy-used-cars-delhi-ncr/')"
   ]
  },
  {
   "cell_type": "code",
   "execution_count": 11,
   "id": "0807bb83-87d5-4d15-be1e-77b26eb0cca1",
   "metadata": {},
   "outputs": [],
   "source": [
    "# Extracting and Saving Car Details of Delhi City into a DataFrame\n",
    "delhi = get_car_details(soup)"
   ]
  },
  {
   "cell_type": "code",
   "execution_count": 12,
   "id": "9780dd84-92d3-4e22-ae9a-cee8ba8cb741",
   "metadata": {},
   "outputs": [
    {
     "data": {
      "text/html": [
       "<div>\n",
       "<style scoped>\n",
       "    .dataframe tbody tr th:only-of-type {\n",
       "        vertical-align: middle;\n",
       "    }\n",
       "\n",
       "    .dataframe tbody tr th {\n",
       "        vertical-align: top;\n",
       "    }\n",
       "\n",
       "    .dataframe thead th {\n",
       "        text-align: right;\n",
       "    }\n",
       "</style>\n",
       "<table border=\"1\" class=\"dataframe\">\n",
       "  <thead>\n",
       "    <tr style=\"text-align: right;\">\n",
       "      <th></th>\n",
       "      <th>model_name</th>\n",
       "      <th>km_driven</th>\n",
       "      <th>fuel_type</th>\n",
       "      <th>transmission</th>\n",
       "      <th>owner</th>\n",
       "      <th>price</th>\n",
       "      <th>link</th>\n",
       "    </tr>\n",
       "  </thead>\n",
       "  <tbody>\n",
       "    <tr>\n",
       "      <th>0</th>\n",
       "      <td>2012 Maruti Wagon R 1.0</td>\n",
       "      <td>88.76k km</td>\n",
       "      <td>Petrol</td>\n",
       "      <td>Manual</td>\n",
       "      <td>1st owner</td>\n",
       "      <td>₹2.19 lakh</td>\n",
       "      <td>https://www.cars24.com/buy-used-maruti-wagon-r...</td>\n",
       "    </tr>\n",
       "    <tr>\n",
       "      <th>1</th>\n",
       "      <td>2016 Maruti Alto 800</td>\n",
       "      <td>17.92k km</td>\n",
       "      <td>Petrol</td>\n",
       "      <td>Manual</td>\n",
       "      <td>1st owner</td>\n",
       "      <td>₹2.66 lakh</td>\n",
       "      <td>https://www.cars24.com/buy-used-maruti-alto-80...</td>\n",
       "    </tr>\n",
       "    <tr>\n",
       "      <th>2</th>\n",
       "      <td>2014 Maruti Ertiga</td>\n",
       "      <td>9.94k km</td>\n",
       "      <td>Petrol</td>\n",
       "      <td>Manual</td>\n",
       "      <td>1st owner</td>\n",
       "      <td>₹4.96 lakh</td>\n",
       "      <td>https://www.cars24.com/buy-used-maruti-ertiga-...</td>\n",
       "    </tr>\n",
       "    <tr>\n",
       "      <th>3</th>\n",
       "      <td>2016 Tata Tiago</td>\n",
       "      <td>67.34k km</td>\n",
       "      <td>Petrol</td>\n",
       "      <td>Manual</td>\n",
       "      <td>2nd owner</td>\n",
       "      <td>₹3.55 lakh</td>\n",
       "      <td>https://www.cars24.com/buy-used-tata-tiago-201...</td>\n",
       "    </tr>\n",
       "    <tr>\n",
       "      <th>4</th>\n",
       "      <td>2023 Maruti New Wagon-R</td>\n",
       "      <td>30.39k km</td>\n",
       "      <td>Petrol</td>\n",
       "      <td>Manual</td>\n",
       "      <td>1st owner</td>\n",
       "      <td>₹5.30 lakh</td>\n",
       "      <td>https://www.cars24.com/buy-used-maruti-new-wag...</td>\n",
       "    </tr>\n",
       "  </tbody>\n",
       "</table>\n",
       "</div>"
      ],
      "text/plain": [
       "                model_name  km_driven fuel_type transmission      owner  \\\n",
       "0  2012 Maruti Wagon R 1.0  88.76k km    Petrol       Manual  1st owner   \n",
       "1     2016 Maruti Alto 800  17.92k km    Petrol       Manual  1st owner   \n",
       "2       2014 Maruti Ertiga   9.94k km    Petrol       Manual  1st owner   \n",
       "3          2016 Tata Tiago  67.34k km    Petrol       Manual  2nd owner   \n",
       "4  2023 Maruti New Wagon-R  30.39k km    Petrol       Manual  1st owner   \n",
       "\n",
       "        price                                               link  \n",
       "0  ₹2.19 lakh  https://www.cars24.com/buy-used-maruti-wagon-r...  \n",
       "1  ₹2.66 lakh  https://www.cars24.com/buy-used-maruti-alto-80...  \n",
       "2  ₹4.96 lakh  https://www.cars24.com/buy-used-maruti-ertiga-...  \n",
       "3  ₹3.55 lakh  https://www.cars24.com/buy-used-tata-tiago-201...  \n",
       "4  ₹5.30 lakh  https://www.cars24.com/buy-used-maruti-new-wag...  "
      ]
     },
     "execution_count": 12,
     "metadata": {},
     "output_type": "execute_result"
    }
   ],
   "source": [
    "# Concatenating Car Details of Different Cities into Single DataFrame\n",
    "df = pd.concat([hyderabad, bangalore, mumbai, delhi], ignore_index=True)\n",
    "df.head()"
   ]
  },
  {
   "cell_type": "markdown",
   "id": "39c0f741-8b0a-4235-9e81-2e4ce375563c",
   "metadata": {},
   "source": [
    "### Scraping `engine_capacity` Details\n",
    "\n",
    "---"
   ]
  },
  {
   "cell_type": "code",
   "execution_count": 13,
   "id": "d2940cdc-e936-44c5-96ce-61eba66e97d6",
   "metadata": {},
   "outputs": [],
   "source": [
    "# Importing \"get_engine_capacity\" function from web_scraping module\n",
    "from web_scraping import get_engine_capacity"
   ]
  },
  {
   "cell_type": "code",
   "execution_count": 14,
   "id": "80921c82-6df7-4e3e-9d6b-2b544a029c8f",
   "metadata": {},
   "outputs": [],
   "source": [
    "# Extracting engine capacity of each car using its car listing link of Cars24 Website\n",
    "engine_capacity = get_engine_capacity(df['link'])"
   ]
  },
  {
   "cell_type": "code",
   "execution_count": 15,
   "id": "27e87fa5-3a45-4a53-9999-c5c369439196",
   "metadata": {},
   "outputs": [],
   "source": [
    "# Adding \"engine_capacity\" column in the DataFrame\n",
    "df['engine_capacity'] = engine_capacity"
   ]
  },
  {
   "cell_type": "code",
   "execution_count": 16,
   "id": "7a0a1cd9-38fa-40c4-8a4f-fc645ce0d853",
   "metadata": {},
   "outputs": [
    {
     "data": {
      "text/html": [
       "<div>\n",
       "<style scoped>\n",
       "    .dataframe tbody tr th:only-of-type {\n",
       "        vertical-align: middle;\n",
       "    }\n",
       "\n",
       "    .dataframe tbody tr th {\n",
       "        vertical-align: top;\n",
       "    }\n",
       "\n",
       "    .dataframe thead th {\n",
       "        text-align: right;\n",
       "    }\n",
       "</style>\n",
       "<table border=\"1\" class=\"dataframe\">\n",
       "  <thead>\n",
       "    <tr style=\"text-align: right;\">\n",
       "      <th></th>\n",
       "      <th>model_name</th>\n",
       "      <th>km_driven</th>\n",
       "      <th>fuel_type</th>\n",
       "      <th>transmission</th>\n",
       "      <th>owner</th>\n",
       "      <th>price</th>\n",
       "      <th>link</th>\n",
       "      <th>engine_capacity</th>\n",
       "    </tr>\n",
       "  </thead>\n",
       "  <tbody>\n",
       "    <tr>\n",
       "      <th>0</th>\n",
       "      <td>2012 Maruti Wagon R 1.0</td>\n",
       "      <td>88.76k km</td>\n",
       "      <td>Petrol</td>\n",
       "      <td>Manual</td>\n",
       "      <td>1st owner</td>\n",
       "      <td>₹2.19 lakh</td>\n",
       "      <td>https://www.cars24.com/buy-used-maruti-wagon-r...</td>\n",
       "      <td>998cc</td>\n",
       "    </tr>\n",
       "    <tr>\n",
       "      <th>1</th>\n",
       "      <td>2016 Maruti Alto 800</td>\n",
       "      <td>17.92k km</td>\n",
       "      <td>Petrol</td>\n",
       "      <td>Manual</td>\n",
       "      <td>1st owner</td>\n",
       "      <td>₹2.66 lakh</td>\n",
       "      <td>https://www.cars24.com/buy-used-maruti-alto-80...</td>\n",
       "      <td>796cc</td>\n",
       "    </tr>\n",
       "    <tr>\n",
       "      <th>2</th>\n",
       "      <td>2014 Maruti Ertiga</td>\n",
       "      <td>9.94k km</td>\n",
       "      <td>Petrol</td>\n",
       "      <td>Manual</td>\n",
       "      <td>1st owner</td>\n",
       "      <td>₹4.96 lakh</td>\n",
       "      <td>https://www.cars24.com/buy-used-maruti-ertiga-...</td>\n",
       "      <td>1373cc</td>\n",
       "    </tr>\n",
       "    <tr>\n",
       "      <th>3</th>\n",
       "      <td>2016 Tata Tiago</td>\n",
       "      <td>67.34k km</td>\n",
       "      <td>Petrol</td>\n",
       "      <td>Manual</td>\n",
       "      <td>2nd owner</td>\n",
       "      <td>₹3.55 lakh</td>\n",
       "      <td>https://www.cars24.com/buy-used-tata-tiago-201...</td>\n",
       "      <td>1199cc</td>\n",
       "    </tr>\n",
       "    <tr>\n",
       "      <th>4</th>\n",
       "      <td>2023 Maruti New Wagon-R</td>\n",
       "      <td>30.39k km</td>\n",
       "      <td>Petrol</td>\n",
       "      <td>Manual</td>\n",
       "      <td>1st owner</td>\n",
       "      <td>₹5.30 lakh</td>\n",
       "      <td>https://www.cars24.com/buy-used-maruti-new-wag...</td>\n",
       "      <td>998cc</td>\n",
       "    </tr>\n",
       "  </tbody>\n",
       "</table>\n",
       "</div>"
      ],
      "text/plain": [
       "                model_name  km_driven fuel_type transmission      owner  \\\n",
       "0  2012 Maruti Wagon R 1.0  88.76k km    Petrol       Manual  1st owner   \n",
       "1     2016 Maruti Alto 800  17.92k km    Petrol       Manual  1st owner   \n",
       "2       2014 Maruti Ertiga   9.94k km    Petrol       Manual  1st owner   \n",
       "3          2016 Tata Tiago  67.34k km    Petrol       Manual  2nd owner   \n",
       "4  2023 Maruti New Wagon-R  30.39k km    Petrol       Manual  1st owner   \n",
       "\n",
       "        price                                               link  \\\n",
       "0  ₹2.19 lakh  https://www.cars24.com/buy-used-maruti-wagon-r...   \n",
       "1  ₹2.66 lakh  https://www.cars24.com/buy-used-maruti-alto-80...   \n",
       "2  ₹4.96 lakh  https://www.cars24.com/buy-used-maruti-ertiga-...   \n",
       "3  ₹3.55 lakh  https://www.cars24.com/buy-used-tata-tiago-201...   \n",
       "4  ₹5.30 lakh  https://www.cars24.com/buy-used-maruti-new-wag...   \n",
       "\n",
       "  engine_capacity  \n",
       "0           998cc  \n",
       "1           796cc  \n",
       "2          1373cc  \n",
       "3          1199cc  \n",
       "4           998cc  "
      ]
     },
     "execution_count": 16,
     "metadata": {},
     "output_type": "execute_result"
    }
   ],
   "source": [
    "# Final DataFrame after Web Scrapping\n",
    "df.head()"
   ]
  },
  {
   "cell_type": "markdown",
   "id": "f1967036-a1c1-4efd-9cf4-3ffb0f9fddc9",
   "metadata": {},
   "source": [
    "### Exporting Final DataFrame as CSV File\n",
    "\n",
    "---"
   ]
  },
  {
   "cell_type": "code",
   "execution_count": 17,
   "id": "ab7d9b9f-f281-40f9-ad41-6c889ef28a88",
   "metadata": {},
   "outputs": [],
   "source": [
    "# Importing \"export_as_csv\" function from export_data module\n",
    "from export_data import export_as_csv"
   ]
  },
  {
   "cell_type": "code",
   "execution_count": 19,
   "id": "83d30ebb-d41f-4e1f-827a-4caf00d3911b",
   "metadata": {},
   "outputs": [
    {
     "name": "stdout",
     "output_type": "stream",
     "text": [
      "Successfully exported the DataFrame as 'scrape_data.csv'\n"
     ]
    }
   ],
   "source": [
    "# Exporting Final DataFrame as CSV File\n",
    "export_as_csv(df, 'scrape_data', 'scrape_data.csv')"
   ]
  }
 ],
 "metadata": {
  "kernelspec": {
   "display_name": "Python 3 (ipykernel)",
   "language": "python",
   "name": "python3"
  },
  "language_info": {
   "codemirror_mode": {
    "name": "ipython",
    "version": 3
   },
   "file_extension": ".py",
   "mimetype": "text/x-python",
   "name": "python",
   "nbconvert_exporter": "python",
   "pygments_lexer": "ipython3",
   "version": "3.13.0"
  }
 },
 "nbformat": 4,
 "nbformat_minor": 5
}
